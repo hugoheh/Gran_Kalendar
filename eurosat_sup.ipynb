{
  "nbformat": 4,
  "nbformat_minor": 0,
  "metadata": {
    "colab": {
      "name": "eurosat_sup.ipynb",
      "provenance": [],
      "include_colab_link": true
    },
    "kernelspec": {
      "name": "python3",
      "display_name": "Python 3"
    },
    "language_info": {
      "name": "python"
    },
    "accelerator": "GPU"
  },
  "cells": [
    {
      "cell_type": "markdown",
      "metadata": {
        "id": "view-in-github",
        "colab_type": "text"
      },
      "source": [
        "<a href=\"https://colab.research.google.com/github/hugoheh/Gran_Kalendar/blob/main/eurosat_sup.ipynb\" target=\"_parent\"><img src=\"https://colab.research.google.com/assets/colab-badge.svg\" alt=\"Open In Colab\"/></a>"
      ]
    },
    {
      "cell_type": "code",
      "source": [
        "from google.colab import drive\n",
        "drive.mount('/content/drive')"
      ],
      "metadata": {
        "colab": {
          "base_uri": "https://localhost:8080/"
        },
        "id": "HiyRfL01ky6r",
        "outputId": "84572381-bc19-4514-f206-f9c657f5965a"
      },
      "execution_count": 1,
      "outputs": [
        {
          "output_type": "stream",
          "name": "stdout",
          "text": [
            "Mounted at /content/drive\n"
          ]
        }
      ]
    },
    {
      "cell_type": "code",
      "source": [
        "!pip install wandb\n",
        "import wandb\n",
        "wandb.init()"
      ],
      "metadata": {
        "colab": {
          "base_uri": "https://localhost:8080/",
          "height": 1000
        },
        "id": "vRw5uUp8k1ph",
        "outputId": "a1f5366d-4e58-45ee-f09b-87a0d65a917e"
      },
      "execution_count": 2,
      "outputs": [
        {
          "output_type": "stream",
          "name": "stdout",
          "text": [
            "Collecting wandb\n",
            "  Downloading wandb-0.12.9-py2.py3-none-any.whl (1.7 MB)\n",
            "\u001b[?25l\r\u001b[K     |▏                               | 10 kB 33.1 MB/s eta 0:00:01\r\u001b[K     |▍                               | 20 kB 17.4 MB/s eta 0:00:01\r\u001b[K     |▋                               | 30 kB 14.4 MB/s eta 0:00:01\r\u001b[K     |▊                               | 40 kB 13.2 MB/s eta 0:00:01\r\u001b[K     |█                               | 51 kB 7.0 MB/s eta 0:00:01\r\u001b[K     |█▏                              | 61 kB 7.5 MB/s eta 0:00:01\r\u001b[K     |█▍                              | 71 kB 7.2 MB/s eta 0:00:01\r\u001b[K     |█▌                              | 81 kB 8.0 MB/s eta 0:00:01\r\u001b[K     |█▊                              | 92 kB 8.6 MB/s eta 0:00:01\r\u001b[K     |██                              | 102 kB 6.9 MB/s eta 0:00:01\r\u001b[K     |██                              | 112 kB 6.9 MB/s eta 0:00:01\r\u001b[K     |██▎                             | 122 kB 6.9 MB/s eta 0:00:01\r\u001b[K     |██▌                             | 133 kB 6.9 MB/s eta 0:00:01\r\u001b[K     |██▊                             | 143 kB 6.9 MB/s eta 0:00:01\r\u001b[K     |██▉                             | 153 kB 6.9 MB/s eta 0:00:01\r\u001b[K     |███                             | 163 kB 6.9 MB/s eta 0:00:01\r\u001b[K     |███▎                            | 174 kB 6.9 MB/s eta 0:00:01\r\u001b[K     |███▍                            | 184 kB 6.9 MB/s eta 0:00:01\r\u001b[K     |███▋                            | 194 kB 6.9 MB/s eta 0:00:01\r\u001b[K     |███▉                            | 204 kB 6.9 MB/s eta 0:00:01\r\u001b[K     |████                            | 215 kB 6.9 MB/s eta 0:00:01\r\u001b[K     |████▏                           | 225 kB 6.9 MB/s eta 0:00:01\r\u001b[K     |████▍                           | 235 kB 6.9 MB/s eta 0:00:01\r\u001b[K     |████▋                           | 245 kB 6.9 MB/s eta 0:00:01\r\u001b[K     |████▉                           | 256 kB 6.9 MB/s eta 0:00:01\r\u001b[K     |█████                           | 266 kB 6.9 MB/s eta 0:00:01\r\u001b[K     |█████▏                          | 276 kB 6.9 MB/s eta 0:00:01\r\u001b[K     |█████▍                          | 286 kB 6.9 MB/s eta 0:00:01\r\u001b[K     |█████▌                          | 296 kB 6.9 MB/s eta 0:00:01\r\u001b[K     |█████▊                          | 307 kB 6.9 MB/s eta 0:00:01\r\u001b[K     |██████                          | 317 kB 6.9 MB/s eta 0:00:01\r\u001b[K     |██████▏                         | 327 kB 6.9 MB/s eta 0:00:01\r\u001b[K     |██████▎                         | 337 kB 6.9 MB/s eta 0:00:01\r\u001b[K     |██████▌                         | 348 kB 6.9 MB/s eta 0:00:01\r\u001b[K     |██████▊                         | 358 kB 6.9 MB/s eta 0:00:01\r\u001b[K     |██████▉                         | 368 kB 6.9 MB/s eta 0:00:01\r\u001b[K     |███████                         | 378 kB 6.9 MB/s eta 0:00:01\r\u001b[K     |███████▎                        | 389 kB 6.9 MB/s eta 0:00:01\r\u001b[K     |███████▌                        | 399 kB 6.9 MB/s eta 0:00:01\r\u001b[K     |███████▋                        | 409 kB 6.9 MB/s eta 0:00:01\r\u001b[K     |███████▉                        | 419 kB 6.9 MB/s eta 0:00:01\r\u001b[K     |████████                        | 430 kB 6.9 MB/s eta 0:00:01\r\u001b[K     |████████▎                       | 440 kB 6.9 MB/s eta 0:00:01\r\u001b[K     |████████▍                       | 450 kB 6.9 MB/s eta 0:00:01\r\u001b[K     |████████▋                       | 460 kB 6.9 MB/s eta 0:00:01\r\u001b[K     |████████▉                       | 471 kB 6.9 MB/s eta 0:00:01\r\u001b[K     |█████████                       | 481 kB 6.9 MB/s eta 0:00:01\r\u001b[K     |█████████▏                      | 491 kB 6.9 MB/s eta 0:00:01\r\u001b[K     |█████████▍                      | 501 kB 6.9 MB/s eta 0:00:01\r\u001b[K     |█████████▋                      | 512 kB 6.9 MB/s eta 0:00:01\r\u001b[K     |█████████▊                      | 522 kB 6.9 MB/s eta 0:00:01\r\u001b[K     |██████████                      | 532 kB 6.9 MB/s eta 0:00:01\r\u001b[K     |██████████▏                     | 542 kB 6.9 MB/s eta 0:00:01\r\u001b[K     |██████████▎                     | 552 kB 6.9 MB/s eta 0:00:01\r\u001b[K     |██████████▌                     | 563 kB 6.9 MB/s eta 0:00:01\r\u001b[K     |██████████▊                     | 573 kB 6.9 MB/s eta 0:00:01\r\u001b[K     |███████████                     | 583 kB 6.9 MB/s eta 0:00:01\r\u001b[K     |███████████                     | 593 kB 6.9 MB/s eta 0:00:01\r\u001b[K     |███████████▎                    | 604 kB 6.9 MB/s eta 0:00:01\r\u001b[K     |███████████▌                    | 614 kB 6.9 MB/s eta 0:00:01\r\u001b[K     |███████████▋                    | 624 kB 6.9 MB/s eta 0:00:01\r\u001b[K     |███████████▉                    | 634 kB 6.9 MB/s eta 0:00:01\r\u001b[K     |████████████                    | 645 kB 6.9 MB/s eta 0:00:01\r\u001b[K     |████████████▎                   | 655 kB 6.9 MB/s eta 0:00:01\r\u001b[K     |████████████▍                   | 665 kB 6.9 MB/s eta 0:00:01\r\u001b[K     |████████████▋                   | 675 kB 6.9 MB/s eta 0:00:01\r\u001b[K     |████████████▉                   | 686 kB 6.9 MB/s eta 0:00:01\r\u001b[K     |█████████████                   | 696 kB 6.9 MB/s eta 0:00:01\r\u001b[K     |█████████████▏                  | 706 kB 6.9 MB/s eta 0:00:01\r\u001b[K     |█████████████▍                  | 716 kB 6.9 MB/s eta 0:00:01\r\u001b[K     |█████████████▋                  | 727 kB 6.9 MB/s eta 0:00:01\r\u001b[K     |█████████████▊                  | 737 kB 6.9 MB/s eta 0:00:01\r\u001b[K     |██████████████                  | 747 kB 6.9 MB/s eta 0:00:01\r\u001b[K     |██████████████▏                 | 757 kB 6.9 MB/s eta 0:00:01\r\u001b[K     |██████████████▍                 | 768 kB 6.9 MB/s eta 0:00:01\r\u001b[K     |██████████████▌                 | 778 kB 6.9 MB/s eta 0:00:01\r\u001b[K     |██████████████▊                 | 788 kB 6.9 MB/s eta 0:00:01\r\u001b[K     |███████████████                 | 798 kB 6.9 MB/s eta 0:00:01\r\u001b[K     |███████████████                 | 808 kB 6.9 MB/s eta 0:00:01\r\u001b[K     |███████████████▎                | 819 kB 6.9 MB/s eta 0:00:01\r\u001b[K     |███████████████▌                | 829 kB 6.9 MB/s eta 0:00:01\r\u001b[K     |███████████████▊                | 839 kB 6.9 MB/s eta 0:00:01\r\u001b[K     |███████████████▉                | 849 kB 6.9 MB/s eta 0:00:01\r\u001b[K     |████████████████                | 860 kB 6.9 MB/s eta 0:00:01\r\u001b[K     |████████████████▎               | 870 kB 6.9 MB/s eta 0:00:01\r\u001b[K     |████████████████▌               | 880 kB 6.9 MB/s eta 0:00:01\r\u001b[K     |████████████████▋               | 890 kB 6.9 MB/s eta 0:00:01\r\u001b[K     |████████████████▉               | 901 kB 6.9 MB/s eta 0:00:01\r\u001b[K     |█████████████████               | 911 kB 6.9 MB/s eta 0:00:01\r\u001b[K     |█████████████████▏              | 921 kB 6.9 MB/s eta 0:00:01\r\u001b[K     |█████████████████▍              | 931 kB 6.9 MB/s eta 0:00:01\r\u001b[K     |█████████████████▋              | 942 kB 6.9 MB/s eta 0:00:01\r\u001b[K     |█████████████████▉              | 952 kB 6.9 MB/s eta 0:00:01\r\u001b[K     |██████████████████              | 962 kB 6.9 MB/s eta 0:00:01\r\u001b[K     |██████████████████▏             | 972 kB 6.9 MB/s eta 0:00:01\r\u001b[K     |██████████████████▍             | 983 kB 6.9 MB/s eta 0:00:01\r\u001b[K     |██████████████████▌             | 993 kB 6.9 MB/s eta 0:00:01\r\u001b[K     |██████████████████▊             | 1.0 MB 6.9 MB/s eta 0:00:01\r\u001b[K     |███████████████████             | 1.0 MB 6.9 MB/s eta 0:00:01\r\u001b[K     |███████████████████▏            | 1.0 MB 6.9 MB/s eta 0:00:01\r\u001b[K     |███████████████████▎            | 1.0 MB 6.9 MB/s eta 0:00:01\r\u001b[K     |███████████████████▌            | 1.0 MB 6.9 MB/s eta 0:00:01\r\u001b[K     |███████████████████▊            | 1.1 MB 6.9 MB/s eta 0:00:01\r\u001b[K     |███████████████████▉            | 1.1 MB 6.9 MB/s eta 0:00:01\r\u001b[K     |████████████████████            | 1.1 MB 6.9 MB/s eta 0:00:01\r\u001b[K     |████████████████████▎           | 1.1 MB 6.9 MB/s eta 0:00:01\r\u001b[K     |████████████████████▌           | 1.1 MB 6.9 MB/s eta 0:00:01\r\u001b[K     |████████████████████▋           | 1.1 MB 6.9 MB/s eta 0:00:01\r\u001b[K     |████████████████████▉           | 1.1 MB 6.9 MB/s eta 0:00:01\r\u001b[K     |█████████████████████           | 1.1 MB 6.9 MB/s eta 0:00:01\r\u001b[K     |█████████████████████▎          | 1.1 MB 6.9 MB/s eta 0:00:01\r\u001b[K     |█████████████████████▍          | 1.1 MB 6.9 MB/s eta 0:00:01\r\u001b[K     |█████████████████████▋          | 1.2 MB 6.9 MB/s eta 0:00:01\r\u001b[K     |█████████████████████▉          | 1.2 MB 6.9 MB/s eta 0:00:01\r\u001b[K     |██████████████████████          | 1.2 MB 6.9 MB/s eta 0:00:01\r\u001b[K     |██████████████████████▏         | 1.2 MB 6.9 MB/s eta 0:00:01\r\u001b[K     |██████████████████████▍         | 1.2 MB 6.9 MB/s eta 0:00:01\r\u001b[K     |██████████████████████▋         | 1.2 MB 6.9 MB/s eta 0:00:01\r\u001b[K     |██████████████████████▊         | 1.2 MB 6.9 MB/s eta 0:00:01\r\u001b[K     |███████████████████████         | 1.2 MB 6.9 MB/s eta 0:00:01\r\u001b[K     |███████████████████████▏        | 1.2 MB 6.9 MB/s eta 0:00:01\r\u001b[K     |███████████████████████▎        | 1.2 MB 6.9 MB/s eta 0:00:01\r\u001b[K     |███████████████████████▌        | 1.3 MB 6.9 MB/s eta 0:00:01\r\u001b[K     |███████████████████████▊        | 1.3 MB 6.9 MB/s eta 0:00:01\r\u001b[K     |████████████████████████        | 1.3 MB 6.9 MB/s eta 0:00:01\r\u001b[K     |████████████████████████        | 1.3 MB 6.9 MB/s eta 0:00:01\r\u001b[K     |████████████████████████▎       | 1.3 MB 6.9 MB/s eta 0:00:01\r\u001b[K     |████████████████████████▌       | 1.3 MB 6.9 MB/s eta 0:00:01\r\u001b[K     |████████████████████████▊       | 1.3 MB 6.9 MB/s eta 0:00:01\r\u001b[K     |████████████████████████▉       | 1.3 MB 6.9 MB/s eta 0:00:01\r\u001b[K     |█████████████████████████       | 1.3 MB 6.9 MB/s eta 0:00:01\r\u001b[K     |█████████████████████████▎      | 1.4 MB 6.9 MB/s eta 0:00:01\r\u001b[K     |█████████████████████████▍      | 1.4 MB 6.9 MB/s eta 0:00:01\r\u001b[K     |█████████████████████████▋      | 1.4 MB 6.9 MB/s eta 0:00:01\r\u001b[K     |█████████████████████████▉      | 1.4 MB 6.9 MB/s eta 0:00:01\r\u001b[K     |██████████████████████████      | 1.4 MB 6.9 MB/s eta 0:00:01\r\u001b[K     |██████████████████████████▏     | 1.4 MB 6.9 MB/s eta 0:00:01\r\u001b[K     |██████████████████████████▍     | 1.4 MB 6.9 MB/s eta 0:00:01\r\u001b[K     |██████████████████████████▋     | 1.4 MB 6.9 MB/s eta 0:00:01\r\u001b[K     |██████████████████████████▊     | 1.4 MB 6.9 MB/s eta 0:00:01\r\u001b[K     |███████████████████████████     | 1.4 MB 6.9 MB/s eta 0:00:01\r\u001b[K     |███████████████████████████▏    | 1.5 MB 6.9 MB/s eta 0:00:01\r\u001b[K     |███████████████████████████▍    | 1.5 MB 6.9 MB/s eta 0:00:01\r\u001b[K     |███████████████████████████▌    | 1.5 MB 6.9 MB/s eta 0:00:01\r\u001b[K     |███████████████████████████▊    | 1.5 MB 6.9 MB/s eta 0:00:01\r\u001b[K     |████████████████████████████    | 1.5 MB 6.9 MB/s eta 0:00:01\r\u001b[K     |████████████████████████████▏   | 1.5 MB 6.9 MB/s eta 0:00:01\r\u001b[K     |████████████████████████████▎   | 1.5 MB 6.9 MB/s eta 0:00:01\r\u001b[K     |████████████████████████████▌   | 1.5 MB 6.9 MB/s eta 0:00:01\r\u001b[K     |████████████████████████████▊   | 1.5 MB 6.9 MB/s eta 0:00:01\r\u001b[K     |████████████████████████████▉   | 1.5 MB 6.9 MB/s eta 0:00:01\r\u001b[K     |█████████████████████████████   | 1.6 MB 6.9 MB/s eta 0:00:01\r\u001b[K     |█████████████████████████████▎  | 1.6 MB 6.9 MB/s eta 0:00:01\r\u001b[K     |█████████████████████████████▌  | 1.6 MB 6.9 MB/s eta 0:00:01\r\u001b[K     |█████████████████████████████▋  | 1.6 MB 6.9 MB/s eta 0:00:01\r\u001b[K     |█████████████████████████████▉  | 1.6 MB 6.9 MB/s eta 0:00:01\r\u001b[K     |██████████████████████████████  | 1.6 MB 6.9 MB/s eta 0:00:01\r\u001b[K     |██████████████████████████████▏ | 1.6 MB 6.9 MB/s eta 0:00:01\r\u001b[K     |██████████████████████████████▍ | 1.6 MB 6.9 MB/s eta 0:00:01\r\u001b[K     |██████████████████████████████▋ | 1.6 MB 6.9 MB/s eta 0:00:01\r\u001b[K     |██████████████████████████████▉ | 1.6 MB 6.9 MB/s eta 0:00:01\r\u001b[K     |███████████████████████████████ | 1.7 MB 6.9 MB/s eta 0:00:01\r\u001b[K     |███████████████████████████████▏| 1.7 MB 6.9 MB/s eta 0:00:01\r\u001b[K     |███████████████████████████████▍| 1.7 MB 6.9 MB/s eta 0:00:01\r\u001b[K     |███████████████████████████████▌| 1.7 MB 6.9 MB/s eta 0:00:01\r\u001b[K     |███████████████████████████████▊| 1.7 MB 6.9 MB/s eta 0:00:01\r\u001b[K     |████████████████████████████████| 1.7 MB 6.9 MB/s eta 0:00:01\r\u001b[K     |████████████████████████████████| 1.7 MB 6.9 MB/s \n",
            "\u001b[?25hRequirement already satisfied: promise<3,>=2.0 in /usr/local/lib/python3.7/dist-packages (from wandb) (2.3)\n",
            "Collecting shortuuid>=0.5.0\n",
            "  Downloading shortuuid-1.0.8-py3-none-any.whl (9.5 kB)\n",
            "Requirement already satisfied: protobuf>=3.12.0 in /usr/local/lib/python3.7/dist-packages (from wandb) (3.17.3)\n",
            "Collecting sentry-sdk>=1.0.0\n",
            "  Downloading sentry_sdk-1.5.2-py2.py3-none-any.whl (142 kB)\n",
            "\u001b[K     |████████████████████████████████| 142 kB 71.9 MB/s \n",
            "\u001b[?25hCollecting subprocess32>=3.5.3\n",
            "  Downloading subprocess32-3.5.4.tar.gz (97 kB)\n",
            "\u001b[K     |████████████████████████████████| 97 kB 9.1 MB/s \n",
            "\u001b[?25hCollecting docker-pycreds>=0.4.0\n",
            "  Downloading docker_pycreds-0.4.0-py2.py3-none-any.whl (9.0 kB)\n",
            "Collecting configparser>=3.8.1\n",
            "  Downloading configparser-5.2.0-py3-none-any.whl (19 kB)\n",
            "Requirement already satisfied: requests<3,>=2.0.0 in /usr/local/lib/python3.7/dist-packages (from wandb) (2.23.0)\n",
            "Requirement already satisfied: six>=1.13.0 in /usr/local/lib/python3.7/dist-packages (from wandb) (1.15.0)\n",
            "Requirement already satisfied: PyYAML in /usr/local/lib/python3.7/dist-packages (from wandb) (3.13)\n",
            "Requirement already satisfied: Click!=8.0.0,>=7.0 in /usr/local/lib/python3.7/dist-packages (from wandb) (7.1.2)\n",
            "Collecting GitPython>=1.0.0\n",
            "  Downloading GitPython-3.1.26-py3-none-any.whl (180 kB)\n",
            "\u001b[K     |████████████████████████████████| 180 kB 68.5 MB/s \n",
            "\u001b[?25hRequirement already satisfied: python-dateutil>=2.6.1 in /usr/local/lib/python3.7/dist-packages (from wandb) (2.8.2)\n",
            "Requirement already satisfied: psutil>=5.0.0 in /usr/local/lib/python3.7/dist-packages (from wandb) (5.4.8)\n",
            "Collecting pathtools\n",
            "  Downloading pathtools-0.1.2.tar.gz (11 kB)\n",
            "Collecting yaspin>=1.0.0\n",
            "  Downloading yaspin-2.1.0-py3-none-any.whl (18 kB)\n",
            "Requirement already satisfied: typing-extensions>=3.7.4.3 in /usr/local/lib/python3.7/dist-packages (from GitPython>=1.0.0->wandb) (3.10.0.2)\n",
            "Collecting gitdb<5,>=4.0.1\n",
            "  Downloading gitdb-4.0.9-py3-none-any.whl (63 kB)\n",
            "\u001b[K     |████████████████████████████████| 63 kB 2.3 MB/s \n",
            "\u001b[?25hCollecting smmap<6,>=3.0.1\n",
            "  Downloading smmap-5.0.0-py3-none-any.whl (24 kB)\n",
            "Requirement already satisfied: certifi>=2017.4.17 in /usr/local/lib/python3.7/dist-packages (from requests<3,>=2.0.0->wandb) (2021.10.8)\n",
            "Requirement already satisfied: idna<3,>=2.5 in /usr/local/lib/python3.7/dist-packages (from requests<3,>=2.0.0->wandb) (2.10)\n",
            "Requirement already satisfied: urllib3!=1.25.0,!=1.25.1,<1.26,>=1.21.1 in /usr/local/lib/python3.7/dist-packages (from requests<3,>=2.0.0->wandb) (1.24.3)\n",
            "Requirement already satisfied: chardet<4,>=3.0.2 in /usr/local/lib/python3.7/dist-packages (from requests<3,>=2.0.0->wandb) (3.0.4)\n",
            "Requirement already satisfied: termcolor<2.0.0,>=1.1.0 in /usr/local/lib/python3.7/dist-packages (from yaspin>=1.0.0->wandb) (1.1.0)\n",
            "Building wheels for collected packages: subprocess32, pathtools\n",
            "  Building wheel for subprocess32 (setup.py) ... \u001b[?25l\u001b[?25hdone\n",
            "  Created wheel for subprocess32: filename=subprocess32-3.5.4-py3-none-any.whl size=6502 sha256=eba68acba7645e3d9ef09fc90b68d1abdc0e32d52eda720a6af82d8edf32fa11\n",
            "  Stored in directory: /root/.cache/pip/wheels/50/ca/fa/8fca8d246e64f19488d07567547ddec8eb084e8c0d7a59226a\n",
            "  Building wheel for pathtools (setup.py) ... \u001b[?25l\u001b[?25hdone\n",
            "  Created wheel for pathtools: filename=pathtools-0.1.2-py3-none-any.whl size=8806 sha256=ef7094cbe96fb945f0989bc04c8d94c2ce60f711ed9b7d289c3353a81158310a\n",
            "  Stored in directory: /root/.cache/pip/wheels/3e/31/09/fa59cef12cdcfecc627b3d24273699f390e71828921b2cbba2\n",
            "Successfully built subprocess32 pathtools\n",
            "Installing collected packages: smmap, gitdb, yaspin, subprocess32, shortuuid, sentry-sdk, pathtools, GitPython, docker-pycreds, configparser, wandb\n",
            "Successfully installed GitPython-3.1.26 configparser-5.2.0 docker-pycreds-0.4.0 gitdb-4.0.9 pathtools-0.1.2 sentry-sdk-1.5.2 shortuuid-1.0.8 smmap-5.0.0 subprocess32-3.5.4 wandb-0.12.9 yaspin-2.1.0\n"
          ]
        },
        {
          "output_type": "display_data",
          "data": {
            "application/javascript": [
              "\n",
              "        window._wandbApiKey = new Promise((resolve, reject) => {\n",
              "            function loadScript(url) {\n",
              "            return new Promise(function(resolve, reject) {\n",
              "                let newScript = document.createElement(\"script\");\n",
              "                newScript.onerror = reject;\n",
              "                newScript.onload = resolve;\n",
              "                document.body.appendChild(newScript);\n",
              "                newScript.src = url;\n",
              "            });\n",
              "            }\n",
              "            loadScript(\"https://cdn.jsdelivr.net/npm/postmate/build/postmate.min.js\").then(() => {\n",
              "            const iframe = document.createElement('iframe')\n",
              "            iframe.style.cssText = \"width:0;height:0;border:none\"\n",
              "            document.body.appendChild(iframe)\n",
              "            const handshake = new Postmate({\n",
              "                container: iframe,\n",
              "                url: 'https://wandb.ai/authorize'\n",
              "            });\n",
              "            const timeout = setTimeout(() => reject(\"Couldn't auto authenticate\"), 5000)\n",
              "            handshake.then(function(child) {\n",
              "                child.on('authorize', data => {\n",
              "                    clearTimeout(timeout)\n",
              "                    resolve(data)\n",
              "                });\n",
              "            });\n",
              "            })\n",
              "        });\n",
              "    "
            ],
            "text/plain": [
              "<IPython.core.display.Javascript object>"
            ]
          },
          "metadata": {}
        },
        {
          "output_type": "stream",
          "name": "stderr",
          "text": [
            "\u001b[34m\u001b[1mwandb\u001b[0m: Appending key for api.wandb.ai to your netrc file: /root/.netrc\n"
          ]
        },
        {
          "output_type": "display_data",
          "data": {
            "text/html": [
              "\n",
              "                    Syncing run <strong><a href=\"https://wandb.ai/hugo_heh/uncategorized/runs/2dzpdmcg\" target=\"_blank\">fiery-morning-17</a></strong> to <a href=\"https://wandb.ai/hugo_heh/uncategorized\" target=\"_blank\">Weights & Biases</a> (<a href=\"https://docs.wandb.com/integrations/jupyter.html\" target=\"_blank\">docs</a>).<br/>\n",
              "\n",
              "                "
            ],
            "text/plain": [
              "<IPython.core.display.HTML object>"
            ]
          },
          "metadata": {}
        },
        {
          "output_type": "execute_result",
          "data": {
            "text/plain": [
              "<wandb.sdk.wandb_run.Run at 0x7feffaa893d0>"
            ],
            "text/html": [
              "<button onClick=\"this.nextSibling.style.display='block';this.style.display='none';\">Display W&B run</button><iframe src=\"https://wandb.ai/hugo_heh/uncategorized/runs/2dzpdmcg?jupyter=true\" style=\"border:none;width:100%;height:420px;display:none;\"></iframe>"
            ]
          },
          "metadata": {},
          "execution_count": 2
        }
      ]
    },
    {
      "cell_type": "code",
      "execution_count": 3,
      "metadata": {
        "colab": {
          "base_uri": "https://localhost:8080/"
        },
        "id": "LHy4nzZwJEi_",
        "outputId": "d231b69a-3358-42fd-9653-d2734df27d1d"
      },
      "outputs": [
        {
          "output_type": "stream",
          "name": "stdout",
          "text": [
            "Sun Jan 16 20:33:18 2022       \n",
            "+-----------------------------------------------------------------------------+\n",
            "| NVIDIA-SMI 495.46       Driver Version: 460.32.03    CUDA Version: 11.2     |\n",
            "|-------------------------------+----------------------+----------------------+\n",
            "| GPU  Name        Persistence-M| Bus-Id        Disp.A | Volatile Uncorr. ECC |\n",
            "| Fan  Temp  Perf  Pwr:Usage/Cap|         Memory-Usage | GPU-Util  Compute M. |\n",
            "|                               |                      |               MIG M. |\n",
            "|===============================+======================+======================|\n",
            "|   0  Tesla T4            Off  | 00000000:00:04.0 Off |                    0 |\n",
            "| N/A   56C    P8    10W /  70W |      0MiB / 15109MiB |      0%      Default |\n",
            "|                               |                      |                  N/A |\n",
            "+-------------------------------+----------------------+----------------------+\n",
            "                                                                               \n",
            "+-----------------------------------------------------------------------------+\n",
            "| Processes:                                                                  |\n",
            "|  GPU   GI   CI        PID   Type   Process name                  GPU Memory |\n",
            "|        ID   ID                                                   Usage      |\n",
            "|=============================================================================|\n",
            "|  No running processes found                                                 |\n",
            "+-----------------------------------------------------------------------------+\n"
          ]
        }
      ],
      "source": [
        "gpu_info = !nvidia-smi -i 0\n",
        "gpu_info = '\\n'.join(gpu_info)\n",
        "print(gpu_info)\n",
        "\n",
        "from datetime import datetime\n",
        "from functools import partial\n",
        "from PIL import Image\n",
        "from torch.utils.data import DataLoader\n",
        "from torchvision import transforms\n",
        "from torchvision.models import resnet\n",
        "from tqdm import tqdm\n",
        "import argparse\n",
        "import json\n",
        "import math\n",
        "import os\n",
        "import pandas as pd\n",
        "import torch\n",
        "import torch.nn as nn\n",
        "import torch.nn.functional as F\n",
        "# Yi\n",
        "import numpy as np\n",
        "import zipfile\n",
        "import torchvision\n",
        "\n",
        "from google.colab import files"
      ]
    },
    {
      "cell_type": "code",
      "source": [
        "!wget https://madm.dfki.de/files/sentinel/EuroSAT.zip\n",
        "\n",
        "with zipfile.ZipFile('EuroSAT.zip', 'r') as zip_ref:\n",
        "    zip_ref.extractall('eurosat')"
      ],
      "metadata": {
        "colab": {
          "base_uri": "https://localhost:8080/"
        },
        "id": "c3ju0Dj6JRnH",
        "outputId": "d07ff265-790e-4697-adb1-a0a47167a443"
      },
      "execution_count": 4,
      "outputs": [
        {
          "output_type": "stream",
          "name": "stdout",
          "text": [
            "--2022-01-16 20:33:31--  https://madm.dfki.de/files/sentinel/EuroSAT.zip\n",
            "Resolving madm.dfki.de (madm.dfki.de)... 131.246.195.183\n",
            "Connecting to madm.dfki.de (madm.dfki.de)|131.246.195.183|:443... connected.\n",
            "HTTP request sent, awaiting response... 200 OK\n",
            "Length: 94280567 (90M) [application/zip]\n",
            "Saving to: ‘EuroSAT.zip’\n",
            "\n",
            "EuroSAT.zip         100%[===================>]  89.91M  19.4MB/s    in 5.6s    \n",
            "\n",
            "2022-01-16 20:33:37 (15.9 MB/s) - ‘EuroSAT.zip’ saved [94280567/94280567]\n",
            "\n"
          ]
        }
      ]
    },
    {
      "cell_type": "code",
      "source": [
        "!pip install split-folders"
      ],
      "metadata": {
        "colab": {
          "base_uri": "https://localhost:8080/"
        },
        "id": "4BKcpETXJSZy",
        "outputId": "24a41126-5be8-4d84-9218-ef15b89b1ca0"
      },
      "execution_count": 5,
      "outputs": [
        {
          "output_type": "stream",
          "name": "stdout",
          "text": [
            "Collecting split-folders\n",
            "  Downloading split_folders-0.4.3-py3-none-any.whl (7.4 kB)\n",
            "Installing collected packages: split-folders\n",
            "Successfully installed split-folders-0.4.3\n"
          ]
        }
      ]
    },
    {
      "cell_type": "code",
      "source": [
        "import splitfolders\n",
        "splitfolders.ratio('eurosat/2750', output=\"eurosat_new\", seed=42, ratio=(.9, 0,0.1)) # 24300 train, 2700 test"
      ],
      "metadata": {
        "colab": {
          "base_uri": "https://localhost:8080/"
        },
        "id": "yS4mvdkKJVM2",
        "outputId": "4704758b-4575-4fb9-a0cb-b1515b73f29d"
      },
      "execution_count": 6,
      "outputs": [
        {
          "output_type": "stream",
          "name": "stderr",
          "text": [
            "Copying files: 27000 files [00:03, 8071.62 files/s]\n"
          ]
        }
      ]
    },
    {
      "cell_type": "code",
      "source": [
        "parser = argparse.ArgumentParser(description='Train Sup on EuroSAT')\n",
        "\n",
        "parser.add_argument('-a', '--arch', default='resnet18')\n",
        "\n",
        "# lr: 0.06 for batch 512 (or 0.03 for batch 256)\n",
        "parser.add_argument('--lr', '--learning-rate', default=0.06, type=float, metavar='LR', help='initial learning rate', dest='lr')\n",
        "parser.add_argument('--epochs', default=200, type=int, metavar='N', help='number of total epochs to run')\n",
        "parser.add_argument('--schedule', default=[120, 160], nargs='*', type=int, help='learning rate schedule (when to drop lr by 10x); does not take effect if --cos is on')\n",
        "parser.add_argument('--cos', action='store_true', help='use cosine lr schedule')\n",
        "\n",
        "parser.add_argument('--batch-size', default=512, type=int, metavar='N', help='mini-batch size')\n",
        "parser.add_argument('--wd', default=5e-4, type=float, metavar='W', help='weight decay')\n",
        "\n",
        "# utils\n",
        "parser.add_argument('--resume', default='', type=str, metavar='PATH', help='path to latest checkpoint (default: none)')\n",
        "parser.add_argument('--results-dir', default='', type=str, metavar='PATH', help='path to cache (default: none)')\n",
        "\n",
        "parser.add_argument('--pretrained', default='', type=str, metavar='PATH', help='pretrained weights')\n",
        "\n",
        "\n",
        "'''\n",
        "args = parser.parse_args()  # running in command line\n",
        "'''\n",
        "args = parser.parse_args('')  # running in ipynb\n",
        "\n",
        "# set command line arguments here when running in ipynb\n",
        "args.epochs = 100\n",
        "args.cos = True\n",
        "args.schedule = []  # cos in use\n",
        "args.batch_size = 256\n",
        "args.lr = 0.2\n",
        "args.pretrained = ''\n",
        "\n",
        "if args.results_dir == '':\n",
        "    args.results_dir = '/content/drive/MyDrive/supervised_learning' + datetime.now().strftime(\"%Y-%m-%d-%H-%M-%S-moco\")\n",
        "\n",
        "print(args)"
      ],
      "metadata": {
        "colab": {
          "base_uri": "https://localhost:8080/"
        },
        "id": "VPBnuUnXJXTm",
        "outputId": "b8c7ffb5-af6c-41ad-8a62-b157d86fb14f"
      },
      "execution_count": 7,
      "outputs": [
        {
          "output_type": "stream",
          "name": "stdout",
          "text": [
            "Namespace(arch='resnet18', batch_size=256, cos=True, epochs=100, lr=0.2, pretrained='', results_dir='/content/drive/MyDrive/supervised_learning2022-01-16-20-33-58-moco', resume='', schedule=[], wd=0.0005)\n"
          ]
        }
      ]
    },
    {
      "cell_type": "code",
      "source": [
        "\n",
        "train_transform = transforms.Compose([\n",
        "    transforms.RandomResizedCrop(56),    \n",
        "    transforms.RandomHorizontalFlip(p=0.5),\n",
        "    transforms.ToTensor(),\n",
        "    #transforms.Normalize([0.4914, 0.4822, 0.4465], [0.2023, 0.1994, 0.2010])\n",
        "    ])\n",
        "\n",
        "test_transform = transforms.Compose([\n",
        "    transforms.ToTensor(),\n",
        "    #transforms.Normalize([0.4914, 0.4822, 0.4465], [0.2023, 0.1994, 0.2010])\n",
        "    ])\n",
        "\n",
        "# data prepare\n",
        "train_data = torchvision.datasets.ImageFolder(root='eurosat_new/train', transform=train_transform)\n",
        "train_loader = DataLoader(train_data, batch_size=args.batch_size, shuffle=True, num_workers=2, pin_memory=True, drop_last=True)\n",
        "\n",
        "test_data = torchvision.datasets.ImageFolder(root='eurosat_new/test', transform=test_transform)\n",
        "test_loader = DataLoader(test_data, batch_size=args.batch_size, shuffle=False, num_workers=2, pin_memory=True)\n",
        "\n",
        "print(len(train_data),len(test_data))"
      ],
      "metadata": {
        "colab": {
          "base_uri": "https://localhost:8080/"
        },
        "id": "fDkNxrDFKnDT",
        "outputId": "58216d14-6f6f-4fde-e844-16e6f4dca9cc"
      },
      "execution_count": 8,
      "outputs": [
        {
          "output_type": "stream",
          "name": "stdout",
          "text": [
            "24300 2700\n"
          ]
        }
      ]
    },
    {
      "cell_type": "code",
      "source": [
        "class ModelBase(nn.Module):\n",
        "    \"\"\"\n",
        "    Common CIFAR ResNet recipe.\n",
        "    Comparing with ImageNet ResNet recipe, it:\n",
        "    (i) replaces conv1 with kernel=3, str=1\n",
        "    (ii) removes pool1\n",
        "    \"\"\"\n",
        "    def __init__(self, feature_dim=10, arch=None, bn_splits=1):\n",
        "        super(ModelBase, self).__init__()\n",
        "\n",
        "        # use split batchnorm\n",
        "        norm_layer = partial(SplitBatchNorm, num_splits=bn_splits) if bn_splits > 1 else nn.BatchNorm2d\n",
        "        resnet_arch = getattr(resnet, arch)\n",
        "        net = resnet_arch(num_classes=feature_dim, norm_layer=norm_layer)\n",
        "\n",
        "        self.net = []\n",
        "        for name, module in net.named_children():\n",
        "            if name == 'conv1':\n",
        "                module = nn.Conv2d(3, 64, kernel_size=3, stride=1, padding=1, bias=False)\n",
        "            if isinstance(module, nn.MaxPool2d):\n",
        "                continue\n",
        "            if isinstance(module, nn.Linear):\n",
        "                self.net.append(nn.Flatten(1))\n",
        "            self.net.append(module)\n",
        "\n",
        "        self.net = nn.Sequential(*self.net)\n",
        "\n",
        "    def forward(self, x):\n",
        "        x = self.net(x)\n",
        "        # note: not normalized here\n",
        "        return x"
      ],
      "metadata": {
        "id": "1FM3OcXhK01a"
      },
      "execution_count": 9,
      "outputs": []
    },
    {
      "cell_type": "code",
      "source": [
        "# train for one epoch\n",
        "def train(net, data_loader, train_optimizer, epoch, args):\n",
        "    net.train()\n",
        "    adjust_learning_rate(optimizer, epoch, args)\n",
        "\n",
        "    total_acc, total_loss, total_num, train_bar = 0.0, 0.0, 0, tqdm(data_loader)\n",
        "    for img,target in train_bar:\n",
        "        img, target = img.cuda(non_blocking=True), target.cuda(non_blocking=True)\n",
        "\n",
        "        out = net(img)\n",
        "        loss = criterion(out,target.long())\n",
        "        \n",
        "        optimizer.zero_grad()\n",
        "        loss.backward()\n",
        "        optimizer.step()\n",
        "\n",
        "        total_num += data_loader.batch_size\n",
        "        total_loss += loss.item() * data_loader.batch_size\n",
        "\n",
        "        score = torch.sigmoid(out).detach().cpu()\n",
        "        pred_labels = torch.argmax(score,axis=1)\n",
        "        #average_precision = accuracy_score(target.cpu(), torch.argmax(score,axis=1)) * 100.0\n",
        "        average_precision = (pred_labels == target.cpu()).float().sum().item()\n",
        "\n",
        "        total_acc += average_precision\n",
        "\n",
        "        train_bar.set_description('Train Epoch: [{}/{}], lr: {:.6f}, Loss: {:.4f}, Acc: {:.4f}'.format(epoch, args.epochs, optimizer.param_groups[0]['lr'], total_loss / total_num, total_acc / total_num))\n",
        "\n",
        "    return total_loss / total_num, total_acc / total_num\n",
        "\n",
        "# lr scheduler for training\n",
        "def adjust_learning_rate(optimizer, epoch, args):\n",
        "    \"\"\"Decay the learning rate based on schedule\"\"\"\n",
        "    lr = args.lr\n",
        "    if args.cos:  # cosine lr schedule\n",
        "        lr *= 0.5 * (1. + math.cos(math.pi * epoch / args.epochs))\n",
        "    else:  # stepwise lr schedule\n",
        "        for milestone in args.schedule:\n",
        "            lr *= 0.1 if epoch >= milestone else 1.\n",
        "    for param_group in optimizer.param_groups:\n",
        "        param_group['lr'] = lr"
      ],
      "metadata": {
        "id": "vZAhV96kL38_"
      },
      "execution_count": 10,
      "outputs": []
    },
    {
      "cell_type": "code",
      "source": [
        "# test\n",
        "def test(net, test_data_loader, epoch, args):\n",
        "    net.eval()\n",
        "    with torch.no_grad():\n",
        "        test_bar = tqdm(test_data_loader)\n",
        "        total_top1 = 0\n",
        "        total_num = 0\n",
        "        for img, target in test_bar:\n",
        "            img, target = img.cuda(non_blocking=True), target.cuda(non_blocking=True)\n",
        "            out = net(img)\n",
        "            \n",
        "            score = torch.sigmoid(out).detach().cpu()\n",
        "            pred_labels = torch.argmax(score,axis=1)\n",
        "            total_num += img.size(0)\n",
        "            total_top1 += (pred_labels == target.cpu()).float().sum().item()\n",
        "            test_bar.set_description('Test Epoch: [{}/{}] Acc@1:{:.2f}%'.format(epoch, args.epochs, total_top1 / total_num * 100))\n",
        "\n",
        "    return total_top1 / total_num * 100"
      ],
      "metadata": {
        "id": "wwE1beueOQez"
      },
      "execution_count": 11,
      "outputs": []
    },
    {
      "cell_type": "code",
      "source": [
        "model = ModelBase(feature_dim=10, arch=args.arch).cuda()\n",
        "\n",
        "criterion = torch.nn.CrossEntropyLoss()\n",
        "optimizer = torch.optim.SGD(model.parameters(), lr=args.lr, momentum=0.9)\n",
        "\n",
        "\n",
        "# load model if resume\n",
        "epoch_start = 1\n",
        "if args.resume is not '':\n",
        "    checkpoint = torch.load(args.resume)\n",
        "    model.load_state_dict(checkpoint['state_dict'])\n",
        "    optimizer.load_state_dict(checkpoint['optimizer'])\n",
        "    epoch_start = checkpoint['epoch'] + 1\n",
        "    print('Loaded from: {}'.format(args.resume))\n",
        "\n",
        "# logging\n",
        "results = {'train_loss': [], 'test_acc@1': []}\n",
        "if not os.path.exists(args.results_dir):\n",
        "    os.mkdir(args.results_dir)\n",
        "# dump args\n",
        "with open(args.results_dir + '/args.json', 'w') as fid:\n",
        "    json.dump(args.__dict__, fid, indent=2)\n",
        "\n",
        "# training loop\n",
        "for epoch in range(epoch_start, args.epochs + 1):\n",
        "    train_loss = train(model, train_loader, optimizer, epoch, args)\n",
        "    results['train_loss'].append(train_loss)\n",
        "    if epoch%10 == 1:\n",
        "      test_acc_1 = test(model, test_loader, epoch, args)\n",
        "    results['test_acc@1'].append(test_acc_1)\n",
        "    # save statistics\n",
        "    data_frame = pd.DataFrame(data=results, index=range(epoch_start, epoch + 1))\n",
        "    data_frame.to_csv(args.results_dir + '/log.csv', index_label='epoch')\n",
        "    # save model\n",
        "    torch.save({'epoch': epoch, 'state_dict': model.state_dict(), 'optimizer' : optimizer.state_dict(),}, args.results_dir + '/model_last.pth')\n",
        "\n",
        "    if epoch%20==1:\n",
        "      files.download(args.results_dir + '/model_last.pth')\n",
        "\n",
        "    \n"
      ],
      "metadata": {
        "colab": {
          "base_uri": "https://localhost:8080/",
          "height": 1000
        },
        "id": "W0AyKnVwQBtO",
        "outputId": "92f79d33-3cb6-4e1c-dde2-ef9e10efae63"
      },
      "execution_count": 12,
      "outputs": [
        {
          "output_type": "stream",
          "name": "stderr",
          "text": [
            "Train Epoch: [1/100], lr: 0.199951, Loss: 2.0946, Acc: 0.3829: 100%|██████████| 94/94 [00:59<00:00,  1.58it/s]\n",
            "Test Epoch: [1/100] Acc@1:38.85%: 100%|██████████| 11/11 [00:05<00:00,  2.07it/s]\n"
          ]
        },
        {
          "output_type": "display_data",
          "data": {
            "application/javascript": [
              "\n",
              "    async function download(id, filename, size) {\n",
              "      if (!google.colab.kernel.accessAllowed) {\n",
              "        return;\n",
              "      }\n",
              "      const div = document.createElement('div');\n",
              "      const label = document.createElement('label');\n",
              "      label.textContent = `Downloading \"${filename}\": `;\n",
              "      div.appendChild(label);\n",
              "      const progress = document.createElement('progress');\n",
              "      progress.max = size;\n",
              "      div.appendChild(progress);\n",
              "      document.body.appendChild(div);\n",
              "\n",
              "      const buffers = [];\n",
              "      let downloaded = 0;\n",
              "\n",
              "      const channel = await google.colab.kernel.comms.open(id);\n",
              "      // Send a message to notify the kernel that we're ready.\n",
              "      channel.send({})\n",
              "\n",
              "      for await (const message of channel.messages) {\n",
              "        // Send a message to notify the kernel that we're ready.\n",
              "        channel.send({})\n",
              "        if (message.buffers) {\n",
              "          for (const buffer of message.buffers) {\n",
              "            buffers.push(buffer);\n",
              "            downloaded += buffer.byteLength;\n",
              "            progress.value = downloaded;\n",
              "          }\n",
              "        }\n",
              "      }\n",
              "      const blob = new Blob(buffers, {type: 'application/binary'});\n",
              "      const a = document.createElement('a');\n",
              "      a.href = window.URL.createObjectURL(blob);\n",
              "      a.download = filename;\n",
              "      div.appendChild(a);\n",
              "      a.click();\n",
              "      div.remove();\n",
              "    }\n",
              "  "
            ],
            "text/plain": [
              "<IPython.core.display.Javascript object>"
            ]
          },
          "metadata": {}
        },
        {
          "output_type": "display_data",
          "data": {
            "application/javascript": [
              "download(\"download_30de6b46-b5ac-45d1-b647-2e40c1798d0a\", \"model_last.pth\", 89488273)"
            ],
            "text/plain": [
              "<IPython.core.display.Javascript object>"
            ]
          },
          "metadata": {}
        },
        {
          "output_type": "stream",
          "name": "stderr",
          "text": [
            "Train Epoch: [2/100], lr: 0.199803, Loss: 1.2986, Acc: 0.5564: 100%|██████████| 94/94 [01:01<00:00,  1.54it/s]\n",
            "Train Epoch: [3/100], lr: 0.199556, Loss: 1.0738, Acc: 0.6195: 100%|██████████| 94/94 [01:01<00:00,  1.52it/s]\n",
            "Train Epoch: [4/100], lr: 0.199211, Loss: 0.9468, Acc: 0.6591: 100%|██████████| 94/94 [01:01<00:00,  1.53it/s]\n",
            "Train Epoch: [5/100], lr: 0.198769, Loss: 0.8415, Acc: 0.7015: 100%|██████████| 94/94 [01:01<00:00,  1.53it/s]\n",
            "Train Epoch: [6/100], lr: 0.198229, Loss: 0.7920, Acc: 0.7183: 100%|██████████| 94/94 [01:01<00:00,  1.53it/s]\n",
            "Train Epoch: [7/100], lr: 0.197592, Loss: 0.7286, Acc: 0.7441: 100%|██████████| 94/94 [01:01<00:00,  1.52it/s]\n",
            "Train Epoch: [8/100], lr: 0.196858, Loss: 0.6686, Acc: 0.7700: 100%|██████████| 94/94 [01:01<00:00,  1.53it/s]\n",
            "Train Epoch: [9/100], lr: 0.196029, Loss: 0.6271, Acc: 0.7811: 100%|██████████| 94/94 [01:01<00:00,  1.52it/s]\n",
            "Train Epoch: [10/100], lr: 0.195106, Loss: 0.5712, Acc: 0.8012: 100%|██████████| 94/94 [01:01<00:00,  1.53it/s]\n",
            "Train Epoch: [11/100], lr: 0.194088, Loss: 0.5393, Acc: 0.8153: 100%|██████████| 94/94 [01:01<00:00,  1.52it/s]\n",
            "Test Epoch: [11/100] Acc@1:72.30%: 100%|██████████| 11/11 [00:04<00:00,  2.20it/s]\n",
            "Train Epoch: [12/100], lr: 0.192978, Loss: 0.5156, Acc: 0.8235: 100%|██████████| 94/94 [01:01<00:00,  1.52it/s]\n",
            "Train Epoch: [13/100], lr: 0.191775, Loss: 0.4864, Acc: 0.8324: 100%|██████████| 94/94 [01:01<00:00,  1.53it/s]\n",
            "Train Epoch: [14/100], lr: 0.190483, Loss: 0.4626, Acc: 0.8415: 100%|██████████| 94/94 [01:01<00:00,  1.53it/s]\n",
            "Train Epoch: [15/100], lr: 0.189101, Loss: 0.4355, Acc: 0.8522: 100%|██████████| 94/94 [01:01<00:00,  1.52it/s]\n",
            "Train Epoch: [16/100], lr: 0.187631, Loss: 0.4240, Acc: 0.8554: 100%|██████████| 94/94 [01:01<00:00,  1.52it/s]\n",
            "Train Epoch: [17/100], lr: 0.186074, Loss: 0.3865, Acc: 0.8675: 100%|██████████| 94/94 [01:01<00:00,  1.52it/s]\n",
            "Train Epoch: [18/100], lr: 0.184433, Loss: 0.3762, Acc: 0.8730: 100%|██████████| 94/94 [01:01<00:00,  1.52it/s]\n",
            "Train Epoch: [19/100], lr: 0.182708, Loss: 0.3638, Acc: 0.8772: 100%|██████████| 94/94 [01:01<00:00,  1.52it/s]\n",
            "Train Epoch: [20/100], lr: 0.180902, Loss: 0.3527, Acc: 0.8807: 100%|██████████| 94/94 [01:01<00:00,  1.52it/s]\n",
            "Train Epoch: [21/100], lr: 0.179016, Loss: 0.3338, Acc: 0.8882: 100%|██████████| 94/94 [01:01<00:00,  1.53it/s]\n",
            "Test Epoch: [21/100] Acc@1:89.15%: 100%|██████████| 11/11 [00:04<00:00,  2.21it/s]\n"
          ]
        },
        {
          "output_type": "display_data",
          "data": {
            "application/javascript": [
              "\n",
              "    async function download(id, filename, size) {\n",
              "      if (!google.colab.kernel.accessAllowed) {\n",
              "        return;\n",
              "      }\n",
              "      const div = document.createElement('div');\n",
              "      const label = document.createElement('label');\n",
              "      label.textContent = `Downloading \"${filename}\": `;\n",
              "      div.appendChild(label);\n",
              "      const progress = document.createElement('progress');\n",
              "      progress.max = size;\n",
              "      div.appendChild(progress);\n",
              "      document.body.appendChild(div);\n",
              "\n",
              "      const buffers = [];\n",
              "      let downloaded = 0;\n",
              "\n",
              "      const channel = await google.colab.kernel.comms.open(id);\n",
              "      // Send a message to notify the kernel that we're ready.\n",
              "      channel.send({})\n",
              "\n",
              "      for await (const message of channel.messages) {\n",
              "        // Send a message to notify the kernel that we're ready.\n",
              "        channel.send({})\n",
              "        if (message.buffers) {\n",
              "          for (const buffer of message.buffers) {\n",
              "            buffers.push(buffer);\n",
              "            downloaded += buffer.byteLength;\n",
              "            progress.value = downloaded;\n",
              "          }\n",
              "        }\n",
              "      }\n",
              "      const blob = new Blob(buffers, {type: 'application/binary'});\n",
              "      const a = document.createElement('a');\n",
              "      a.href = window.URL.createObjectURL(blob);\n",
              "      a.download = filename;\n",
              "      div.appendChild(a);\n",
              "      a.click();\n",
              "      div.remove();\n",
              "    }\n",
              "  "
            ],
            "text/plain": [
              "<IPython.core.display.Javascript object>"
            ]
          },
          "metadata": {}
        },
        {
          "output_type": "display_data",
          "data": {
            "application/javascript": [
              "download(\"download_d7d1c4a6-fa06-4c0c-bf1a-4a3ded96f0ef\", \"model_last.pth\", 89488273)"
            ],
            "text/plain": [
              "<IPython.core.display.Javascript object>"
            ]
          },
          "metadata": {}
        },
        {
          "output_type": "stream",
          "name": "stderr",
          "text": [
            "Train Epoch: [22/100], lr: 0.177051, Loss: 0.3250, Acc: 0.8896: 100%|██████████| 94/94 [01:01<00:00,  1.53it/s]\n",
            "Train Epoch: [23/100], lr: 0.175011, Loss: 0.3197, Acc: 0.8937: 100%|██████████| 94/94 [01:01<00:00,  1.53it/s]\n",
            "Train Epoch: [24/100], lr: 0.172897, Loss: 0.3094, Acc: 0.8948: 100%|██████████| 94/94 [01:01<00:00,  1.53it/s]\n",
            "Train Epoch: [25/100], lr: 0.170711, Loss: 0.2996, Acc: 0.8979: 100%|██████████| 94/94 [01:01<00:00,  1.53it/s]\n",
            "Train Epoch: [26/100], lr: 0.168455, Loss: 0.2974, Acc: 0.8989: 100%|██████████| 94/94 [01:01<00:00,  1.52it/s]\n",
            "Train Epoch: [27/100], lr: 0.166131, Loss: 0.2865, Acc: 0.9038: 100%|██████████| 94/94 [01:01<00:00,  1.53it/s]\n",
            "Train Epoch: [28/100], lr: 0.163742, Loss: 0.2753, Acc: 0.9099: 100%|██████████| 94/94 [01:01<00:00,  1.52it/s]\n",
            "Train Epoch: [29/100], lr: 0.161291, Loss: 0.2671, Acc: 0.9114: 100%|██████████| 94/94 [01:01<00:00,  1.53it/s]\n",
            "Train Epoch: [30/100], lr: 0.158779, Loss: 0.2694, Acc: 0.9103: 100%|██████████| 94/94 [01:01<00:00,  1.52it/s]\n",
            "Train Epoch: [31/100], lr: 0.156208, Loss: 0.2664, Acc: 0.9104: 100%|██████████| 94/94 [01:01<00:00,  1.53it/s]\n",
            "Test Epoch: [31/100] Acc@1:93.67%: 100%|██████████| 11/11 [00:05<00:00,  2.20it/s]\n",
            "Train Epoch: [32/100], lr: 0.153583, Loss: 0.2587, Acc: 0.9119: 100%|██████████| 94/94 [01:01<00:00,  1.52it/s]\n",
            "Train Epoch: [33/100], lr: 0.150904, Loss: 0.2404, Acc: 0.9194: 100%|██████████| 94/94 [01:01<00:00,  1.53it/s]\n",
            "Train Epoch: [34/100], lr: 0.148175, Loss: 0.2348, Acc: 0.9212: 100%|██████████| 94/94 [01:01<00:00,  1.52it/s]\n",
            "Train Epoch: [35/100], lr: 0.145399, Loss: 0.2359, Acc: 0.9216: 100%|██████████| 94/94 [01:01<00:00,  1.53it/s]\n",
            "Train Epoch: [36/100], lr: 0.142578, Loss: 0.2293, Acc: 0.9217: 100%|██████████| 94/94 [01:01<00:00,  1.53it/s]\n",
            "Train Epoch: [37/100], lr: 0.139715, Loss: 0.2306, Acc: 0.9240: 100%|██████████| 94/94 [01:01<00:00,  1.53it/s]\n",
            "Train Epoch: [38/100], lr: 0.136812, Loss: 0.2189, Acc: 0.9280: 100%|██████████| 94/94 [01:01<00:00,  1.53it/s]\n",
            "Train Epoch: [39/100], lr: 0.133874, Loss: 0.2165, Acc: 0.9256: 100%|██████████| 94/94 [01:01<00:00,  1.52it/s]\n",
            "Train Epoch: [40/100], lr: 0.130902, Loss: 0.2142, Acc: 0.9292: 100%|██████████| 94/94 [01:01<00:00,  1.53it/s]\n",
            "Train Epoch: [41/100], lr: 0.127899, Loss: 0.2084, Acc: 0.9298: 100%|██████████| 94/94 [01:01<00:00,  1.52it/s]\n",
            "Test Epoch: [41/100] Acc@1:86.26%: 100%|██████████| 11/11 [00:04<00:00,  2.20it/s]\n"
          ]
        },
        {
          "output_type": "display_data",
          "data": {
            "application/javascript": [
              "\n",
              "    async function download(id, filename, size) {\n",
              "      if (!google.colab.kernel.accessAllowed) {\n",
              "        return;\n",
              "      }\n",
              "      const div = document.createElement('div');\n",
              "      const label = document.createElement('label');\n",
              "      label.textContent = `Downloading \"${filename}\": `;\n",
              "      div.appendChild(label);\n",
              "      const progress = document.createElement('progress');\n",
              "      progress.max = size;\n",
              "      div.appendChild(progress);\n",
              "      document.body.appendChild(div);\n",
              "\n",
              "      const buffers = [];\n",
              "      let downloaded = 0;\n",
              "\n",
              "      const channel = await google.colab.kernel.comms.open(id);\n",
              "      // Send a message to notify the kernel that we're ready.\n",
              "      channel.send({})\n",
              "\n",
              "      for await (const message of channel.messages) {\n",
              "        // Send a message to notify the kernel that we're ready.\n",
              "        channel.send({})\n",
              "        if (message.buffers) {\n",
              "          for (const buffer of message.buffers) {\n",
              "            buffers.push(buffer);\n",
              "            downloaded += buffer.byteLength;\n",
              "            progress.value = downloaded;\n",
              "          }\n",
              "        }\n",
              "      }\n",
              "      const blob = new Blob(buffers, {type: 'application/binary'});\n",
              "      const a = document.createElement('a');\n",
              "      a.href = window.URL.createObjectURL(blob);\n",
              "      a.download = filename;\n",
              "      div.appendChild(a);\n",
              "      a.click();\n",
              "      div.remove();\n",
              "    }\n",
              "  "
            ],
            "text/plain": [
              "<IPython.core.display.Javascript object>"
            ]
          },
          "metadata": {}
        },
        {
          "output_type": "display_data",
          "data": {
            "application/javascript": [
              "download(\"download_8778c5b8-b6c6-4222-839a-9dfaf809e46c\", \"model_last.pth\", 89488273)"
            ],
            "text/plain": [
              "<IPython.core.display.Javascript object>"
            ]
          },
          "metadata": {}
        },
        {
          "output_type": "stream",
          "name": "stderr",
          "text": [
            "Train Epoch: [42/100], lr: 0.124869, Loss: 0.2092, Acc: 0.9285: 100%|██████████| 94/94 [01:01<00:00,  1.53it/s]\n",
            "Train Epoch: [43/100], lr: 0.121814, Loss: 0.2007, Acc: 0.9361: 100%|██████████| 94/94 [01:01<00:00,  1.53it/s]\n",
            "Train Epoch: [44/100], lr: 0.118738, Loss: 0.1987, Acc: 0.9336: 100%|██████████| 94/94 [01:01<00:00,  1.52it/s]\n",
            "Train Epoch: [45/100], lr: 0.115643, Loss: 0.2014, Acc: 0.9311: 100%|██████████| 94/94 [01:01<00:00,  1.52it/s]\n",
            "Train Epoch: [46/100], lr: 0.112533, Loss: 0.1917, Acc: 0.9350: 100%|██████████| 94/94 [01:01<00:00,  1.53it/s]\n",
            "Train Epoch: [47/100], lr: 0.109411, Loss: 0.1913, Acc: 0.9360: 100%|██████████| 94/94 [01:01<00:00,  1.52it/s]\n",
            "Train Epoch: [48/100], lr: 0.106279, Loss: 0.1826, Acc: 0.9386: 100%|██████████| 94/94 [01:01<00:00,  1.52it/s]\n",
            "Train Epoch: [49/100], lr: 0.103141, Loss: 0.1778, Acc: 0.9403: 100%|██████████| 94/94 [01:01<00:00,  1.52it/s]\n",
            "Train Epoch: [50/100], lr: 0.100000, Loss: 0.1769, Acc: 0.9420: 100%|██████████| 94/94 [01:01<00:00,  1.53it/s]\n",
            "Train Epoch: [51/100], lr: 0.096859, Loss: 0.1770, Acc: 0.9410: 100%|██████████| 94/94 [01:01<00:00,  1.53it/s]\n",
            "Test Epoch: [51/100] Acc@1:93.93%: 100%|██████████| 11/11 [00:04<00:00,  2.21it/s]\n",
            "Train Epoch: [52/100], lr: 0.093721, Loss: 0.1689, Acc: 0.9424: 100%|██████████| 94/94 [01:01<00:00,  1.52it/s]\n",
            "Train Epoch: [53/100], lr: 0.090589, Loss: 0.1666, Acc: 0.9432: 100%|██████████| 94/94 [01:01<00:00,  1.53it/s]\n",
            "Train Epoch: [54/100], lr: 0.087467, Loss: 0.1657, Acc: 0.9454: 100%|██████████| 94/94 [01:01<00:00,  1.52it/s]\n",
            "Train Epoch: [55/100], lr: 0.084357, Loss: 0.1608, Acc: 0.9459: 100%|██████████| 94/94 [01:01<00:00,  1.53it/s]\n",
            "Train Epoch: [56/100], lr: 0.081262, Loss: 0.1611, Acc: 0.9463: 100%|██████████| 94/94 [01:02<00:00,  1.52it/s]\n",
            "Train Epoch: [57/100], lr: 0.078186, Loss: 0.1550, Acc: 0.9474: 100%|██████████| 94/94 [01:01<00:00,  1.52it/s]\n",
            "Train Epoch: [58/100], lr: 0.075131, Loss: 0.1535, Acc: 0.9485: 100%|██████████| 94/94 [01:01<00:00,  1.52it/s]\n",
            "Train Epoch: [59/100], lr: 0.072101, Loss: 0.1533, Acc: 0.9493: 100%|██████████| 94/94 [01:01<00:00,  1.53it/s]\n",
            "Train Epoch: [60/100], lr: 0.069098, Loss: 0.1511, Acc: 0.9501: 100%|██████████| 94/94 [01:01<00:00,  1.52it/s]\n",
            "Train Epoch: [61/100], lr: 0.066126, Loss: 0.1537, Acc: 0.9489: 100%|██████████| 94/94 [01:01<00:00,  1.52it/s]\n",
            "Test Epoch: [61/100] Acc@1:96.59%: 100%|██████████| 11/11 [00:05<00:00,  2.20it/s]\n"
          ]
        },
        {
          "output_type": "display_data",
          "data": {
            "application/javascript": [
              "\n",
              "    async function download(id, filename, size) {\n",
              "      if (!google.colab.kernel.accessAllowed) {\n",
              "        return;\n",
              "      }\n",
              "      const div = document.createElement('div');\n",
              "      const label = document.createElement('label');\n",
              "      label.textContent = `Downloading \"${filename}\": `;\n",
              "      div.appendChild(label);\n",
              "      const progress = document.createElement('progress');\n",
              "      progress.max = size;\n",
              "      div.appendChild(progress);\n",
              "      document.body.appendChild(div);\n",
              "\n",
              "      const buffers = [];\n",
              "      let downloaded = 0;\n",
              "\n",
              "      const channel = await google.colab.kernel.comms.open(id);\n",
              "      // Send a message to notify the kernel that we're ready.\n",
              "      channel.send({})\n",
              "\n",
              "      for await (const message of channel.messages) {\n",
              "        // Send a message to notify the kernel that we're ready.\n",
              "        channel.send({})\n",
              "        if (message.buffers) {\n",
              "          for (const buffer of message.buffers) {\n",
              "            buffers.push(buffer);\n",
              "            downloaded += buffer.byteLength;\n",
              "            progress.value = downloaded;\n",
              "          }\n",
              "        }\n",
              "      }\n",
              "      const blob = new Blob(buffers, {type: 'application/binary'});\n",
              "      const a = document.createElement('a');\n",
              "      a.href = window.URL.createObjectURL(blob);\n",
              "      a.download = filename;\n",
              "      div.appendChild(a);\n",
              "      a.click();\n",
              "      div.remove();\n",
              "    }\n",
              "  "
            ],
            "text/plain": [
              "<IPython.core.display.Javascript object>"
            ]
          },
          "metadata": {}
        },
        {
          "output_type": "display_data",
          "data": {
            "application/javascript": [
              "download(\"download_1ef2859d-4e21-4629-888b-08370b7557de\", \"model_last.pth\", 89488273)"
            ],
            "text/plain": [
              "<IPython.core.display.Javascript object>"
            ]
          },
          "metadata": {}
        },
        {
          "output_type": "stream",
          "name": "stderr",
          "text": [
            "Train Epoch: [62/100], lr: 0.063188, Loss: 0.1463, Acc: 0.9514: 100%|██████████| 94/94 [01:01<00:00,  1.52it/s]\n",
            "Train Epoch: [63/100], lr: 0.060285, Loss: 0.1378, Acc: 0.9543: 100%|██████████| 94/94 [01:01<00:00,  1.52it/s]\n",
            "Train Epoch: [64/100], lr: 0.057422, Loss: 0.1375, Acc: 0.9545: 100%|██████████| 94/94 [01:01<00:00,  1.52it/s]\n",
            "Train Epoch: [65/100], lr: 0.054601, Loss: 0.1397, Acc: 0.9537: 100%|██████████| 94/94 [01:01<00:00,  1.52it/s]\n",
            "Train Epoch: [66/100], lr: 0.051825, Loss: 0.1377, Acc: 0.9550: 100%|██████████| 94/94 [01:01<00:00,  1.52it/s]\n",
            "Train Epoch: [67/100], lr: 0.049096, Loss: 0.1388, Acc: 0.9533: 100%|██████████| 94/94 [01:01<00:00,  1.52it/s]\n",
            "Train Epoch: [68/100], lr: 0.046417, Loss: 0.1368, Acc: 0.9549: 100%|██████████| 94/94 [01:02<00:00,  1.52it/s]\n",
            "Train Epoch: [69/100], lr: 0.043792, Loss: 0.1267, Acc: 0.9564: 100%|██████████| 94/94 [01:02<00:00,  1.51it/s]\n",
            "Train Epoch: [70/100], lr: 0.041221, Loss: 0.1305, Acc: 0.9567: 100%|██████████| 94/94 [01:01<00:00,  1.53it/s]\n",
            "Train Epoch: [71/100], lr: 0.038709, Loss: 0.1263, Acc: 0.9565: 100%|██████████| 94/94 [01:01<00:00,  1.53it/s]\n",
            "Test Epoch: [71/100] Acc@1:96.85%: 100%|██████████| 11/11 [00:04<00:00,  2.21it/s]\n",
            "Train Epoch: [72/100], lr: 0.036258, Loss: 0.1264, Acc: 0.9563: 100%|██████████| 94/94 [01:01<00:00,  1.52it/s]\n",
            "Train Epoch: [73/100], lr: 0.033869, Loss: 0.1252, Acc: 0.9588: 100%|██████████| 94/94 [01:01<00:00,  1.53it/s]\n",
            "Train Epoch: [74/100], lr: 0.031545, Loss: 0.1272, Acc: 0.9571: 100%|██████████| 94/94 [01:01<00:00,  1.52it/s]\n",
            "Train Epoch: [75/100], lr: 0.029289, Loss: 0.1205, Acc: 0.9609: 100%|██████████| 94/94 [01:02<00:00,  1.51it/s]\n",
            "Train Epoch: [76/100], lr: 0.027103, Loss: 0.1253, Acc: 0.9589: 100%|██████████| 94/94 [01:01<00:00,  1.53it/s]\n",
            "Train Epoch: [77/100], lr: 0.024989, Loss: 0.1174, Acc: 0.9615: 100%|██████████| 94/94 [01:01<00:00,  1.52it/s]\n",
            "Train Epoch: [78/100], lr: 0.022949, Loss: 0.1234, Acc: 0.9577: 100%|██████████| 94/94 [01:01<00:00,  1.52it/s]\n",
            "Train Epoch: [79/100], lr: 0.020984, Loss: 0.1164, Acc: 0.9617: 100%|██████████| 94/94 [01:02<00:00,  1.51it/s]\n",
            "Train Epoch: [80/100], lr: 0.019098, Loss: 0.1161, Acc: 0.9621: 100%|██████████| 94/94 [01:01<00:00,  1.53it/s]\n",
            "Train Epoch: [81/100], lr: 0.017292, Loss: 0.1152, Acc: 0.9618: 100%|██████████| 94/94 [01:01<00:00,  1.52it/s]\n",
            "Test Epoch: [81/100] Acc@1:97.59%: 100%|██████████| 11/11 [00:05<00:00,  2.19it/s]\n"
          ]
        },
        {
          "output_type": "display_data",
          "data": {
            "application/javascript": [
              "\n",
              "    async function download(id, filename, size) {\n",
              "      if (!google.colab.kernel.accessAllowed) {\n",
              "        return;\n",
              "      }\n",
              "      const div = document.createElement('div');\n",
              "      const label = document.createElement('label');\n",
              "      label.textContent = `Downloading \"${filename}\": `;\n",
              "      div.appendChild(label);\n",
              "      const progress = document.createElement('progress');\n",
              "      progress.max = size;\n",
              "      div.appendChild(progress);\n",
              "      document.body.appendChild(div);\n",
              "\n",
              "      const buffers = [];\n",
              "      let downloaded = 0;\n",
              "\n",
              "      const channel = await google.colab.kernel.comms.open(id);\n",
              "      // Send a message to notify the kernel that we're ready.\n",
              "      channel.send({})\n",
              "\n",
              "      for await (const message of channel.messages) {\n",
              "        // Send a message to notify the kernel that we're ready.\n",
              "        channel.send({})\n",
              "        if (message.buffers) {\n",
              "          for (const buffer of message.buffers) {\n",
              "            buffers.push(buffer);\n",
              "            downloaded += buffer.byteLength;\n",
              "            progress.value = downloaded;\n",
              "          }\n",
              "        }\n",
              "      }\n",
              "      const blob = new Blob(buffers, {type: 'application/binary'});\n",
              "      const a = document.createElement('a');\n",
              "      a.href = window.URL.createObjectURL(blob);\n",
              "      a.download = filename;\n",
              "      div.appendChild(a);\n",
              "      a.click();\n",
              "      div.remove();\n",
              "    }\n",
              "  "
            ],
            "text/plain": [
              "<IPython.core.display.Javascript object>"
            ]
          },
          "metadata": {}
        },
        {
          "output_type": "display_data",
          "data": {
            "application/javascript": [
              "download(\"download_f10c202b-145f-43f3-a948-6b6abed8769f\", \"model_last.pth\", 89488273)"
            ],
            "text/plain": [
              "<IPython.core.display.Javascript object>"
            ]
          },
          "metadata": {}
        },
        {
          "output_type": "stream",
          "name": "stderr",
          "text": [
            "Train Epoch: [82/100], lr: 0.015567, Loss: 0.1106, Acc: 0.9627: 100%|██████████| 94/94 [01:01<00:00,  1.52it/s]\n",
            "Train Epoch: [83/100], lr: 0.013926, Loss: 0.1100, Acc: 0.9621: 100%|██████████| 94/94 [01:02<00:00,  1.52it/s]\n",
            "Train Epoch: [84/100], lr: 0.012369, Loss: 0.1092, Acc: 0.9645: 100%|██████████| 94/94 [01:01<00:00,  1.53it/s]\n",
            "Train Epoch: [85/100], lr: 0.010899, Loss: 0.1099, Acc: 0.9645: 100%|██████████| 94/94 [01:02<00:00,  1.51it/s]\n",
            "Train Epoch: [86/100], lr: 0.009517, Loss: 0.1098, Acc: 0.9622: 100%|██████████| 94/94 [01:01<00:00,  1.53it/s]\n",
            "Train Epoch: [87/100], lr: 0.008225, Loss: 0.1111, Acc: 0.9626: 100%|██████████| 94/94 [01:01<00:00,  1.53it/s]\n",
            "Train Epoch: [88/100], lr: 0.007022, Loss: 0.1119, Acc: 0.9630: 100%|██████████| 94/94 [01:01<00:00,  1.52it/s]\n",
            "Train Epoch: [89/100], lr: 0.005912, Loss: 0.1023, Acc: 0.9659: 100%|██████████| 94/94 [01:01<00:00,  1.53it/s]\n",
            "Train Epoch: [90/100], lr: 0.004894, Loss: 0.1113, Acc: 0.9628: 100%|██████████| 94/94 [01:01<00:00,  1.52it/s]\n",
            "Train Epoch: [91/100], lr: 0.003971, Loss: 0.1081, Acc: 0.9657: 100%|██████████| 94/94 [01:01<00:00,  1.53it/s]\n",
            "Test Epoch: [91/100] Acc@1:97.56%: 100%|██████████| 11/11 [00:04<00:00,  2.22it/s]\n",
            "Train Epoch: [92/100], lr: 0.003142, Loss: 0.1061, Acc: 0.9663: 100%|██████████| 94/94 [01:01<00:00,  1.52it/s]\n",
            "Train Epoch: [93/100], lr: 0.002408, Loss: 0.1063, Acc: 0.9649: 100%|██████████| 94/94 [01:01<00:00,  1.52it/s]\n",
            "Train Epoch: [94/100], lr: 0.001771, Loss: 0.1023, Acc: 0.9670: 100%|██████████| 94/94 [01:01<00:00,  1.52it/s]\n",
            "Train Epoch: [95/100], lr: 0.001231, Loss: 0.1029, Acc: 0.9664: 100%|██████████| 94/94 [01:01<00:00,  1.53it/s]\n",
            "Train Epoch: [96/100], lr: 0.000789, Loss: 0.1031, Acc: 0.9660: 100%|██████████| 94/94 [01:01<00:00,  1.52it/s]\n",
            "Train Epoch: [97/100], lr: 0.000444, Loss: 0.1007, Acc: 0.9668: 100%|██████████| 94/94 [01:01<00:00,  1.52it/s]\n",
            "Train Epoch: [98/100], lr: 0.000197, Loss: 0.1053, Acc: 0.9657: 100%|██████████| 94/94 [01:01<00:00,  1.52it/s]\n",
            "Train Epoch: [99/100], lr: 0.000049, Loss: 0.1032, Acc: 0.9663: 100%|██████████| 94/94 [01:01<00:00,  1.52it/s]\n",
            "Train Epoch: [100/100], lr: 0.000000, Loss: 0.1043, Acc: 0.9661: 100%|██████████| 94/94 [01:01<00:00,  1.52it/s]\n"
          ]
        }
      ]
    },
    {
      "cell_type": "code",
      "source": [
        ""
      ],
      "metadata": {
        "id": "POOewaE3Un8C"
      },
      "execution_count": null,
      "outputs": []
    }
  ]
}