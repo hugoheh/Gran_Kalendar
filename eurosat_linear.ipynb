{
  "nbformat": 4,
  "nbformat_minor": 0,
  "metadata": {
    "colab": {
      "name": "eurosat_linear.ipynb",
      "provenance": [],
      "include_colab_link": true
    },
    "kernelspec": {
      "name": "python3",
      "display_name": "Python 3"
    },
    "language_info": {
      "name": "python"
    },
    "accelerator": "GPU"
  },
  "cells": [
    {
      "cell_type": "markdown",
      "metadata": {
        "id": "view-in-github",
        "colab_type": "text"
      },
      "source": [
        "<a href=\"https://colab.research.google.com/github/hugoheh/Gran_Kalendar/blob/main/eurosat_linear.ipynb\" target=\"_parent\"><img src=\"https://colab.research.google.com/assets/colab-badge.svg\" alt=\"Open In Colab\"/></a>"
      ]
    },
    {
      "cell_type": "code",
      "source": [
        "from google.colab import drive\n",
        "drive.mount('/content/drive')"
      ],
      "metadata": {
        "colab": {
          "base_uri": "https://localhost:8080/"
        },
        "id": "9fizAUiSBYnG",
        "outputId": "61b6f395-fe86-4717-9ee1-f614a3ff66b9"
      },
      "execution_count": 1,
      "outputs": [
        {
          "output_type": "stream",
          "name": "stdout",
          "text": [
            "Mounted at /content/drive\n"
          ]
        }
      ]
    },
    {
      "cell_type": "code",
      "source": [
        "!pip install wandb\n",
        "import wandb\n",
        "wandb.init()"
      ],
      "metadata": {
        "colab": {
          "base_uri": "https://localhost:8080/",
          "height": 975
        },
        "id": "nPaOaEbcBawV",
        "outputId": "b2bd053b-ddcb-4872-d016-f9fc9a9c641b"
      },
      "execution_count": 2,
      "outputs": [
        {
          "output_type": "stream",
          "name": "stdout",
          "text": [
            "Collecting wandb\n",
            "  Downloading wandb-0.12.9-py2.py3-none-any.whl (1.7 MB)\n",
            "\u001b[?25l\r\u001b[K     |▏                               | 10 kB 41.7 MB/s eta 0:00:01\r\u001b[K     |▍                               | 20 kB 45.7 MB/s eta 0:00:01\r\u001b[K     |▋                               | 30 kB 46.9 MB/s eta 0:00:01\r\u001b[K     |▊                               | 40 kB 49.0 MB/s eta 0:00:01\r\u001b[K     |█                               | 51 kB 38.2 MB/s eta 0:00:01\r\u001b[K     |█▏                              | 61 kB 41.3 MB/s eta 0:00:01\r\u001b[K     |█▍                              | 71 kB 28.0 MB/s eta 0:00:01\r\u001b[K     |█▌                              | 81 kB 29.9 MB/s eta 0:00:01\r\u001b[K     |█▊                              | 92 kB 32.0 MB/s eta 0:00:01\r\u001b[K     |██                              | 102 kB 34.1 MB/s eta 0:00:01\r\u001b[K     |██                              | 112 kB 34.1 MB/s eta 0:00:01\r\u001b[K     |██▎                             | 122 kB 34.1 MB/s eta 0:00:01\r\u001b[K     |██▌                             | 133 kB 34.1 MB/s eta 0:00:01\r\u001b[K     |██▊                             | 143 kB 34.1 MB/s eta 0:00:01\r\u001b[K     |██▉                             | 153 kB 34.1 MB/s eta 0:00:01\r\u001b[K     |███                             | 163 kB 34.1 MB/s eta 0:00:01\r\u001b[K     |███▎                            | 174 kB 34.1 MB/s eta 0:00:01\r\u001b[K     |███▍                            | 184 kB 34.1 MB/s eta 0:00:01\r\u001b[K     |███▋                            | 194 kB 34.1 MB/s eta 0:00:01\r\u001b[K     |███▉                            | 204 kB 34.1 MB/s eta 0:00:01\r\u001b[K     |████                            | 215 kB 34.1 MB/s eta 0:00:01\r\u001b[K     |████▏                           | 225 kB 34.1 MB/s eta 0:00:01\r\u001b[K     |████▍                           | 235 kB 34.1 MB/s eta 0:00:01\r\u001b[K     |████▋                           | 245 kB 34.1 MB/s eta 0:00:01\r\u001b[K     |████▉                           | 256 kB 34.1 MB/s eta 0:00:01\r\u001b[K     |█████                           | 266 kB 34.1 MB/s eta 0:00:01\r\u001b[K     |█████▏                          | 276 kB 34.1 MB/s eta 0:00:01\r\u001b[K     |█████▍                          | 286 kB 34.1 MB/s eta 0:00:01\r\u001b[K     |█████▌                          | 296 kB 34.1 MB/s eta 0:00:01\r\u001b[K     |█████▊                          | 307 kB 34.1 MB/s eta 0:00:01\r\u001b[K     |██████                          | 317 kB 34.1 MB/s eta 0:00:01\r\u001b[K     |██████▏                         | 327 kB 34.1 MB/s eta 0:00:01\r\u001b[K     |██████▎                         | 337 kB 34.1 MB/s eta 0:00:01\r\u001b[K     |██████▌                         | 348 kB 34.1 MB/s eta 0:00:01\r\u001b[K     |██████▊                         | 358 kB 34.1 MB/s eta 0:00:01\r\u001b[K     |██████▉                         | 368 kB 34.1 MB/s eta 0:00:01\r\u001b[K     |███████                         | 378 kB 34.1 MB/s eta 0:00:01\r\u001b[K     |███████▎                        | 389 kB 34.1 MB/s eta 0:00:01\r\u001b[K     |███████▌                        | 399 kB 34.1 MB/s eta 0:00:01\r\u001b[K     |███████▋                        | 409 kB 34.1 MB/s eta 0:00:01\r\u001b[K     |███████▉                        | 419 kB 34.1 MB/s eta 0:00:01\r\u001b[K     |████████                        | 430 kB 34.1 MB/s eta 0:00:01\r\u001b[K     |████████▎                       | 440 kB 34.1 MB/s eta 0:00:01\r\u001b[K     |████████▍                       | 450 kB 34.1 MB/s eta 0:00:01\r\u001b[K     |████████▋                       | 460 kB 34.1 MB/s eta 0:00:01\r\u001b[K     |████████▉                       | 471 kB 34.1 MB/s eta 0:00:01\r\u001b[K     |█████████                       | 481 kB 34.1 MB/s eta 0:00:01\r\u001b[K     |█████████▏                      | 491 kB 34.1 MB/s eta 0:00:01\r\u001b[K     |█████████▍                      | 501 kB 34.1 MB/s eta 0:00:01\r\u001b[K     |█████████▋                      | 512 kB 34.1 MB/s eta 0:00:01\r\u001b[K     |█████████▊                      | 522 kB 34.1 MB/s eta 0:00:01\r\u001b[K     |██████████                      | 532 kB 34.1 MB/s eta 0:00:01\r\u001b[K     |██████████▏                     | 542 kB 34.1 MB/s eta 0:00:01\r\u001b[K     |██████████▎                     | 552 kB 34.1 MB/s eta 0:00:01\r\u001b[K     |██████████▌                     | 563 kB 34.1 MB/s eta 0:00:01\r\u001b[K     |██████████▊                     | 573 kB 34.1 MB/s eta 0:00:01\r\u001b[K     |███████████                     | 583 kB 34.1 MB/s eta 0:00:01\r\u001b[K     |███████████                     | 593 kB 34.1 MB/s eta 0:00:01\r\u001b[K     |███████████▎                    | 604 kB 34.1 MB/s eta 0:00:01\r\u001b[K     |███████████▌                    | 614 kB 34.1 MB/s eta 0:00:01\r\u001b[K     |███████████▋                    | 624 kB 34.1 MB/s eta 0:00:01\r\u001b[K     |███████████▉                    | 634 kB 34.1 MB/s eta 0:00:01\r\u001b[K     |████████████                    | 645 kB 34.1 MB/s eta 0:00:01\r\u001b[K     |████████████▎                   | 655 kB 34.1 MB/s eta 0:00:01\r\u001b[K     |████████████▍                   | 665 kB 34.1 MB/s eta 0:00:01\r\u001b[K     |████████████▋                   | 675 kB 34.1 MB/s eta 0:00:01\r\u001b[K     |████████████▉                   | 686 kB 34.1 MB/s eta 0:00:01\r\u001b[K     |█████████████                   | 696 kB 34.1 MB/s eta 0:00:01\r\u001b[K     |█████████████▏                  | 706 kB 34.1 MB/s eta 0:00:01\r\u001b[K     |█████████████▍                  | 716 kB 34.1 MB/s eta 0:00:01\r\u001b[K     |█████████████▋                  | 727 kB 34.1 MB/s eta 0:00:01\r\u001b[K     |█████████████▊                  | 737 kB 34.1 MB/s eta 0:00:01\r\u001b[K     |██████████████                  | 747 kB 34.1 MB/s eta 0:00:01\r\u001b[K     |██████████████▏                 | 757 kB 34.1 MB/s eta 0:00:01\r\u001b[K     |██████████████▍                 | 768 kB 34.1 MB/s eta 0:00:01\r\u001b[K     |██████████████▌                 | 778 kB 34.1 MB/s eta 0:00:01\r\u001b[K     |██████████████▊                 | 788 kB 34.1 MB/s eta 0:00:01\r\u001b[K     |███████████████                 | 798 kB 34.1 MB/s eta 0:00:01\r\u001b[K     |███████████████                 | 808 kB 34.1 MB/s eta 0:00:01\r\u001b[K     |███████████████▎                | 819 kB 34.1 MB/s eta 0:00:01\r\u001b[K     |███████████████▌                | 829 kB 34.1 MB/s eta 0:00:01\r\u001b[K     |███████████████▊                | 839 kB 34.1 MB/s eta 0:00:01\r\u001b[K     |███████████████▉                | 849 kB 34.1 MB/s eta 0:00:01\r\u001b[K     |████████████████                | 860 kB 34.1 MB/s eta 0:00:01\r\u001b[K     |████████████████▎               | 870 kB 34.1 MB/s eta 0:00:01\r\u001b[K     |████████████████▌               | 880 kB 34.1 MB/s eta 0:00:01\r\u001b[K     |████████████████▋               | 890 kB 34.1 MB/s eta 0:00:01\r\u001b[K     |████████████████▉               | 901 kB 34.1 MB/s eta 0:00:01\r\u001b[K     |█████████████████               | 911 kB 34.1 MB/s eta 0:00:01\r\u001b[K     |█████████████████▏              | 921 kB 34.1 MB/s eta 0:00:01\r\u001b[K     |█████████████████▍              | 931 kB 34.1 MB/s eta 0:00:01\r\u001b[K     |█████████████████▋              | 942 kB 34.1 MB/s eta 0:00:01\r\u001b[K     |█████████████████▉              | 952 kB 34.1 MB/s eta 0:00:01\r\u001b[K     |██████████████████              | 962 kB 34.1 MB/s eta 0:00:01\r\u001b[K     |██████████████████▏             | 972 kB 34.1 MB/s eta 0:00:01\r\u001b[K     |██████████████████▍             | 983 kB 34.1 MB/s eta 0:00:01\r\u001b[K     |██████████████████▌             | 993 kB 34.1 MB/s eta 0:00:01\r\u001b[K     |██████████████████▊             | 1.0 MB 34.1 MB/s eta 0:00:01\r\u001b[K     |███████████████████             | 1.0 MB 34.1 MB/s eta 0:00:01\r\u001b[K     |███████████████████▏            | 1.0 MB 34.1 MB/s eta 0:00:01\r\u001b[K     |███████████████████▎            | 1.0 MB 34.1 MB/s eta 0:00:01\r\u001b[K     |███████████████████▌            | 1.0 MB 34.1 MB/s eta 0:00:01\r\u001b[K     |███████████████████▊            | 1.1 MB 34.1 MB/s eta 0:00:01\r\u001b[K     |███████████████████▉            | 1.1 MB 34.1 MB/s eta 0:00:01\r\u001b[K     |████████████████████            | 1.1 MB 34.1 MB/s eta 0:00:01\r\u001b[K     |████████████████████▎           | 1.1 MB 34.1 MB/s eta 0:00:01\r\u001b[K     |████████████████████▌           | 1.1 MB 34.1 MB/s eta 0:00:01\r\u001b[K     |████████████████████▋           | 1.1 MB 34.1 MB/s eta 0:00:01\r\u001b[K     |████████████████████▉           | 1.1 MB 34.1 MB/s eta 0:00:01\r\u001b[K     |█████████████████████           | 1.1 MB 34.1 MB/s eta 0:00:01\r\u001b[K     |█████████████████████▎          | 1.1 MB 34.1 MB/s eta 0:00:01\r\u001b[K     |█████████████████████▍          | 1.1 MB 34.1 MB/s eta 0:00:01\r\u001b[K     |█████████████████████▋          | 1.2 MB 34.1 MB/s eta 0:00:01\r\u001b[K     |█████████████████████▉          | 1.2 MB 34.1 MB/s eta 0:00:01\r\u001b[K     |██████████████████████          | 1.2 MB 34.1 MB/s eta 0:00:01\r\u001b[K     |██████████████████████▏         | 1.2 MB 34.1 MB/s eta 0:00:01\r\u001b[K     |██████████████████████▍         | 1.2 MB 34.1 MB/s eta 0:00:01\r\u001b[K     |██████████████████████▋         | 1.2 MB 34.1 MB/s eta 0:00:01\r\u001b[K     |██████████████████████▊         | 1.2 MB 34.1 MB/s eta 0:00:01\r\u001b[K     |███████████████████████         | 1.2 MB 34.1 MB/s eta 0:00:01\r\u001b[K     |███████████████████████▏        | 1.2 MB 34.1 MB/s eta 0:00:01\r\u001b[K     |███████████████████████▎        | 1.2 MB 34.1 MB/s eta 0:00:01\r\u001b[K     |███████████████████████▌        | 1.3 MB 34.1 MB/s eta 0:00:01\r\u001b[K     |███████████████████████▊        | 1.3 MB 34.1 MB/s eta 0:00:01\r\u001b[K     |████████████████████████        | 1.3 MB 34.1 MB/s eta 0:00:01\r\u001b[K     |████████████████████████        | 1.3 MB 34.1 MB/s eta 0:00:01\r\u001b[K     |████████████████████████▎       | 1.3 MB 34.1 MB/s eta 0:00:01\r\u001b[K     |████████████████████████▌       | 1.3 MB 34.1 MB/s eta 0:00:01\r\u001b[K     |████████████████████████▊       | 1.3 MB 34.1 MB/s eta 0:00:01\r\u001b[K     |████████████████████████▉       | 1.3 MB 34.1 MB/s eta 0:00:01\r\u001b[K     |█████████████████████████       | 1.3 MB 34.1 MB/s eta 0:00:01\r\u001b[K     |█████████████████████████▎      | 1.4 MB 34.1 MB/s eta 0:00:01\r\u001b[K     |█████████████████████████▍      | 1.4 MB 34.1 MB/s eta 0:00:01\r\u001b[K     |█████████████████████████▋      | 1.4 MB 34.1 MB/s eta 0:00:01\r\u001b[K     |█████████████████████████▉      | 1.4 MB 34.1 MB/s eta 0:00:01\r\u001b[K     |██████████████████████████      | 1.4 MB 34.1 MB/s eta 0:00:01\r\u001b[K     |██████████████████████████▏     | 1.4 MB 34.1 MB/s eta 0:00:01\r\u001b[K     |██████████████████████████▍     | 1.4 MB 34.1 MB/s eta 0:00:01\r\u001b[K     |██████████████████████████▋     | 1.4 MB 34.1 MB/s eta 0:00:01\r\u001b[K     |██████████████████████████▊     | 1.4 MB 34.1 MB/s eta 0:00:01\r\u001b[K     |███████████████████████████     | 1.4 MB 34.1 MB/s eta 0:00:01\r\u001b[K     |███████████████████████████▏    | 1.5 MB 34.1 MB/s eta 0:00:01\r\u001b[K     |███████████████████████████▍    | 1.5 MB 34.1 MB/s eta 0:00:01\r\u001b[K     |███████████████████████████▌    | 1.5 MB 34.1 MB/s eta 0:00:01\r\u001b[K     |███████████████████████████▊    | 1.5 MB 34.1 MB/s eta 0:00:01\r\u001b[K     |████████████████████████████    | 1.5 MB 34.1 MB/s eta 0:00:01\r\u001b[K     |████████████████████████████▏   | 1.5 MB 34.1 MB/s eta 0:00:01\r\u001b[K     |████████████████████████████▎   | 1.5 MB 34.1 MB/s eta 0:00:01\r\u001b[K     |████████████████████████████▌   | 1.5 MB 34.1 MB/s eta 0:00:01\r\u001b[K     |████████████████████████████▊   | 1.5 MB 34.1 MB/s eta 0:00:01\r\u001b[K     |████████████████████████████▉   | 1.5 MB 34.1 MB/s eta 0:00:01\r\u001b[K     |█████████████████████████████   | 1.6 MB 34.1 MB/s eta 0:00:01\r\u001b[K     |█████████████████████████████▎  | 1.6 MB 34.1 MB/s eta 0:00:01\r\u001b[K     |█████████████████████████████▌  | 1.6 MB 34.1 MB/s eta 0:00:01\r\u001b[K     |█████████████████████████████▋  | 1.6 MB 34.1 MB/s eta 0:00:01\r\u001b[K     |█████████████████████████████▉  | 1.6 MB 34.1 MB/s eta 0:00:01\r\u001b[K     |██████████████████████████████  | 1.6 MB 34.1 MB/s eta 0:00:01\r\u001b[K     |██████████████████████████████▏ | 1.6 MB 34.1 MB/s eta 0:00:01\r\u001b[K     |██████████████████████████████▍ | 1.6 MB 34.1 MB/s eta 0:00:01\r\u001b[K     |██████████████████████████████▋ | 1.6 MB 34.1 MB/s eta 0:00:01\r\u001b[K     |██████████████████████████████▉ | 1.6 MB 34.1 MB/s eta 0:00:01\r\u001b[K     |███████████████████████████████ | 1.7 MB 34.1 MB/s eta 0:00:01\r\u001b[K     |███████████████████████████████▏| 1.7 MB 34.1 MB/s eta 0:00:01\r\u001b[K     |███████████████████████████████▍| 1.7 MB 34.1 MB/s eta 0:00:01\r\u001b[K     |███████████████████████████████▌| 1.7 MB 34.1 MB/s eta 0:00:01\r\u001b[K     |███████████████████████████████▊| 1.7 MB 34.1 MB/s eta 0:00:01\r\u001b[K     |████████████████████████████████| 1.7 MB 34.1 MB/s eta 0:00:01\r\u001b[K     |████████████████████████████████| 1.7 MB 34.1 MB/s \n",
            "\u001b[?25hCollecting docker-pycreds>=0.4.0\n",
            "  Downloading docker_pycreds-0.4.0-py2.py3-none-any.whl (9.0 kB)\n",
            "Requirement already satisfied: python-dateutil>=2.6.1 in /usr/local/lib/python3.7/dist-packages (from wandb) (2.8.2)\n",
            "Requirement already satisfied: requests<3,>=2.0.0 in /usr/local/lib/python3.7/dist-packages (from wandb) (2.23.0)\n",
            "Requirement already satisfied: psutil>=5.0.0 in /usr/local/lib/python3.7/dist-packages (from wandb) (5.4.8)\n",
            "Collecting sentry-sdk>=1.0.0\n",
            "  Downloading sentry_sdk-1.5.2-py2.py3-none-any.whl (142 kB)\n",
            "\u001b[K     |████████████████████████████████| 142 kB 52.2 MB/s \n",
            "\u001b[?25hCollecting GitPython>=1.0.0\n",
            "  Downloading GitPython-3.1.26-py3-none-any.whl (180 kB)\n",
            "\u001b[K     |████████████████████████████████| 180 kB 75.9 MB/s \n",
            "\u001b[?25hCollecting yaspin>=1.0.0\n",
            "  Downloading yaspin-2.1.0-py3-none-any.whl (18 kB)\n",
            "Requirement already satisfied: six>=1.13.0 in /usr/local/lib/python3.7/dist-packages (from wandb) (1.15.0)\n",
            "Collecting configparser>=3.8.1\n",
            "  Downloading configparser-5.2.0-py3-none-any.whl (19 kB)\n",
            "Collecting pathtools\n",
            "  Downloading pathtools-0.1.2.tar.gz (11 kB)\n",
            "Collecting subprocess32>=3.5.3\n",
            "  Downloading subprocess32-3.5.4.tar.gz (97 kB)\n",
            "\u001b[K     |████████████████████████████████| 97 kB 8.6 MB/s \n",
            "\u001b[?25hCollecting shortuuid>=0.5.0\n",
            "  Downloading shortuuid-1.0.8-py3-none-any.whl (9.5 kB)\n",
            "Requirement already satisfied: protobuf>=3.12.0 in /usr/local/lib/python3.7/dist-packages (from wandb) (3.17.3)\n",
            "Requirement already satisfied: Click!=8.0.0,>=7.0 in /usr/local/lib/python3.7/dist-packages (from wandb) (7.1.2)\n",
            "Requirement already satisfied: PyYAML in /usr/local/lib/python3.7/dist-packages (from wandb) (3.13)\n",
            "Requirement already satisfied: promise<3,>=2.0 in /usr/local/lib/python3.7/dist-packages (from wandb) (2.3)\n",
            "Requirement already satisfied: typing-extensions>=3.7.4.3 in /usr/local/lib/python3.7/dist-packages (from GitPython>=1.0.0->wandb) (3.10.0.2)\n",
            "Collecting gitdb<5,>=4.0.1\n",
            "  Downloading gitdb-4.0.9-py3-none-any.whl (63 kB)\n",
            "\u001b[K     |████████████████████████████████| 63 kB 2.2 MB/s \n",
            "\u001b[?25hCollecting smmap<6,>=3.0.1\n",
            "  Downloading smmap-5.0.0-py3-none-any.whl (24 kB)\n",
            "Requirement already satisfied: certifi>=2017.4.17 in /usr/local/lib/python3.7/dist-packages (from requests<3,>=2.0.0->wandb) (2021.10.8)\n",
            "Requirement already satisfied: idna<3,>=2.5 in /usr/local/lib/python3.7/dist-packages (from requests<3,>=2.0.0->wandb) (2.10)\n",
            "Requirement already satisfied: urllib3!=1.25.0,!=1.25.1,<1.26,>=1.21.1 in /usr/local/lib/python3.7/dist-packages (from requests<3,>=2.0.0->wandb) (1.24.3)\n",
            "Requirement already satisfied: chardet<4,>=3.0.2 in /usr/local/lib/python3.7/dist-packages (from requests<3,>=2.0.0->wandb) (3.0.4)\n",
            "Requirement already satisfied: termcolor<2.0.0,>=1.1.0 in /usr/local/lib/python3.7/dist-packages (from yaspin>=1.0.0->wandb) (1.1.0)\n",
            "Building wheels for collected packages: subprocess32, pathtools\n",
            "  Building wheel for subprocess32 (setup.py) ... \u001b[?25l\u001b[?25hdone\n",
            "  Created wheel for subprocess32: filename=subprocess32-3.5.4-py3-none-any.whl size=6502 sha256=4f6ee85fca17dca714b5e1a16818dd8d047d377f06449449e64b706bfdf1f8bd\n",
            "  Stored in directory: /root/.cache/pip/wheels/50/ca/fa/8fca8d246e64f19488d07567547ddec8eb084e8c0d7a59226a\n",
            "  Building wheel for pathtools (setup.py) ... \u001b[?25l\u001b[?25hdone\n",
            "  Created wheel for pathtools: filename=pathtools-0.1.2-py3-none-any.whl size=8806 sha256=70cd5b5309f32ce94cbbdb82bce176f38a051ce81e84209ad6e96f89848a117e\n",
            "  Stored in directory: /root/.cache/pip/wheels/3e/31/09/fa59cef12cdcfecc627b3d24273699f390e71828921b2cbba2\n",
            "Successfully built subprocess32 pathtools\n",
            "Installing collected packages: smmap, gitdb, yaspin, subprocess32, shortuuid, sentry-sdk, pathtools, GitPython, docker-pycreds, configparser, wandb\n",
            "Successfully installed GitPython-3.1.26 configparser-5.2.0 docker-pycreds-0.4.0 gitdb-4.0.9 pathtools-0.1.2 sentry-sdk-1.5.2 shortuuid-1.0.8 smmap-5.0.0 subprocess32-3.5.4 wandb-0.12.9 yaspin-2.1.0\n"
          ]
        },
        {
          "output_type": "display_data",
          "data": {
            "application/javascript": [
              "\n",
              "        window._wandbApiKey = new Promise((resolve, reject) => {\n",
              "            function loadScript(url) {\n",
              "            return new Promise(function(resolve, reject) {\n",
              "                let newScript = document.createElement(\"script\");\n",
              "                newScript.onerror = reject;\n",
              "                newScript.onload = resolve;\n",
              "                document.body.appendChild(newScript);\n",
              "                newScript.src = url;\n",
              "            });\n",
              "            }\n",
              "            loadScript(\"https://cdn.jsdelivr.net/npm/postmate/build/postmate.min.js\").then(() => {\n",
              "            const iframe = document.createElement('iframe')\n",
              "            iframe.style.cssText = \"width:0;height:0;border:none\"\n",
              "            document.body.appendChild(iframe)\n",
              "            const handshake = new Postmate({\n",
              "                container: iframe,\n",
              "                url: 'https://wandb.ai/authorize'\n",
              "            });\n",
              "            const timeout = setTimeout(() => reject(\"Couldn't auto authenticate\"), 5000)\n",
              "            handshake.then(function(child) {\n",
              "                child.on('authorize', data => {\n",
              "                    clearTimeout(timeout)\n",
              "                    resolve(data)\n",
              "                });\n",
              "            });\n",
              "            })\n",
              "        });\n",
              "    "
            ],
            "text/plain": [
              "<IPython.core.display.Javascript object>"
            ]
          },
          "metadata": {}
        },
        {
          "output_type": "stream",
          "name": "stderr",
          "text": [
            "\u001b[34m\u001b[1mwandb\u001b[0m: Appending key for api.wandb.ai to your netrc file: /root/.netrc\n"
          ]
        },
        {
          "output_type": "display_data",
          "data": {
            "text/html": [
              "\n",
              "                    Syncing run <strong><a href=\"https://wandb.ai/hugo_heh/uncategorized/runs/1n1j9uvb\" target=\"_blank\">dashing-moon-20</a></strong> to <a href=\"https://wandb.ai/hugo_heh/uncategorized\" target=\"_blank\">Weights & Biases</a> (<a href=\"https://docs.wandb.com/integrations/jupyter.html\" target=\"_blank\">docs</a>).<br/>\n",
              "\n",
              "                "
            ],
            "text/plain": [
              "<IPython.core.display.HTML object>"
            ]
          },
          "metadata": {}
        },
        {
          "output_type": "execute_result",
          "data": {
            "text/plain": [
              "<wandb.sdk.wandb_run.Run at 0x7fdf4a7f3d90>"
            ],
            "text/html": [
              "<button onClick=\"this.nextSibling.style.display='block';this.style.display='none';\">Display W&B run</button><iframe src=\"https://wandb.ai/hugo_heh/uncategorized/runs/1n1j9uvb?jupyter=true\" style=\"border:none;width:100%;height:420px;display:none;\"></iframe>"
            ]
          },
          "metadata": {},
          "execution_count": 2
        }
      ]
    },
    {
      "cell_type": "code",
      "execution_count": 3,
      "metadata": {
        "colab": {
          "base_uri": "https://localhost:8080/"
        },
        "id": "2VqfjRpbQ64L",
        "outputId": "c93fb3bb-6961-4989-d702-773666aaa9f4"
      },
      "outputs": [
        {
          "output_type": "stream",
          "name": "stdout",
          "text": [
            "Sun Jan 16 22:48:24 2022       \n",
            "+-----------------------------------------------------------------------------+\n",
            "| NVIDIA-SMI 495.46       Driver Version: 460.32.03    CUDA Version: 11.2     |\n",
            "|-------------------------------+----------------------+----------------------+\n",
            "| GPU  Name        Persistence-M| Bus-Id        Disp.A | Volatile Uncorr. ECC |\n",
            "| Fan  Temp  Perf  Pwr:Usage/Cap|         Memory-Usage | GPU-Util  Compute M. |\n",
            "|                               |                      |               MIG M. |\n",
            "|===============================+======================+======================|\n",
            "|   0  Tesla T4            Off  | 00000000:00:04.0 Off |                    0 |\n",
            "| N/A   33C    P8     9W /  70W |      0MiB / 15109MiB |      0%      Default |\n",
            "|                               |                      |                  N/A |\n",
            "+-------------------------------+----------------------+----------------------+\n",
            "                                                                               \n",
            "+-----------------------------------------------------------------------------+\n",
            "| Processes:                                                                  |\n",
            "|  GPU   GI   CI        PID   Type   Process name                  GPU Memory |\n",
            "|        ID   ID                                                   Usage      |\n",
            "|=============================================================================|\n",
            "|  No running processes found                                                 |\n",
            "+-----------------------------------------------------------------------------+\n"
          ]
        }
      ],
      "source": [
        "gpu_info = !nvidia-smi -i 0\n",
        "gpu_info = '\\n'.join(gpu_info)\n",
        "print(gpu_info)\n",
        "\n",
        "from datetime import datetime\n",
        "from functools import partial\n",
        "from PIL import Image\n",
        "from torch.utils.data import DataLoader\n",
        "from torchvision import transforms\n",
        "from torchvision.models import resnet\n",
        "from tqdm import tqdm\n",
        "import argparse\n",
        "import json\n",
        "import math\n",
        "import os\n",
        "import pandas as pd\n",
        "import torch\n",
        "import torch.nn as nn\n",
        "import torch.nn.functional as F\n",
        "# Yi\n",
        "import numpy as np\n",
        "import zipfile\n",
        "import torchvision\n",
        "\n",
        "from google.colab import files"
      ]
    },
    {
      "cell_type": "code",
      "source": [
        "!wget https://madm.dfki.de/files/sentinel/EuroSAT.zip\n",
        "\n",
        "with zipfile.ZipFile('EuroSAT.zip', 'r') as zip_ref:\n",
        "    zip_ref.extractall('eurosat')"
      ],
      "metadata": {
        "colab": {
          "base_uri": "https://localhost:8080/"
        },
        "id": "JKdds1YZQ99H",
        "outputId": "34f71fb2-bb60-4564-ad75-5cfb63a22aa6"
      },
      "execution_count": 4,
      "outputs": [
        {
          "output_type": "stream",
          "name": "stdout",
          "text": [
            "--2022-01-16 22:48:34--  https://madm.dfki.de/files/sentinel/EuroSAT.zip\n",
            "Resolving madm.dfki.de (madm.dfki.de)... 131.246.195.183\n",
            "Connecting to madm.dfki.de (madm.dfki.de)|131.246.195.183|:443... connected.\n",
            "HTTP request sent, awaiting response... 200 OK\n",
            "Length: 94280567 (90M) [application/zip]\n",
            "Saving to: ‘EuroSAT.zip’\n",
            "\n",
            "EuroSAT.zip         100%[===================>]  89.91M  26.2MB/s    in 3.6s    \n",
            "\n",
            "2022-01-16 22:48:38 (24.8 MB/s) - ‘EuroSAT.zip’ saved [94280567/94280567]\n",
            "\n"
          ]
        }
      ]
    },
    {
      "cell_type": "code",
      "source": [
        "!pip install split-folders"
      ],
      "metadata": {
        "colab": {
          "base_uri": "https://localhost:8080/"
        },
        "id": "DZgtPR1cRDGG",
        "outputId": "ec17ed7a-2fbd-47e6-c38f-09f4c314c0e4"
      },
      "execution_count": 5,
      "outputs": [
        {
          "output_type": "stream",
          "name": "stdout",
          "text": [
            "Collecting split-folders\n",
            "  Downloading split_folders-0.4.3-py3-none-any.whl (7.4 kB)\n",
            "Installing collected packages: split-folders\n",
            "Successfully installed split-folders-0.4.3\n"
          ]
        }
      ]
    },
    {
      "cell_type": "code",
      "source": [
        "import splitfolders\n",
        "splitfolders.ratio('eurosat/2750', output=\"eurosat_new\", seed=42, ratio=(.09, 0.81,0.1)) # 24300 train, 2700 test"
      ],
      "metadata": {
        "colab": {
          "base_uri": "https://localhost:8080/"
        },
        "id": "VGfWBZTrRDvC",
        "outputId": "8ed861fd-70d3-43a7-b2e8-c7c04fae1536"
      },
      "execution_count": 6,
      "outputs": [
        {
          "output_type": "stream",
          "name": "stderr",
          "text": [
            "Copying files: 27000 files [00:03, 8111.82 files/s]\n"
          ]
        }
      ]
    },
    {
      "cell_type": "code",
      "source": [
        "parser = argparse.ArgumentParser(description='Train Sup on EuroSAT')\n",
        "\n",
        "parser.add_argument('-a', '--arch', default='resnet18')\n",
        "\n",
        "# lr: 0.06 for batch 512 (or 0.03 for batch 256)\n",
        "parser.add_argument('--lr', '--learning-rate', default=0.06, type=float, metavar='LR', help='initial learning rate', dest='lr')\n",
        "parser.add_argument('--epochs', default=200, type=int, metavar='N', help='number of total epochs to run')\n",
        "parser.add_argument('--schedule', default=[120, 160], nargs='*', type=int, help='learning rate schedule (when to drop lr by 10x); does not take effect if --cos is on')\n",
        "parser.add_argument('--cos', action='store_true', help='use cosine lr schedule')\n",
        "\n",
        "parser.add_argument('--batch-size', default=512, type=int, metavar='N', help='mini-batch size')\n",
        "parser.add_argument('--wd', default=5e-4, type=float, metavar='W', help='weight decay')\n",
        "\n",
        "# utils\n",
        "parser.add_argument('--resume', default='', type=str, metavar='PATH', help='path to latest checkpoint (default: none)')\n",
        "parser.add_argument('--results-dir', default='', type=str, metavar='PATH', help='path to cache (default: none)')\n",
        "\n",
        "parser.add_argument('--pretrained', default='', type=str, metavar='PATH', help='pretrained weights')\n",
        "\n",
        "\n",
        "'''\n",
        "args = parser.parse_args()  # running in command line\n",
        "'''\n",
        "args = parser.parse_args('')  # running in ipynb\n",
        "\n",
        "# set command line arguments here when running in ipynb\n",
        "args.epochs = 100\n",
        "args.cos = True\n",
        "args.schedule = []  # cos in use\n",
        "args.batch_size = 256\n",
        "args.lr = 0.2\n",
        "args.pretrained = 'model_last.pth'\n",
        "\n",
        "if args.results_dir == '':\n",
        "    args.results_dir = '/content/drive/MyDrive/linear_classification' + datetime.now().strftime(\"%Y-%m-%d-%H-%M-%S-moco\")\n",
        "\n",
        "print(args)"
      ],
      "metadata": {
        "colab": {
          "base_uri": "https://localhost:8080/"
        },
        "id": "zKkDY_GiRJ36",
        "outputId": "43e83fa5-d2d9-4d5b-f1aa-7ddd06a45c23"
      },
      "execution_count": 7,
      "outputs": [
        {
          "output_type": "stream",
          "name": "stdout",
          "text": [
            "Namespace(arch='resnet18', batch_size=256, cos=True, epochs=100, lr=0.2, pretrained='model_last.pth', results_dir='/content/drive/MyDrive/linear_classification2022-01-16-22-48-56-moco', resume='', schedule=[], wd=0.0005)\n"
          ]
        }
      ]
    },
    {
      "cell_type": "code",
      "source": [
        "\n",
        "train_transform = transforms.Compose([\n",
        "    transforms.RandomResizedCrop(56),    \n",
        "    transforms.RandomHorizontalFlip(p=0.5),\n",
        "    transforms.ToTensor(),\n",
        "    #transforms.Normalize([0.4914, 0.4822, 0.4465], [0.2023, 0.1994, 0.2010])\n",
        "    ])\n",
        "\n",
        "test_transform = transforms.Compose([\n",
        "    transforms.ToTensor(),\n",
        "    #transforms.Normalize([0.4914, 0.4822, 0.4465], [0.2023, 0.1994, 0.2010])\n",
        "    ])\n",
        "\n",
        "# data prepare\n",
        "train_data = torchvision.datasets.ImageFolder(root='eurosat_new/train', transform=train_transform)\n",
        "train_loader = DataLoader(train_data, batch_size=args.batch_size, shuffle=True, num_workers=2, pin_memory=True, drop_last=True)\n",
        "\n",
        "test_data = torchvision.datasets.ImageFolder(root='eurosat_new/test', transform=test_transform)\n",
        "test_loader = DataLoader(test_data, batch_size=args.batch_size, shuffle=False, num_workers=2, pin_memory=True)\n",
        "\n",
        "print(len(train_data),len(test_data))"
      ],
      "metadata": {
        "colab": {
          "base_uri": "https://localhost:8080/"
        },
        "id": "d77iX0NLRLWm",
        "outputId": "4b952b03-2eee-41bf-c010-cfcee8fbccd0"
      },
      "execution_count": 8,
      "outputs": [
        {
          "output_type": "stream",
          "name": "stdout",
          "text": [
            "2430 2700\n"
          ]
        }
      ]
    },
    {
      "cell_type": "code",
      "source": [
        "class ModelBase(nn.Module):\n",
        "    \"\"\"\n",
        "    Common CIFAR ResNet recipe.\n",
        "    Comparing with ImageNet ResNet recipe, it:\n",
        "    (i) replaces conv1 with kernel=3, str=1\n",
        "    (ii) removes pool1\n",
        "    \"\"\"\n",
        "    def __init__(self, feature_dim=10, arch=None, bn_splits=1):\n",
        "        super(ModelBase, self).__init__()\n",
        "\n",
        "        # use split batchnorm\n",
        "        norm_layer = partial(SplitBatchNorm, num_splits=bn_splits) if bn_splits > 1 else nn.BatchNorm2d\n",
        "        resnet_arch = getattr(resnet, arch)\n",
        "        net = resnet_arch(num_classes=feature_dim, norm_layer=norm_layer)\n",
        "\n",
        "        self.net = []\n",
        "        for name, module in net.named_children():\n",
        "            if name == 'conv1':\n",
        "                module = nn.Conv2d(3, 64, kernel_size=3, stride=1, padding=1, bias=False)\n",
        "            if isinstance(module, nn.MaxPool2d):\n",
        "                continue\n",
        "            if isinstance(module, nn.Linear):\n",
        "                self.net.append(nn.Flatten(1))\n",
        "            self.net.append(module)\n",
        "\n",
        "        self.net = nn.Sequential(*self.net)\n",
        "\n",
        "    def forward(self, x):\n",
        "        x = self.net(x)\n",
        "        # note: not normalized here\n",
        "        return x"
      ],
      "metadata": {
        "id": "TS2Dvc5NRPLi"
      },
      "execution_count": 9,
      "outputs": []
    },
    {
      "cell_type": "code",
      "source": [
        "# train for one epoch\n",
        "def train(net, data_loader, train_optimizer, epoch, args):\n",
        "    net.train()\n",
        "    adjust_learning_rate(optimizer, epoch, args)\n",
        "\n",
        "    total_acc, total_loss, total_num, train_bar = 0.0, 0.0, 0, tqdm(data_loader)\n",
        "    for img,target in train_bar:\n",
        "        img, target = img.cuda(non_blocking=True), target.cuda(non_blocking=True)\n",
        "\n",
        "        out = net(img)\n",
        "        loss = criterion(out,target.long())\n",
        "        \n",
        "        optimizer.zero_grad()\n",
        "        loss.backward()\n",
        "        optimizer.step()\n",
        "\n",
        "        total_num += data_loader.batch_size\n",
        "        total_loss += loss.item() * data_loader.batch_size\n",
        "\n",
        "        score = torch.sigmoid(out).detach().cpu()\n",
        "        pred_labels = torch.argmax(score,axis=1)\n",
        "        #average_precision = accuracy_score(target.cpu(), torch.argmax(score,axis=1)) * 100.0\n",
        "        average_precision = (pred_labels == target.cpu()).float().sum().item()\n",
        "\n",
        "        total_acc += average_precision\n",
        "\n",
        "        train_bar.set_description('Train Epoch: [{}/{}], lr: {:.6f}, Loss: {:.4f}, Acc: {:.4f}'.format(epoch, args.epochs, optimizer.param_groups[0]['lr'], total_loss / total_num, total_acc / total_num))\n",
        "\n",
        "    return total_loss / total_num, total_acc / total_num\n",
        "\n",
        "# lr scheduler for training\n",
        "def adjust_learning_rate(optimizer, epoch, args):\n",
        "    \"\"\"Decay the learning rate based on schedule\"\"\"\n",
        "    lr = args.lr\n",
        "    if args.cos:  # cosine lr schedule\n",
        "        lr *= 0.5 * (1. + math.cos(math.pi * epoch / args.epochs))\n",
        "    else:  # stepwise lr schedule\n",
        "        for milestone in args.schedule:\n",
        "            lr *= 0.1 if epoch >= milestone else 1.\n",
        "    for param_group in optimizer.param_groups:\n",
        "        param_group['lr'] = lr"
      ],
      "metadata": {
        "id": "do9Heh4cRXM2"
      },
      "execution_count": 10,
      "outputs": []
    },
    {
      "cell_type": "code",
      "source": [
        "# test\n",
        "def test(net, test_data_loader, epoch, args):\n",
        "    net.eval()\n",
        "    with torch.no_grad():\n",
        "        test_bar = tqdm(test_data_loader)\n",
        "        total_top1 = 0\n",
        "        total_num = 0\n",
        "        for img, target in test_bar:\n",
        "            img, target = img.cuda(non_blocking=True), target.cuda(non_blocking=True)\n",
        "            out = net(img)\n",
        "            \n",
        "            score = torch.sigmoid(out).detach().cpu()\n",
        "            pred_labels = torch.argmax(score,axis=1)\n",
        "            total_num += img.size(0)\n",
        "            total_top1 += (pred_labels == target.cpu()).float().sum().item()\n",
        "            test_bar.set_description('Test Epoch: [{}/{}] Acc@1:{:.2f}%'.format(epoch, args.epochs, total_top1 / total_num * 100))\n",
        "\n",
        "    return total_top1 / total_num * 100"
      ],
      "metadata": {
        "id": "HO9F4JAPRcB-"
      },
      "execution_count": 11,
      "outputs": []
    },
    {
      "cell_type": "code",
      "source": [
        "model = ModelBase(feature_dim=10, arch=args.arch)\n",
        "\n",
        "for name, param in model.named_parameters():\n",
        "    if name not in ['net.9.weight','net.9.bias']:\n",
        "        param.requires_grad = False\n",
        "\n",
        "## load pretrained model\n",
        "\n",
        "if args.pretrained is not None:\n",
        "  if os.path.isfile(args.pretrained):\n",
        "    print(\"=> loading checkpoint '{}'\".format(args.pretrained))\n",
        "    checkpoint = torch.load(args.pretrained, map_location=\"cpu\")\n",
        "    state_dict = checkpoint['state_dict']\n",
        "\n",
        "    for k in list(state_dict.keys()):\n",
        "    # retain only encoder up to before the embedding layer\n",
        "      if k.startswith('encoder_q') and not k.startswith('encoder_q.9'):\n",
        "        #pdb.set_trace()\n",
        "        # remove prefix\n",
        "        state_dict[k[len(\"encoder_q.\"):]] = state_dict[k]\n",
        "    # delete renamed or unused k\n",
        "      del state_dict[k]\n",
        "\n",
        "    #state_dict = {k.replace(\"module.\", \"\"): v for k,v in state_dict.items()}\n",
        "\n",
        "    msg = model.load_state_dict(state_dict, strict=False)\n",
        "\n",
        "    assert set(msg.missing_keys) == {\"net.9.weight\", \"net.9.bias\"}\n",
        "\n",
        "model.cuda()\n",
        "\n",
        "criterion = torch.nn.CrossEntropyLoss()\n",
        "optimizer = torch.optim.SGD(model.parameters(), lr=args.lr, momentum=0.9)\n",
        "\n",
        "\n",
        "# load model if resume\n",
        "epoch_start = 1\n",
        "if args.resume is not '':\n",
        "    checkpoint = torch.load(args.resume)\n",
        "    model.load_state_dict(checkpoint['state_dict'])\n",
        "    optimizer.load_state_dict(checkpoint['optimizer'])\n",
        "    epoch_start = checkpoint['epoch'] + 1\n",
        "    print('Loaded from: {}'.format(args.resume))\n",
        "\n",
        "# logging\n",
        "results = {'train_loss': [], 'test_acc@1': []}\n",
        "if not os.path.exists(args.results_dir):\n",
        "    os.mkdir(args.results_dir)\n",
        "# dump args\n",
        "with open(args.results_dir + '/args.json', 'w') as fid:\n",
        "    json.dump(args.__dict__, fid, indent=2)\n",
        "\n",
        "# training loop\n",
        "for epoch in range(epoch_start, args.epochs + 1):\n",
        "    train_loss = train(model, train_loader, optimizer, epoch, args)\n",
        "    results['train_loss'].append(train_loss)\n",
        "    if epoch%10 == 1:\n",
        "      test_acc_1 = test(model, test_loader, epoch, args)\n",
        "    results['test_acc@1'].append(test_acc_1)\n",
        "    # save statistics\n",
        "    data_frame = pd.DataFrame(data=results, index=range(epoch_start, epoch + 1))\n",
        "    data_frame.to_csv(args.results_dir + '/log.csv', index_label='epoch')\n",
        "    # save model\n",
        "    torch.save({'epoch': epoch, 'state_dict': model.state_dict(), 'optimizer' : optimizer.state_dict(),}, args.results_dir + '/model_last.pth')\n",
        "\n",
        "    if epoch%20==1:\n",
        "      files.download(args.results_dir + '/model_last.pth')\n",
        "\n",
        "    \n"
      ],
      "metadata": {
        "colab": {
          "base_uri": "https://localhost:8080/",
          "height": 1000
        },
        "id": "YHs-GEqpRex6",
        "outputId": "64f5223d-dfc7-4b16-b900-cb884ca78c38"
      },
      "execution_count": 12,
      "outputs": [
        {
          "metadata": {
            "tags": null
          },
          "name": "stderr",
          "output_type": "stream",
          "text": [
            "Train Epoch: [1/100], lr: 0.199951, Loss: 10.2937, Acc: 0.1576: 100%|██████████| 9/9 [00:02<00:00,  3.68it/s]\n",
            "Test Epoch: [1/100] Acc@1:9.26%: 100%|██████████| 11/11 [00:04<00:00,  2.54it/s]\n"
          ]
        },
        {
          "data": {
            "application/javascript": [
              "\n",
              "    async function download(id, filename, size) {\n",
              "      if (!google.colab.kernel.accessAllowed) {\n",
              "        return;\n",
              "      }\n",
              "      const div = document.createElement('div');\n",
              "      const label = document.createElement('label');\n",
              "      label.textContent = `Downloading \"${filename}\": `;\n",
              "      div.appendChild(label);\n",
              "      const progress = document.createElement('progress');\n",
              "      progress.max = size;\n",
              "      div.appendChild(progress);\n",
              "      document.body.appendChild(div);\n",
              "\n",
              "      const buffers = [];\n",
              "      let downloaded = 0;\n",
              "\n",
              "      const channel = await google.colab.kernel.comms.open(id);\n",
              "      // Send a message to notify the kernel that we're ready.\n",
              "      channel.send({})\n",
              "\n",
              "      for await (const message of channel.messages) {\n",
              "        // Send a message to notify the kernel that we're ready.\n",
              "        channel.send({})\n",
              "        if (message.buffers) {\n",
              "          for (const buffer of message.buffers) {\n",
              "            buffers.push(buffer);\n",
              "            downloaded += buffer.byteLength;\n",
              "            progress.value = downloaded;\n",
              "          }\n",
              "        }\n",
              "      }\n",
              "      const blob = new Blob(buffers, {type: 'application/binary'});\n",
              "      const a = document.createElement('a');\n",
              "      a.href = window.URL.createObjectURL(blob);\n",
              "      a.download = filename;\n",
              "      div.appendChild(a);\n",
              "      a.click();\n",
              "      div.remove();\n",
              "    }\n",
              "  "
            ],
            "text/plain": [
              "<IPython.core.display.Javascript object>"
            ]
          },
          "metadata": {},
          "output_type": "display_data"
        },
        {
          "data": {
            "application/javascript": [
              "download(\"download_ef380b7a-d88a-4c84-8324-1f43ec8ad65f\", \"model_last.pth\", 44795145)"
            ],
            "text/plain": [
              "<IPython.core.display.Javascript object>"
            ]
          },
          "metadata": {},
          "output_type": "display_data"
        },
        {
          "output_type": "stream",
          "name": "stderr",
          "text": [
            "Train Epoch: [2/100], lr: 0.199803, Loss: 33.2655, Acc: 0.1619: 100%|██████████| 9/9 [00:02<00:00,  4.41it/s]\n",
            "Train Epoch: [3/100], lr: 0.199556, Loss: 24.3999, Acc: 0.2422: 100%|██████████| 9/9 [00:02<00:00,  4.39it/s]\n",
            "Train Epoch: [4/100], lr: 0.199211, Loss: 19.8803, Acc: 0.2244: 100%|██████████| 9/9 [00:02<00:00,  4.39it/s]\n",
            "Train Epoch: [5/100], lr: 0.198769, Loss: 12.0269, Acc: 0.3064: 100%|██████████| 9/9 [00:02<00:00,  4.37it/s]\n",
            "Train Epoch: [6/100], lr: 0.198229, Loss: 9.5227, Acc: 0.3785: 100%|██████████| 9/9 [00:02<00:00,  4.41it/s]\n",
            "Train Epoch: [7/100], lr: 0.197592, Loss: 8.1309, Acc: 0.3546: 100%|██████████| 9/9 [00:02<00:00,  4.39it/s]\n",
            "Train Epoch: [8/100], lr: 0.196858, Loss: 6.1283, Acc: 0.4540: 100%|██████████| 9/9 [00:02<00:00,  4.44it/s]\n",
            "Train Epoch: [9/100], lr: 0.196029, Loss: 5.3641, Acc: 0.4319: 100%|██████████| 9/9 [00:02<00:00,  4.42it/s]\n",
            "Train Epoch: [10/100], lr: 0.195106, Loss: 3.9428, Acc: 0.4653: 100%|██████████| 9/9 [00:02<00:00,  4.35it/s]\n",
            "Train Epoch: [11/100], lr: 0.194088, Loss: 4.1665, Acc: 0.5074: 100%|██████████| 9/9 [00:02<00:00,  4.40it/s]\n",
            "Test Epoch: [11/100] Acc@1:35.11%: 100%|██████████| 11/11 [00:04<00:00,  2.55it/s]\n",
            "Train Epoch: [12/100], lr: 0.192978, Loss: 5.6749, Acc: 0.4683: 100%|██████████| 9/9 [00:02<00:00,  4.39it/s]\n",
            "Train Epoch: [13/100], lr: 0.191775, Loss: 6.5179, Acc: 0.4696: 100%|██████████| 9/9 [00:02<00:00,  4.44it/s]\n",
            "Train Epoch: [14/100], lr: 0.190483, Loss: 6.2842, Acc: 0.4805: 100%|██████████| 9/9 [00:02<00:00,  4.42it/s]\n",
            "Train Epoch: [15/100], lr: 0.189101, Loss: 5.1429, Acc: 0.4792: 100%|██████████| 9/9 [00:02<00:00,  4.33it/s]\n",
            "Train Epoch: [16/100], lr: 0.187631, Loss: 5.6913, Acc: 0.4536: 100%|██████████| 9/9 [00:02<00:00,  4.37it/s]\n",
            "Train Epoch: [17/100], lr: 0.186074, Loss: 5.6017, Acc: 0.4670: 100%|██████████| 9/9 [00:02<00:00,  4.29it/s]\n",
            "Train Epoch: [18/100], lr: 0.184433, Loss: 4.2336, Acc: 0.5178: 100%|██████████| 9/9 [00:02<00:00,  4.44it/s]\n",
            "Train Epoch: [19/100], lr: 0.182708, Loss: 3.0648, Acc: 0.5612: 100%|██████████| 9/9 [00:02<00:00,  4.24it/s]\n",
            "Train Epoch: [20/100], lr: 0.180902, Loss: 2.6229, Acc: 0.5421: 100%|██████████| 9/9 [00:02<00:00,  4.28it/s]\n",
            "Train Epoch: [21/100], lr: 0.179016, Loss: 2.3630, Acc: 0.5681: 100%|██████████| 9/9 [00:02<00:00,  4.29it/s]\n",
            "Test Epoch: [21/100] Acc@1:54.67%: 100%|██████████| 11/11 [00:04<00:00,  2.53it/s]\n"
          ]
        },
        {
          "output_type": "display_data",
          "data": {
            "application/javascript": [
              "\n",
              "    async function download(id, filename, size) {\n",
              "      if (!google.colab.kernel.accessAllowed) {\n",
              "        return;\n",
              "      }\n",
              "      const div = document.createElement('div');\n",
              "      const label = document.createElement('label');\n",
              "      label.textContent = `Downloading \"${filename}\": `;\n",
              "      div.appendChild(label);\n",
              "      const progress = document.createElement('progress');\n",
              "      progress.max = size;\n",
              "      div.appendChild(progress);\n",
              "      document.body.appendChild(div);\n",
              "\n",
              "      const buffers = [];\n",
              "      let downloaded = 0;\n",
              "\n",
              "      const channel = await google.colab.kernel.comms.open(id);\n",
              "      // Send a message to notify the kernel that we're ready.\n",
              "      channel.send({})\n",
              "\n",
              "      for await (const message of channel.messages) {\n",
              "        // Send a message to notify the kernel that we're ready.\n",
              "        channel.send({})\n",
              "        if (message.buffers) {\n",
              "          for (const buffer of message.buffers) {\n",
              "            buffers.push(buffer);\n",
              "            downloaded += buffer.byteLength;\n",
              "            progress.value = downloaded;\n",
              "          }\n",
              "        }\n",
              "      }\n",
              "      const blob = new Blob(buffers, {type: 'application/binary'});\n",
              "      const a = document.createElement('a');\n",
              "      a.href = window.URL.createObjectURL(blob);\n",
              "      a.download = filename;\n",
              "      div.appendChild(a);\n",
              "      a.click();\n",
              "      div.remove();\n",
              "    }\n",
              "  "
            ],
            "text/plain": [
              "<IPython.core.display.Javascript object>"
            ]
          },
          "metadata": {}
        },
        {
          "output_type": "display_data",
          "data": {
            "application/javascript": [
              "download(\"download_452e4b6b-1793-4091-b525-c1a1d4846181\", \"model_last.pth\", 44795145)"
            ],
            "text/plain": [
              "<IPython.core.display.Javascript object>"
            ]
          },
          "metadata": {}
        },
        {
          "output_type": "stream",
          "name": "stderr",
          "text": [
            "Train Epoch: [22/100], lr: 0.177051, Loss: 3.3340, Acc: 0.5208: 100%|██████████| 9/9 [00:02<00:00,  4.31it/s]\n",
            "Train Epoch: [23/100], lr: 0.175011, Loss: 3.3312, Acc: 0.5113: 100%|██████████| 9/9 [00:02<00:00,  4.30it/s]\n",
            "Train Epoch: [24/100], lr: 0.172897, Loss: 2.8373, Acc: 0.5230: 100%|██████████| 9/9 [00:02<00:00,  4.36it/s]\n",
            "Train Epoch: [25/100], lr: 0.170711, Loss: 3.4159, Acc: 0.4865: 100%|██████████| 9/9 [00:02<00:00,  4.29it/s]\n",
            "Train Epoch: [26/100], lr: 0.168455, Loss: 2.5255, Acc: 0.5447: 100%|██████████| 9/9 [00:02<00:00,  4.26it/s]\n",
            "Train Epoch: [27/100], lr: 0.166131, Loss: 2.8767, Acc: 0.5269: 100%|██████████| 9/9 [00:02<00:00,  4.28it/s]\n",
            "Train Epoch: [28/100], lr: 0.163742, Loss: 2.7968, Acc: 0.5230: 100%|██████████| 9/9 [00:02<00:00,  4.28it/s]\n",
            "Train Epoch: [29/100], lr: 0.161291, Loss: 2.4947, Acc: 0.5569: 100%|██████████| 9/9 [00:02<00:00,  4.30it/s]\n",
            "Train Epoch: [30/100], lr: 0.158779, Loss: 2.8996, Acc: 0.5590: 100%|██████████| 9/9 [00:02<00:00,  4.27it/s]\n",
            "Train Epoch: [31/100], lr: 0.156208, Loss: 3.5733, Acc: 0.5182: 100%|██████████| 9/9 [00:02<00:00,  4.27it/s]\n",
            "Test Epoch: [31/100] Acc@1:58.26%: 100%|██████████| 11/11 [00:04<00:00,  2.52it/s]\n",
            "Train Epoch: [32/100], lr: 0.153583, Loss: 3.6224, Acc: 0.5043: 100%|██████████| 9/9 [00:02<00:00,  4.27it/s]\n",
            "Train Epoch: [33/100], lr: 0.150904, Loss: 3.6921, Acc: 0.5430: 100%|██████████| 9/9 [00:02<00:00,  4.23it/s]\n",
            "Train Epoch: [34/100], lr: 0.148175, Loss: 2.3901, Acc: 0.5603: 100%|██████████| 9/9 [00:02<00:00,  4.25it/s]\n",
            "Train Epoch: [35/100], lr: 0.145399, Loss: 1.9765, Acc: 0.5816: 100%|██████████| 9/9 [00:02<00:00,  4.29it/s]\n",
            "Train Epoch: [36/100], lr: 0.142578, Loss: 1.8978, Acc: 0.6085: 100%|██████████| 9/9 [00:02<00:00,  4.26it/s]\n",
            "Train Epoch: [37/100], lr: 0.139715, Loss: 1.9199, Acc: 0.5977: 100%|██████████| 9/9 [00:02<00:00,  4.22it/s]\n",
            "Train Epoch: [38/100], lr: 0.136812, Loss: 1.7058, Acc: 0.6050: 100%|██████████| 9/9 [00:02<00:00,  4.26it/s]\n",
            "Train Epoch: [39/100], lr: 0.133874, Loss: 1.6805, Acc: 0.6055: 100%|██████████| 9/9 [00:02<00:00,  4.21it/s]\n",
            "Train Epoch: [40/100], lr: 0.130902, Loss: 1.8441, Acc: 0.6181: 100%|██████████| 9/9 [00:02<00:00,  4.30it/s]\n",
            "Train Epoch: [41/100], lr: 0.127899, Loss: 1.9669, Acc: 0.5990: 100%|██████████| 9/9 [00:02<00:00,  4.21it/s]\n",
            "Test Epoch: [41/100] Acc@1:62.81%: 100%|██████████| 11/11 [00:04<00:00,  2.50it/s]\n"
          ]
        },
        {
          "output_type": "display_data",
          "data": {
            "application/javascript": [
              "\n",
              "    async function download(id, filename, size) {\n",
              "      if (!google.colab.kernel.accessAllowed) {\n",
              "        return;\n",
              "      }\n",
              "      const div = document.createElement('div');\n",
              "      const label = document.createElement('label');\n",
              "      label.textContent = `Downloading \"${filename}\": `;\n",
              "      div.appendChild(label);\n",
              "      const progress = document.createElement('progress');\n",
              "      progress.max = size;\n",
              "      div.appendChild(progress);\n",
              "      document.body.appendChild(div);\n",
              "\n",
              "      const buffers = [];\n",
              "      let downloaded = 0;\n",
              "\n",
              "      const channel = await google.colab.kernel.comms.open(id);\n",
              "      // Send a message to notify the kernel that we're ready.\n",
              "      channel.send({})\n",
              "\n",
              "      for await (const message of channel.messages) {\n",
              "        // Send a message to notify the kernel that we're ready.\n",
              "        channel.send({})\n",
              "        if (message.buffers) {\n",
              "          for (const buffer of message.buffers) {\n",
              "            buffers.push(buffer);\n",
              "            downloaded += buffer.byteLength;\n",
              "            progress.value = downloaded;\n",
              "          }\n",
              "        }\n",
              "      }\n",
              "      const blob = new Blob(buffers, {type: 'application/binary'});\n",
              "      const a = document.createElement('a');\n",
              "      a.href = window.URL.createObjectURL(blob);\n",
              "      a.download = filename;\n",
              "      div.appendChild(a);\n",
              "      a.click();\n",
              "      div.remove();\n",
              "    }\n",
              "  "
            ],
            "text/plain": [
              "<IPython.core.display.Javascript object>"
            ]
          },
          "metadata": {}
        },
        {
          "output_type": "display_data",
          "data": {
            "application/javascript": [
              "download(\"download_697336ae-fcaa-44e0-aee8-bb7dc9b65a17\", \"model_last.pth\", 44795145)"
            ],
            "text/plain": [
              "<IPython.core.display.Javascript object>"
            ]
          },
          "metadata": {}
        },
        {
          "output_type": "stream",
          "name": "stderr",
          "text": [
            "Train Epoch: [42/100], lr: 0.124869, Loss: 1.6058, Acc: 0.6259: 100%|██████████| 9/9 [00:02<00:00,  4.26it/s]\n",
            "Train Epoch: [43/100], lr: 0.121814, Loss: 1.5315, Acc: 0.6332: 100%|██████████| 9/9 [00:02<00:00,  4.25it/s]\n",
            "Train Epoch: [44/100], lr: 0.118738, Loss: 1.3804, Acc: 0.6424: 100%|██████████| 9/9 [00:02<00:00,  4.24it/s]\n",
            "Train Epoch: [45/100], lr: 0.115643, Loss: 1.5725, Acc: 0.6233: 100%|██████████| 9/9 [00:02<00:00,  4.21it/s]\n",
            "Train Epoch: [46/100], lr: 0.112533, Loss: 1.5835, Acc: 0.6393: 100%|██████████| 9/9 [00:02<00:00,  4.24it/s]\n",
            "Train Epoch: [47/100], lr: 0.109411, Loss: 1.6357, Acc: 0.6163: 100%|██████████| 9/9 [00:02<00:00,  4.23it/s]\n",
            "Train Epoch: [48/100], lr: 0.106279, Loss: 1.6915, Acc: 0.6046: 100%|██████████| 9/9 [00:02<00:00,  4.20it/s]\n",
            "Train Epoch: [49/100], lr: 0.103141, Loss: 1.4082, Acc: 0.6306: 100%|██████████| 9/9 [00:02<00:00,  4.29it/s]\n",
            "Train Epoch: [50/100], lr: 0.100000, Loss: 1.3086, Acc: 0.6558: 100%|██████████| 9/9 [00:02<00:00,  3.88it/s]\n",
            "Train Epoch: [51/100], lr: 0.096859, Loss: 1.3644, Acc: 0.6267: 100%|██████████| 9/9 [00:02<00:00,  4.25it/s]\n",
            "Test Epoch: [51/100] Acc@1:66.15%: 100%|██████████| 11/11 [00:04<00:00,  2.46it/s]\n",
            "Train Epoch: [52/100], lr: 0.093721, Loss: 1.2651, Acc: 0.6497: 100%|██████████| 9/9 [00:02<00:00,  4.11it/s]\n",
            "Train Epoch: [53/100], lr: 0.090589, Loss: 1.1654, Acc: 0.6732: 100%|██████████| 9/9 [00:02<00:00,  4.25it/s]\n",
            "Train Epoch: [54/100], lr: 0.087467, Loss: 1.2175, Acc: 0.6658: 100%|██████████| 9/9 [00:02<00:00,  4.21it/s]\n",
            "Train Epoch: [55/100], lr: 0.084357, Loss: 1.2434, Acc: 0.6428: 100%|██████████| 9/9 [00:02<00:00,  4.21it/s]\n",
            "Train Epoch: [56/100], lr: 0.081262, Loss: 1.1334, Acc: 0.6636: 100%|██████████| 9/9 [00:02<00:00,  4.22it/s]\n",
            "Train Epoch: [57/100], lr: 0.078186, Loss: 1.1355, Acc: 0.6719: 100%|██████████| 9/9 [00:02<00:00,  4.17it/s]\n",
            "Train Epoch: [58/100], lr: 0.075131, Loss: 1.2052, Acc: 0.6602: 100%|██████████| 9/9 [00:02<00:00,  4.20it/s]\n",
            "Train Epoch: [59/100], lr: 0.072101, Loss: 1.2081, Acc: 0.6693: 100%|██████████| 9/9 [00:02<00:00,  4.17it/s]\n",
            "Train Epoch: [60/100], lr: 0.069098, Loss: 1.1740, Acc: 0.6615: 100%|██████████| 9/9 [00:02<00:00,  4.20it/s]\n",
            "Train Epoch: [61/100], lr: 0.066126, Loss: 1.1240, Acc: 0.6662: 100%|██████████| 9/9 [00:02<00:00,  4.17it/s]\n",
            "Test Epoch: [61/100] Acc@1:66.56%: 100%|██████████| 11/11 [00:04<00:00,  2.47it/s]\n"
          ]
        },
        {
          "output_type": "display_data",
          "data": {
            "application/javascript": [
              "\n",
              "    async function download(id, filename, size) {\n",
              "      if (!google.colab.kernel.accessAllowed) {\n",
              "        return;\n",
              "      }\n",
              "      const div = document.createElement('div');\n",
              "      const label = document.createElement('label');\n",
              "      label.textContent = `Downloading \"${filename}\": `;\n",
              "      div.appendChild(label);\n",
              "      const progress = document.createElement('progress');\n",
              "      progress.max = size;\n",
              "      div.appendChild(progress);\n",
              "      document.body.appendChild(div);\n",
              "\n",
              "      const buffers = [];\n",
              "      let downloaded = 0;\n",
              "\n",
              "      const channel = await google.colab.kernel.comms.open(id);\n",
              "      // Send a message to notify the kernel that we're ready.\n",
              "      channel.send({})\n",
              "\n",
              "      for await (const message of channel.messages) {\n",
              "        // Send a message to notify the kernel that we're ready.\n",
              "        channel.send({})\n",
              "        if (message.buffers) {\n",
              "          for (const buffer of message.buffers) {\n",
              "            buffers.push(buffer);\n",
              "            downloaded += buffer.byteLength;\n",
              "            progress.value = downloaded;\n",
              "          }\n",
              "        }\n",
              "      }\n",
              "      const blob = new Blob(buffers, {type: 'application/binary'});\n",
              "      const a = document.createElement('a');\n",
              "      a.href = window.URL.createObjectURL(blob);\n",
              "      a.download = filename;\n",
              "      div.appendChild(a);\n",
              "      a.click();\n",
              "      div.remove();\n",
              "    }\n",
              "  "
            ],
            "text/plain": [
              "<IPython.core.display.Javascript object>"
            ]
          },
          "metadata": {}
        },
        {
          "output_type": "display_data",
          "data": {
            "application/javascript": [
              "download(\"download_fdd3e518-840a-4f7e-b39a-ec819a7bd71e\", \"model_last.pth\", 44795145)"
            ],
            "text/plain": [
              "<IPython.core.display.Javascript object>"
            ]
          },
          "metadata": {}
        },
        {
          "output_type": "stream",
          "name": "stderr",
          "text": [
            "Train Epoch: [62/100], lr: 0.063188, Loss: 1.0675, Acc: 0.6892: 100%|██████████| 9/9 [00:02<00:00,  4.17it/s]\n",
            "Train Epoch: [63/100], lr: 0.060285, Loss: 1.0618, Acc: 0.6862: 100%|██████████| 9/9 [00:02<00:00,  4.23it/s]\n",
            "Train Epoch: [64/100], lr: 0.057422, Loss: 1.0740, Acc: 0.6853: 100%|██████████| 9/9 [00:02<00:00,  4.23it/s]\n",
            "Train Epoch: [65/100], lr: 0.054601, Loss: 1.0640, Acc: 0.6858: 100%|██████████| 9/9 [00:02<00:00,  4.28it/s]\n",
            "Train Epoch: [66/100], lr: 0.051825, Loss: 1.1556, Acc: 0.6532: 100%|██████████| 9/9 [00:02<00:00,  4.21it/s]\n",
            "Train Epoch: [67/100], lr: 0.049096, Loss: 1.0486, Acc: 0.6866: 100%|██████████| 9/9 [00:02<00:00,  4.13it/s]\n",
            "Train Epoch: [68/100], lr: 0.046417, Loss: 1.0807, Acc: 0.6649: 100%|██████████| 9/9 [00:02<00:00,  4.19it/s]\n",
            "Train Epoch: [69/100], lr: 0.043792, Loss: 1.0890, Acc: 0.6606: 100%|██████████| 9/9 [00:02<00:00,  4.07it/s]\n",
            "Train Epoch: [70/100], lr: 0.041221, Loss: 1.0632, Acc: 0.6727: 100%|██████████| 9/9 [00:02<00:00,  4.19it/s]\n",
            "Train Epoch: [71/100], lr: 0.038709, Loss: 1.1007, Acc: 0.6684: 100%|██████████| 9/9 [00:02<00:00,  4.24it/s]\n",
            "Test Epoch: [71/100] Acc@1:67.44%: 100%|██████████| 11/11 [00:04<00:00,  2.46it/s]\n",
            "Train Epoch: [72/100], lr: 0.036258, Loss: 1.0299, Acc: 0.6701: 100%|██████████| 9/9 [00:02<00:00,  4.17it/s]\n",
            "Train Epoch: [73/100], lr: 0.033869, Loss: 1.0368, Acc: 0.6866: 100%|██████████| 9/9 [00:02<00:00,  4.24it/s]\n",
            "Train Epoch: [74/100], lr: 0.031545, Loss: 1.0017, Acc: 0.7044: 100%|██████████| 9/9 [00:02<00:00,  4.12it/s]\n",
            "Train Epoch: [75/100], lr: 0.029289, Loss: 0.9679, Acc: 0.6875: 100%|██████████| 9/9 [00:02<00:00,  4.20it/s]\n",
            "Train Epoch: [76/100], lr: 0.027103, Loss: 0.9785, Acc: 0.6962: 100%|██████████| 9/9 [00:02<00:00,  4.14it/s]\n",
            "Train Epoch: [77/100], lr: 0.024989, Loss: 0.9509, Acc: 0.6970: 100%|██████████| 9/9 [00:02<00:00,  4.21it/s]\n",
            "Train Epoch: [78/100], lr: 0.022949, Loss: 0.9402, Acc: 0.6979: 100%|██████████| 9/9 [00:02<00:00,  4.26it/s]\n",
            "Train Epoch: [79/100], lr: 0.020984, Loss: 0.9438, Acc: 0.7010: 100%|██████████| 9/9 [00:02<00:00,  4.19it/s]\n",
            "Train Epoch: [80/100], lr: 0.019098, Loss: 0.9710, Acc: 0.6966: 100%|██████████| 9/9 [00:02<00:00,  4.17it/s]\n",
            "Train Epoch: [81/100], lr: 0.017292, Loss: 0.9383, Acc: 0.6918: 100%|██████████| 9/9 [00:02<00:00,  4.20it/s]\n",
            "Test Epoch: [81/100] Acc@1:68.37%: 100%|██████████| 11/11 [00:04<00:00,  2.46it/s]\n"
          ]
        },
        {
          "output_type": "display_data",
          "data": {
            "application/javascript": [
              "\n",
              "    async function download(id, filename, size) {\n",
              "      if (!google.colab.kernel.accessAllowed) {\n",
              "        return;\n",
              "      }\n",
              "      const div = document.createElement('div');\n",
              "      const label = document.createElement('label');\n",
              "      label.textContent = `Downloading \"${filename}\": `;\n",
              "      div.appendChild(label);\n",
              "      const progress = document.createElement('progress');\n",
              "      progress.max = size;\n",
              "      div.appendChild(progress);\n",
              "      document.body.appendChild(div);\n",
              "\n",
              "      const buffers = [];\n",
              "      let downloaded = 0;\n",
              "\n",
              "      const channel = await google.colab.kernel.comms.open(id);\n",
              "      // Send a message to notify the kernel that we're ready.\n",
              "      channel.send({})\n",
              "\n",
              "      for await (const message of channel.messages) {\n",
              "        // Send a message to notify the kernel that we're ready.\n",
              "        channel.send({})\n",
              "        if (message.buffers) {\n",
              "          for (const buffer of message.buffers) {\n",
              "            buffers.push(buffer);\n",
              "            downloaded += buffer.byteLength;\n",
              "            progress.value = downloaded;\n",
              "          }\n",
              "        }\n",
              "      }\n",
              "      const blob = new Blob(buffers, {type: 'application/binary'});\n",
              "      const a = document.createElement('a');\n",
              "      a.href = window.URL.createObjectURL(blob);\n",
              "      a.download = filename;\n",
              "      div.appendChild(a);\n",
              "      a.click();\n",
              "      div.remove();\n",
              "    }\n",
              "  "
            ],
            "text/plain": [
              "<IPython.core.display.Javascript object>"
            ]
          },
          "metadata": {}
        },
        {
          "output_type": "display_data",
          "data": {
            "application/javascript": [
              "download(\"download_d0319332-7a91-4ac2-8b2d-878ca9e965e9\", \"model_last.pth\", 44795145)"
            ],
            "text/plain": [
              "<IPython.core.display.Javascript object>"
            ]
          },
          "metadata": {}
        },
        {
          "output_type": "stream",
          "name": "stderr",
          "text": [
            "Train Epoch: [82/100], lr: 0.015567, Loss: 0.9218, Acc: 0.6957: 100%|██████████| 9/9 [00:02<00:00,  4.17it/s]\n",
            "Train Epoch: [83/100], lr: 0.013926, Loss: 0.9335, Acc: 0.7044: 100%|██████████| 9/9 [00:02<00:00,  4.31it/s]\n",
            "Train Epoch: [84/100], lr: 0.012369, Loss: 0.9001, Acc: 0.7014: 100%|██████████| 9/9 [00:02<00:00,  4.15it/s]\n",
            "Train Epoch: [85/100], lr: 0.010899, Loss: 0.8915, Acc: 0.7144: 100%|██████████| 9/9 [00:02<00:00,  4.24it/s]\n",
            "Train Epoch: [86/100], lr: 0.009517, Loss: 0.9404, Acc: 0.6888: 100%|██████████| 9/9 [00:02<00:00,  4.22it/s]\n",
            "Train Epoch: [87/100], lr: 0.008225, Loss: 0.9027, Acc: 0.7096: 100%|██████████| 9/9 [00:02<00:00,  4.22it/s]\n",
            "Train Epoch: [88/100], lr: 0.007022, Loss: 0.9048, Acc: 0.6936: 100%|██████████| 9/9 [00:02<00:00,  4.21it/s]\n",
            "Train Epoch: [89/100], lr: 0.005912, Loss: 0.8927, Acc: 0.7096: 100%|██████████| 9/9 [00:02<00:00,  4.24it/s]\n",
            "Train Epoch: [90/100], lr: 0.004894, Loss: 0.9318, Acc: 0.7018: 100%|██████████| 9/9 [00:02<00:00,  4.21it/s]\n",
            "Train Epoch: [91/100], lr: 0.003971, Loss: 0.9014, Acc: 0.7070: 100%|██████████| 9/9 [00:02<00:00,  4.18it/s]\n",
            "Test Epoch: [91/100] Acc@1:68.44%: 100%|██████████| 11/11 [00:04<00:00,  2.44it/s]\n",
            "Train Epoch: [92/100], lr: 0.003142, Loss: 0.8869, Acc: 0.7075: 100%|██████████| 9/9 [00:02<00:00,  4.24it/s]\n",
            "Train Epoch: [93/100], lr: 0.002408, Loss: 0.9577, Acc: 0.7066: 100%|██████████| 9/9 [00:02<00:00,  4.20it/s]\n",
            "Train Epoch: [94/100], lr: 0.001771, Loss: 0.9261, Acc: 0.7053: 100%|██████████| 9/9 [00:02<00:00,  4.20it/s]\n",
            "Train Epoch: [95/100], lr: 0.001231, Loss: 0.9213, Acc: 0.6988: 100%|██████████| 9/9 [00:02<00:00,  4.18it/s]\n",
            "Train Epoch: [96/100], lr: 0.000789, Loss: 0.8678, Acc: 0.7222: 100%|██████████| 9/9 [00:02<00:00,  4.13it/s]\n",
            "Train Epoch: [97/100], lr: 0.000444, Loss: 0.8934, Acc: 0.7010: 100%|██████████| 9/9 [00:02<00:00,  4.16it/s]\n",
            "Train Epoch: [98/100], lr: 0.000197, Loss: 0.9058, Acc: 0.7079: 100%|██████████| 9/9 [00:02<00:00,  4.15it/s]\n",
            "Train Epoch: [99/100], lr: 0.000049, Loss: 0.8686, Acc: 0.7166: 100%|██████████| 9/9 [00:02<00:00,  4.14it/s]\n",
            "Train Epoch: [100/100], lr: 0.000000, Loss: 0.9043, Acc: 0.6957: 100%|██████████| 9/9 [00:02<00:00,  4.12it/s]\n"
          ]
        }
      ]
    }
  ]
}