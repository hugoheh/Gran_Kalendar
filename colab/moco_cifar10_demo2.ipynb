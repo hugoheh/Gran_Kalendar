{
  "cells": [
    {
      "cell_type": "markdown",
      "metadata": {
        "id": "QGxzHu6meXsZ"
      },
      "source": [
        "## MoCo Demo: CIFAR-10\n",
        "\n",
        "This is a simple demo for training MoCo on CIFAR-10. It can be run directly in a Colab notebook using a publicly available GPU.\n",
        "\n",
        "#### Results\n",
        "\n",
        "These are the ResNet-18 classification accuracy of a **kNN monitor** on the unsupervised pre-training features. \n",
        "\n",
        "| config | 200ep | 400ep | 800ep |\n",
        "| --- | --- | --- | --- |\n",
        "| Asymmetric | 82.6 | 86.3 | 88.7 |\n",
        "| Symmetric | 85.3 | 88.5 | 89.7 |\n",
        "\n",
        "#### Notes\n",
        "\n",
        "* **Symmetric loss**: the original MoCo paper uses an *asymmetric* loss -- one crop is the query and the other crop is the key, and it backpropagates to one crop (query). Following SimCLR/BYOL, here we provide an option of a *symmetric* loss -- it swaps the two crops and computes an extra loss. The symmetric loss behaves like 2x epochs of the asymmetric counterpart: this may dominate the comparison results when the models are trained with a fixed epoch number.\n",
        "\n",
        "* **SplitBatchNorm**: the original MoCo was trained in 8 GPUs. To simulate the multi-GPU behavior of BatchNorm in this 1-GPU demo, we provide a SplitBatchNorm layer. We set `--bn-splits 8` by default to simulate 8 GPUs. `--bn-splits 1` is analogous to SyncBatchNorm in the multi-GPU case.\n",
        "\n",
        "* **kNN monitor**: this demo provides a kNN monitor on the test set. Training a linear classifier on frozen features often achieves higher accuracy. To train a linear classifier (not provided in this demo), we recommend using lr=30, wd=0, epochs=100 with a stepwise or cosine schedule. The ResNet-18 model (kNN 89.7) has 90.7 linear classification accuracy.\n",
        "\n",
        "#### Disclaimer\n",
        "\n",
        "This demo aims to provide an interface with a free GPU (thanks to Colab) for understanding how the code runs. We suggest users be careful to draw conclusions from CIFAR, which may not generalize beyond this dataset. We have verified that it is beneficial to have the momentum encoder (disabling it by `--moco-m 0.0` should fail), queue size (saturated at `--moco-k 4096`) and ShuffleBN (without which loses 4% at 800 epochs) on CIFAR, similar to the observations on ImageNet. But new observations made only on CIFAR should be judged with caution.\n",
        "\n",
        "#### References\n",
        "This demo is adapted from:\n",
        "* http://github.com/zhirongw/lemniscate.pytorch\n",
        "* https://github.com/leftthomas/SimCLR\n",
        "\n",
        "\n",
        "\n",
        "\n",
        "\n",
        "\n"
      ]
    },
    {
      "cell_type": "markdown",
      "metadata": {
        "id": "9MXcbCW8f7Eh"
      },
      "source": [
        "### Prepare\n",
        "\n",
        "Check GPU settings. A free GPU in Colab is <= Tesla P100. The log of the demo is based on a Tesla V100 from Google Cloud Platform.\n"
      ]
    },
    {
      "cell_type": "code",
      "source": [
        "from google.colab import drive\n",
        "drive.mount('/content/drive')"
      ],
      "metadata": {
        "colab": {
          "base_uri": "https://localhost:8080/"
        },
        "id": "BxLdpiaMNkjF",
        "outputId": "78617a37-5e3c-4731-dbb3-4ef96edd077d"
      },
      "execution_count": 1,
      "outputs": [
        {
          "output_type": "stream",
          "name": "stdout",
          "text": [
            "Drive already mounted at /content/drive; to attempt to forcibly remount, call drive.mount(\"/content/drive\", force_remount=True).\n"
          ]
        }
      ]
    },
    {
      "cell_type": "code",
      "source": [
        "!pip install wandb\n",
        "import wandb\n",
        "wandb.init()"
      ],
      "metadata": {
        "colab": {
          "base_uri": "https://localhost:8080/",
          "height": 527
        },
        "id": "l1k_FTG5NrVX",
        "outputId": "b011abd4-5352-4b46-cb70-57f6cf430941"
      },
      "execution_count": 2,
      "outputs": [
        {
          "output_type": "stream",
          "name": "stdout",
          "text": [
            "Requirement already satisfied: wandb in /usr/local/lib/python3.7/dist-packages (0.12.9)\n",
            "Requirement already satisfied: psutil>=5.0.0 in /usr/local/lib/python3.7/dist-packages (from wandb) (5.4.8)\n",
            "Requirement already satisfied: GitPython>=1.0.0 in /usr/local/lib/python3.7/dist-packages (from wandb) (3.1.26)\n",
            "Requirement already satisfied: sentry-sdk>=1.0.0 in /usr/local/lib/python3.7/dist-packages (from wandb) (1.5.3)\n",
            "Requirement already satisfied: yaspin>=1.0.0 in /usr/local/lib/python3.7/dist-packages (from wandb) (2.1.0)\n",
            "Requirement already satisfied: pathtools in /usr/local/lib/python3.7/dist-packages (from wandb) (0.1.2)\n",
            "Requirement already satisfied: configparser>=3.8.1 in /usr/local/lib/python3.7/dist-packages (from wandb) (5.2.0)\n",
            "Requirement already satisfied: docker-pycreds>=0.4.0 in /usr/local/lib/python3.7/dist-packages (from wandb) (0.4.0)\n",
            "Requirement already satisfied: python-dateutil>=2.6.1 in /usr/local/lib/python3.7/dist-packages (from wandb) (2.8.2)\n",
            "Requirement already satisfied: promise<3,>=2.0 in /usr/local/lib/python3.7/dist-packages (from wandb) (2.3)\n",
            "Requirement already satisfied: six>=1.13.0 in /usr/local/lib/python3.7/dist-packages (from wandb) (1.15.0)\n",
            "Requirement already satisfied: PyYAML in /usr/local/lib/python3.7/dist-packages (from wandb) (3.13)\n",
            "Requirement already satisfied: requests<3,>=2.0.0 in /usr/local/lib/python3.7/dist-packages (from wandb) (2.23.0)\n",
            "Requirement already satisfied: shortuuid>=0.5.0 in /usr/local/lib/python3.7/dist-packages (from wandb) (1.0.8)\n",
            "Requirement already satisfied: subprocess32>=3.5.3 in /usr/local/lib/python3.7/dist-packages (from wandb) (3.5.4)\n",
            "Requirement already satisfied: protobuf>=3.12.0 in /usr/local/lib/python3.7/dist-packages (from wandb) (3.17.3)\n",
            "Requirement already satisfied: Click!=8.0.0,>=7.0 in /usr/local/lib/python3.7/dist-packages (from wandb) (7.1.2)\n",
            "Requirement already satisfied: gitdb<5,>=4.0.1 in /usr/local/lib/python3.7/dist-packages (from GitPython>=1.0.0->wandb) (4.0.9)\n",
            "Requirement already satisfied: typing-extensions>=3.7.4.3 in /usr/local/lib/python3.7/dist-packages (from GitPython>=1.0.0->wandb) (3.10.0.2)\n",
            "Requirement already satisfied: smmap<6,>=3.0.1 in /usr/local/lib/python3.7/dist-packages (from gitdb<5,>=4.0.1->GitPython>=1.0.0->wandb) (5.0.0)\n",
            "Requirement already satisfied: urllib3!=1.25.0,!=1.25.1,<1.26,>=1.21.1 in /usr/local/lib/python3.7/dist-packages (from requests<3,>=2.0.0->wandb) (1.24.3)\n",
            "Requirement already satisfied: certifi>=2017.4.17 in /usr/local/lib/python3.7/dist-packages (from requests<3,>=2.0.0->wandb) (2021.10.8)\n",
            "Requirement already satisfied: idna<3,>=2.5 in /usr/local/lib/python3.7/dist-packages (from requests<3,>=2.0.0->wandb) (2.10)\n",
            "Requirement already satisfied: chardet<4,>=3.0.2 in /usr/local/lib/python3.7/dist-packages (from requests<3,>=2.0.0->wandb) (3.0.4)\n",
            "Requirement already satisfied: termcolor<2.0.0,>=1.1.0 in /usr/local/lib/python3.7/dist-packages (from yaspin>=1.0.0->wandb) (1.1.0)\n"
          ]
        },
        {
          "output_type": "stream",
          "name": "stderr",
          "text": [
            "\u001b[34m\u001b[1mwandb\u001b[0m: Currently logged in as: \u001b[33mhugo_heh\u001b[0m (use `wandb login --relogin` to force relogin)\n"
          ]
        },
        {
          "output_type": "display_data",
          "data": {
            "text/html": [
              "\n",
              "                    Syncing run <strong><a href=\"https://wandb.ai/hugo_heh/uncategorized/runs/1uni6z4f\" target=\"_blank\">feasible-sun-28</a></strong> to <a href=\"https://wandb.ai/hugo_heh/uncategorized\" target=\"_blank\">Weights & Biases</a> (<a href=\"https://docs.wandb.com/integrations/jupyter.html\" target=\"_blank\">docs</a>).<br/>\n",
              "\n",
              "                "
            ],
            "text/plain": [
              "<IPython.core.display.HTML object>"
            ]
          },
          "metadata": {}
        },
        {
          "output_type": "execute_result",
          "data": {
            "text/plain": [
              "<wandb.sdk.wandb_run.Run at 0x7faeb007f210>"
            ],
            "text/html": [
              "<button onClick=\"this.nextSibling.style.display='block';this.style.display='none';\">Display W&B run</button><iframe src=\"https://wandb.ai/hugo_heh/uncategorized/runs/1uni6z4f?jupyter=true\" style=\"border:none;width:100%;height:420px;display:none;\"></iframe>"
            ]
          },
          "metadata": {},
          "execution_count": 2
        }
      ]
    },
    {
      "cell_type": "code",
      "execution_count": 3,
      "metadata": {
        "colab": {
          "base_uri": "https://localhost:8080/"
        },
        "id": "CvAFrPlS4bLU",
        "outputId": "a685a166-cba7-45dd-f6e1-ee249e09800d"
      },
      "outputs": [
        {
          "output_type": "stream",
          "name": "stdout",
          "text": [
            "Fri Jan 21 17:18:15 2022       \n",
            "+-----------------------------------------------------------------------------+\n",
            "| NVIDIA-SMI 495.46       Driver Version: 460.32.03    CUDA Version: 11.2     |\n",
            "|-------------------------------+----------------------+----------------------+\n",
            "| GPU  Name        Persistence-M| Bus-Id        Disp.A | Volatile Uncorr. ECC |\n",
            "| Fan  Temp  Perf  Pwr:Usage/Cap|         Memory-Usage | GPU-Util  Compute M. |\n",
            "|                               |                      |               MIG M. |\n",
            "|===============================+======================+======================|\n",
            "|   0  Tesla T4            Off  | 00000000:00:04.0 Off |                    0 |\n",
            "| N/A   44C    P8    10W /  70W |      0MiB / 15109MiB |      0%      Default |\n",
            "|                               |                      |                  N/A |\n",
            "+-------------------------------+----------------------+----------------------+\n",
            "                                                                               \n",
            "+-----------------------------------------------------------------------------+\n",
            "| Processes:                                                                  |\n",
            "|  GPU   GI   CI        PID   Type   Process name                  GPU Memory |\n",
            "|        ID   ID                                                   Usage      |\n",
            "|=============================================================================|\n",
            "|  No running processes found                                                 |\n",
            "+-----------------------------------------------------------------------------+\n",
            "Requirement already satisfied: torch-rs in /usr/local/lib/python3.7/dist-packages (0.0.4)\n",
            "Requirement already satisfied: numpy>=1.21.0 in /usr/local/lib/python3.7/dist-packages (from torch-rs) (1.21.5)\n",
            "Requirement already satisfied: torch>=1.9.0 in /usr/local/lib/python3.7/dist-packages (from torch-rs) (1.10.0+cu111)\n",
            "Requirement already satisfied: pillow>=8.3.1 in /usr/local/lib/python3.7/dist-packages (from torch-rs) (9.0.0)\n",
            "Requirement already satisfied: torchvision>=0.10.0 in /usr/local/lib/python3.7/dist-packages (from torch-rs) (0.11.1+cu111)\n",
            "Requirement already satisfied: imagecodecs>=2021.7.30 in /usr/local/lib/python3.7/dist-packages (from torch-rs) (2021.11.20)\n",
            "Requirement already satisfied: h5py>=3.3.0 in /usr/local/lib/python3.7/dist-packages (from torch-rs) (3.6.0)\n",
            "Requirement already satisfied: tifffile>=2021.7.2 in /usr/local/lib/python3.7/dist-packages (from torch-rs) (2021.11.2)\n",
            "Requirement already satisfied: torchaudio>=0.9.0 in /usr/local/lib/python3.7/dist-packages (from torch-rs) (0.10.0+cu111)\n",
            "Requirement already satisfied: einops>=0.3.0 in /usr/local/lib/python3.7/dist-packages (from torch-rs) (0.4.0)\n",
            "Requirement already satisfied: cached-property in /usr/local/lib/python3.7/dist-packages (from h5py>=3.3.0->torch-rs) (1.5.2)\n",
            "Requirement already satisfied: typing-extensions in /usr/local/lib/python3.7/dist-packages (from torch>=1.9.0->torch-rs) (3.10.0.2)\n"
          ]
        }
      ],
      "source": [
        "gpu_info = !nvidia-smi -i 0\n",
        "gpu_info = '\\n'.join(gpu_info)\n",
        "print(gpu_info)\n",
        "\n",
        "!pip install torch-rs\n",
        "\n",
        "from datetime import datetime\n",
        "from functools import partial\n",
        "from PIL import Image\n",
        "from torch.utils.data import DataLoader\n",
        "from torchvision import transforms\n",
        "from torchvision.datasets import CIFAR10\n",
        "from torchvision.models import resnet\n",
        "from tqdm import tqdm\n",
        "import argparse\n",
        "import json\n",
        "import math\n",
        "import os\n",
        "import pandas as pd\n",
        "import torch\n",
        "import torch.nn as nn\n",
        "import torch.nn.functional as F\n",
        "\n",
        "import torchvision.transforms as T\n",
        "from torchrs.transforms import ToTensor\n",
        "from torchrs.datasets import EuroSATRGB, EuroSATMS\n",
        "\n",
        "import numpy as np\n",
        "import zipfile\n",
        "import torchvision\n",
        "\n",
        "from google.colab import files"
      ]
    },
    {
      "cell_type": "code",
      "source": [
        "!wget https://madm.dfki.de/files/sentinel/EuroSAT.zip\n",
        "\n",
        "with zipfile.ZipFile('EuroSAT.zip', 'r') as zip_ref:\n",
        "    zip_ref.extractall('eurosat')"
      ],
      "metadata": {
        "colab": {
          "base_uri": "https://localhost:8080/"
        },
        "id": "TGS76EccN0Hb",
        "outputId": "a6a31aa2-44a6-4ee9-ea82-10051d0db4a9"
      },
      "execution_count": 4,
      "outputs": [
        {
          "output_type": "stream",
          "name": "stdout",
          "text": [
            "--2022-01-21 17:18:22--  https://madm.dfki.de/files/sentinel/EuroSAT.zip\n",
            "Resolving madm.dfki.de (madm.dfki.de)... 131.246.195.183\n",
            "Connecting to madm.dfki.de (madm.dfki.de)|131.246.195.183|:443... connected.\n",
            "HTTP request sent, awaiting response... 200 OK\n",
            "Length: 94280567 (90M) [application/zip]\n",
            "Saving to: ‘EuroSAT.zip’\n",
            "\n",
            "EuroSAT.zip         100%[===================>]  89.91M  19.3MB/s    in 5.6s    \n",
            "\n",
            "2022-01-21 17:18:29 (16.0 MB/s) - ‘EuroSAT.zip’ saved [94280567/94280567]\n",
            "\n"
          ]
        }
      ]
    },
    {
      "cell_type": "code",
      "source": [
        "!pip install split-folders"
      ],
      "metadata": {
        "colab": {
          "base_uri": "https://localhost:8080/"
        },
        "id": "gHLj--7iN2hL",
        "outputId": "17530609-5f6e-463f-8569-a74e7a06d3ef"
      },
      "execution_count": 5,
      "outputs": [
        {
          "output_type": "stream",
          "name": "stdout",
          "text": [
            "Collecting split-folders\n",
            "  Downloading split_folders-0.4.3-py3-none-any.whl (7.4 kB)\n",
            "Installing collected packages: split-folders\n",
            "Successfully installed split-folders-0.4.3\n"
          ]
        }
      ]
    },
    {
      "cell_type": "code",
      "source": [
        "import splitfolders\n",
        "splitfolders.ratio('eurosat/2750', output=\"eurosat_new\", seed=42, ratio=(.9, 0,0.1)) # 24300 train, 2700 test"
      ],
      "metadata": {
        "colab": {
          "base_uri": "https://localhost:8080/"
        },
        "id": "cukDdqI-N4r7",
        "outputId": "6c7b9006-9fa8-4fae-b0fe-fbcb51ba3a34"
      },
      "execution_count": 6,
      "outputs": [
        {
          "output_type": "stream",
          "name": "stderr",
          "text": [
            "Copying files: 27000 files [00:03, 7274.96 files/s]\n"
          ]
        }
      ]
    },
    {
      "cell_type": "markdown",
      "metadata": {
        "id": "S_rtoBGhgSae"
      },
      "source": [
        "### Set arguments"
      ]
    },
    {
      "cell_type": "code",
      "execution_count": 7,
      "metadata": {
        "colab": {
          "base_uri": "https://localhost:8080/"
        },
        "id": "dvuxcmejkKt8",
        "outputId": "b28e533f-cdd2-4f7b-cf03-949582ba3925"
      },
      "outputs": [
        {
          "output_type": "stream",
          "name": "stdout",
          "text": [
            "Namespace(arch='resnet18', batch_size=256, bn_splits=4, cos=True, epochs=100, knn_k=200, knn_t=0.1, lr=0.2, moco_dim=128, moco_k=4096, moco_m=0.99, moco_t=0.1, results_dir='/content/drive/MyDrive/KNN_torchrs2022-01-21-17-18-47-moco', resume='', schedule=[], symmetric=False, wd=0.0005)\n"
          ]
        }
      ],
      "source": [
        "parser = argparse.ArgumentParser(description='Train MoCo on CIFAR-10')\n",
        "\n",
        "parser.add_argument('-a', '--arch', default='resnet18')\n",
        "\n",
        "# lr: 0.06 for batch 512 (or 0.03 for batch 256)\n",
        "parser.add_argument('--lr', '--learning-rate', default=0.06, type=float, metavar='LR', help='initial learning rate', dest='lr')\n",
        "parser.add_argument('--epochs', default=200, type=int, metavar='N', help='number of total epochs to run')\n",
        "parser.add_argument('--schedule', default=[120, 160], nargs='*', type=int, help='learning rate schedule (when to drop lr by 10x); does not take effect if --cos is on')\n",
        "parser.add_argument('--cos', action='store_true', help='use cosine lr schedule')\n",
        "\n",
        "parser.add_argument('--batch-size', default=512, type=int, metavar='N', help='mini-batch size')\n",
        "parser.add_argument('--wd', default=5e-4, type=float, metavar='W', help='weight decay')\n",
        "\n",
        "# moco specific configs:\n",
        "parser.add_argument('--moco-dim', default=128, type=int, help='feature dimension')\n",
        "parser.add_argument('--moco-k', default=4096, type=int, help='queue size; number of negative keys')\n",
        "parser.add_argument('--moco-m', default=0.99, type=float, help='moco momentum of updating key encoder')\n",
        "parser.add_argument('--moco-t', default=0.1, type=float, help='softmax temperature')\n",
        "\n",
        "parser.add_argument('--bn-splits', default=8, type=int, help='simulate multi-gpu behavior of BatchNorm in one gpu; 1 is SyncBatchNorm in multi-gpu')\n",
        "\n",
        "parser.add_argument('--symmetric', action='store_true', help='use a symmetric loss function that backprops to both crops')\n",
        "\n",
        "# knn monitor\n",
        "parser.add_argument('--knn-k', default=200, type=int, help='k in kNN monitor')\n",
        "parser.add_argument('--knn-t', default=0.1, type=float, help='softmax temperature in kNN monitor; could be different with moco-t')\n",
        "\n",
        "# utils\n",
        "parser.add_argument('--resume', default='', type=str, metavar='PATH', help='path to latest checkpoint (default: none)')\n",
        "parser.add_argument('--results-dir', default='', type=str, metavar='PATH', help='path to cache (default: none)')\n",
        "\n",
        "'''\n",
        "args = parser.parse_args()  # running in command line\n",
        "'''\n",
        "args = parser.parse_args('')  # running in ipynb\n",
        "\n",
        "# set command line arguments here when running in ipynb\n",
        "args.epochs = 100\n",
        "args.cos = True\n",
        "args.schedule = []  # cos in use\n",
        "args.symmetric = False\n",
        "args.batch_size = 256\n",
        "args.bn_splits = 4\n",
        "args.lr = 0.2\n",
        "\n",
        "if args.results_dir == '':\n",
        "    args.results_dir =  '/content/drive/MyDrive/KNN_torchrs' + datetime.now().strftime(\"%Y-%m-%d-%H-%M-%S-moco\")\n",
        "\n",
        "print(args)"
      ]
    },
    {
      "cell_type": "markdown",
      "metadata": {
        "id": "ygQeHtsngrC8"
      },
      "source": [
        "### Define data loaders"
      ]
    },
    {
      "cell_type": "code",
      "execution_count": 8,
      "metadata": {
        "id": "AoliFX5AnBJ0",
        "colab": {
          "base_uri": "https://localhost:8080/"
        },
        "outputId": "0206377d-5e4b-41e0-eea9-ed57582dea28"
      },
      "outputs": [
        {
          "output_type": "stream",
          "name": "stdout",
          "text": [
            "27000 27000 27000\n"
          ]
        }
      ],
      "source": [
        "class TwoCropsTransform:\n",
        "    \"\"\"Take two random crops of one image as the query and key.\"\"\"\n",
        "\n",
        "    def __init__(self, base_transform):\n",
        "        self.base_transform = base_transform\n",
        "\n",
        "    def __call__(self, x):\n",
        "        q = self.base_transform(x)\n",
        "        k = self.base_transform(x)\n",
        "        return [q, k]\n",
        "\n",
        "\n",
        "train_transform = T.Compose([   \n",
        "    transforms.RandomResizedCrop(56,scale=(0.2,1.0)),    \n",
        "    transforms.RandomApply([transforms.ColorJitter(0.4, 0.4, 0.4, 0.1)], p=0.8),\n",
        "    transforms.RandomGrayscale(p=0.2),\n",
        "    transforms.RandomHorizontalFlip(p=0.5),\n",
        "    transforms.ToTensor(),\n",
        "    #transforms.Normalize([0.4914, 0.4822, 0.4465], [0.2023, 0.1994, 0.2010])\n",
        "    ])\n",
        "\n",
        "test_transform = T.Compose([\n",
        "    transforms.ToTensor(),\n",
        "    #transforms.Normalize([0.4914, 0.4822, 0.4465], [0.2023, 0.1994, 0.2010])\n",
        "    ])\n",
        "\n",
        "#transform = T.Compose([ToTensor()])\n",
        "\n",
        "dataset = EuroSATRGB(\n",
        "    root=\"/content/eurosat\",\n",
        "    transform=train_transform\n",
        ")\n",
        "\"\"\"\n",
        "x, y = dataset[0]\n",
        "x: (3, 64, 64)\n",
        "y: int \n",
        "\"\"\"\n",
        "\n",
        "#transform = T.Compose([ToTensor()])\n",
        "\n",
        "#dataset = EuroSATMS(\n",
        " #   root=\"/content/\",\n",
        "  #  transform=transform\n",
        "#)\n",
        "#\"\"\"\n",
        "#x, y = dataset[0]\n",
        "#x: (13, 64, 64)\n",
        "#y: int\n",
        "#\"\"\"\n",
        "dataset.classes\n",
        "\"\"\"\n",
        "['AnnualCrop', 'Forest', 'HerbaceousVegetation', 'Highway', 'Industrial',\n",
        "'Pasture', 'PermanentCrop', 'Residential', 'River', 'SeaLake']\n",
        "\"\"\"\n",
        "\n",
        "# data prepare\n",
        "train_data = EuroSATRGB(root='/content/eurosat', transform=TwoCropsTransform(train_transform))\n",
        "train_loader = DataLoader(train_data, batch_size=args.batch_size, shuffle=True, num_workers=2, pin_memory=True, drop_last=True)\n",
        "\n",
        "memory_data = EuroSATRGB(root='/content/eurosat', transform=test_transform)\n",
        "memory_loader = DataLoader(memory_data, batch_size=args.batch_size, shuffle=False, num_workers=2, pin_memory=True)\n",
        "\n",
        "test_data = EuroSATRGB(root='/content/eurosat', transform=test_transform)\n",
        "test_loader = DataLoader(test_data, batch_size=args.batch_size, shuffle=False, num_workers=2, pin_memory=True)\n",
        "\n",
        "print(len(train_data),len(memory_data),len(test_data))"
      ]
    },
    {
      "cell_type": "markdown",
      "metadata": {
        "id": "KsAVAtRoiBbG"
      },
      "source": [
        "### Define base encoder"
      ]
    },
    {
      "cell_type": "code",
      "execution_count": 9,
      "metadata": {
        "id": "bNd_Q_Osi0SO"
      },
      "outputs": [],
      "source": [
        "# SplitBatchNorm: simulate multi-gpu behavior of BatchNorm in one gpu by splitting alone the batch dimension\n",
        "# implementation adapted from https://github.com/davidcpage/cifar10-fast/blob/master/torch_backend.py\n",
        "class SplitBatchNorm(nn.BatchNorm2d):\n",
        "    def __init__(self, num_features, num_splits, **kw):\n",
        "        super().__init__(num_features, **kw)\n",
        "        self.num_splits = num_splits\n",
        "        \n",
        "    def forward(self, input):\n",
        "        N, C, H, W = input.shape\n",
        "        if self.training or not self.track_running_stats:\n",
        "            running_mean_split = self.running_mean.repeat(self.num_splits)\n",
        "            running_var_split = self.running_var.repeat(self.num_splits)\n",
        "            outcome = nn.functional.batch_norm(\n",
        "                input.view(-1, C * self.num_splits, H, W), running_mean_split, running_var_split, \n",
        "                self.weight.repeat(self.num_splits), self.bias.repeat(self.num_splits),\n",
        "                True, self.momentum, self.eps).view(N, C, H, W)\n",
        "            self.running_mean.data.copy_(running_mean_split.view(self.num_splits, C).mean(dim=0))\n",
        "            self.running_var.data.copy_(running_var_split.view(self.num_splits, C).mean(dim=0))\n",
        "            return outcome\n",
        "        else:\n",
        "            return nn.functional.batch_norm(\n",
        "                input, self.running_mean, self.running_var, \n",
        "                self.weight, self.bias, False, self.momentum, self.eps)\n",
        "\n",
        "class ModelBase(nn.Module):\n",
        "    \"\"\"\n",
        "    Common CIFAR ResNet recipe.\n",
        "    Comparing with ImageNet ResNet recipe, it:\n",
        "    (i) replaces conv1 with kernel=3, str=1\n",
        "    (ii) removes pool1\n",
        "    \"\"\"\n",
        "    def __init__(self, feature_dim=128, arch=None, bn_splits=16):\n",
        "        super(ModelBase, self).__init__()\n",
        "\n",
        "        # use split batchnorm\n",
        "        norm_layer = partial(SplitBatchNorm, num_splits=bn_splits) if bn_splits > 1 else nn.BatchNorm2d\n",
        "        resnet_arch = getattr(resnet, arch)\n",
        "        net = resnet_arch(num_classes=feature_dim, norm_layer=norm_layer)\n",
        "\n",
        "        self.net = []\n",
        "        for name, module in net.named_children():\n",
        "            if name == 'conv1':\n",
        "                module = nn.Conv2d(3, 64, kernel_size=3, stride=1, padding=1, bias=False)\n",
        "            if isinstance(module, nn.MaxPool2d):\n",
        "                continue\n",
        "            if isinstance(module, nn.Linear):\n",
        "                self.net.append(nn.Flatten(1))\n",
        "            self.net.append(module)\n",
        "\n",
        "        self.net = nn.Sequential(*self.net)\n",
        "\n",
        "    def forward(self, x):\n",
        "        x = self.net(x)\n",
        "        # note: not normalized here\n",
        "        return x"
      ]
    },
    {
      "cell_type": "markdown",
      "metadata": {
        "id": "jJFOHlOBpLay"
      },
      "source": [
        "### Define MoCo wrapper"
      ]
    },
    {
      "cell_type": "code",
      "execution_count": 10,
      "metadata": {
        "cellView": "both",
        "colab": {
          "base_uri": "https://localhost:8080/"
        },
        "id": "lzFyFnhbk8hj",
        "outputId": "a1da7f65-ece9-4f7e-c93f-7d82f518b4ab"
      },
      "outputs": [
        {
          "output_type": "stream",
          "name": "stdout",
          "text": [
            "ModelBase(\n",
            "  (net): Sequential(\n",
            "    (0): Conv2d(3, 64, kernel_size=(3, 3), stride=(1, 1), padding=(1, 1), bias=False)\n",
            "    (1): SplitBatchNorm(64, eps=1e-05, momentum=0.1, affine=True, track_running_stats=True)\n",
            "    (2): ReLU(inplace=True)\n",
            "    (3): Sequential(\n",
            "      (0): BasicBlock(\n",
            "        (conv1): Conv2d(64, 64, kernel_size=(3, 3), stride=(1, 1), padding=(1, 1), bias=False)\n",
            "        (bn1): SplitBatchNorm(64, eps=1e-05, momentum=0.1, affine=True, track_running_stats=True)\n",
            "        (relu): ReLU(inplace=True)\n",
            "        (conv2): Conv2d(64, 64, kernel_size=(3, 3), stride=(1, 1), padding=(1, 1), bias=False)\n",
            "        (bn2): SplitBatchNorm(64, eps=1e-05, momentum=0.1, affine=True, track_running_stats=True)\n",
            "      )\n",
            "      (1): BasicBlock(\n",
            "        (conv1): Conv2d(64, 64, kernel_size=(3, 3), stride=(1, 1), padding=(1, 1), bias=False)\n",
            "        (bn1): SplitBatchNorm(64, eps=1e-05, momentum=0.1, affine=True, track_running_stats=True)\n",
            "        (relu): ReLU(inplace=True)\n",
            "        (conv2): Conv2d(64, 64, kernel_size=(3, 3), stride=(1, 1), padding=(1, 1), bias=False)\n",
            "        (bn2): SplitBatchNorm(64, eps=1e-05, momentum=0.1, affine=True, track_running_stats=True)\n",
            "      )\n",
            "    )\n",
            "    (4): Sequential(\n",
            "      (0): BasicBlock(\n",
            "        (conv1): Conv2d(64, 128, kernel_size=(3, 3), stride=(2, 2), padding=(1, 1), bias=False)\n",
            "        (bn1): SplitBatchNorm(128, eps=1e-05, momentum=0.1, affine=True, track_running_stats=True)\n",
            "        (relu): ReLU(inplace=True)\n",
            "        (conv2): Conv2d(128, 128, kernel_size=(3, 3), stride=(1, 1), padding=(1, 1), bias=False)\n",
            "        (bn2): SplitBatchNorm(128, eps=1e-05, momentum=0.1, affine=True, track_running_stats=True)\n",
            "        (downsample): Sequential(\n",
            "          (0): Conv2d(64, 128, kernel_size=(1, 1), stride=(2, 2), bias=False)\n",
            "          (1): SplitBatchNorm(128, eps=1e-05, momentum=0.1, affine=True, track_running_stats=True)\n",
            "        )\n",
            "      )\n",
            "      (1): BasicBlock(\n",
            "        (conv1): Conv2d(128, 128, kernel_size=(3, 3), stride=(1, 1), padding=(1, 1), bias=False)\n",
            "        (bn1): SplitBatchNorm(128, eps=1e-05, momentum=0.1, affine=True, track_running_stats=True)\n",
            "        (relu): ReLU(inplace=True)\n",
            "        (conv2): Conv2d(128, 128, kernel_size=(3, 3), stride=(1, 1), padding=(1, 1), bias=False)\n",
            "        (bn2): SplitBatchNorm(128, eps=1e-05, momentum=0.1, affine=True, track_running_stats=True)\n",
            "      )\n",
            "    )\n",
            "    (5): Sequential(\n",
            "      (0): BasicBlock(\n",
            "        (conv1): Conv2d(128, 256, kernel_size=(3, 3), stride=(2, 2), padding=(1, 1), bias=False)\n",
            "        (bn1): SplitBatchNorm(256, eps=1e-05, momentum=0.1, affine=True, track_running_stats=True)\n",
            "        (relu): ReLU(inplace=True)\n",
            "        (conv2): Conv2d(256, 256, kernel_size=(3, 3), stride=(1, 1), padding=(1, 1), bias=False)\n",
            "        (bn2): SplitBatchNorm(256, eps=1e-05, momentum=0.1, affine=True, track_running_stats=True)\n",
            "        (downsample): Sequential(\n",
            "          (0): Conv2d(128, 256, kernel_size=(1, 1), stride=(2, 2), bias=False)\n",
            "          (1): SplitBatchNorm(256, eps=1e-05, momentum=0.1, affine=True, track_running_stats=True)\n",
            "        )\n",
            "      )\n",
            "      (1): BasicBlock(\n",
            "        (conv1): Conv2d(256, 256, kernel_size=(3, 3), stride=(1, 1), padding=(1, 1), bias=False)\n",
            "        (bn1): SplitBatchNorm(256, eps=1e-05, momentum=0.1, affine=True, track_running_stats=True)\n",
            "        (relu): ReLU(inplace=True)\n",
            "        (conv2): Conv2d(256, 256, kernel_size=(3, 3), stride=(1, 1), padding=(1, 1), bias=False)\n",
            "        (bn2): SplitBatchNorm(256, eps=1e-05, momentum=0.1, affine=True, track_running_stats=True)\n",
            "      )\n",
            "    )\n",
            "    (6): Sequential(\n",
            "      (0): BasicBlock(\n",
            "        (conv1): Conv2d(256, 512, kernel_size=(3, 3), stride=(2, 2), padding=(1, 1), bias=False)\n",
            "        (bn1): SplitBatchNorm(512, eps=1e-05, momentum=0.1, affine=True, track_running_stats=True)\n",
            "        (relu): ReLU(inplace=True)\n",
            "        (conv2): Conv2d(512, 512, kernel_size=(3, 3), stride=(1, 1), padding=(1, 1), bias=False)\n",
            "        (bn2): SplitBatchNorm(512, eps=1e-05, momentum=0.1, affine=True, track_running_stats=True)\n",
            "        (downsample): Sequential(\n",
            "          (0): Conv2d(256, 512, kernel_size=(1, 1), stride=(2, 2), bias=False)\n",
            "          (1): SplitBatchNorm(512, eps=1e-05, momentum=0.1, affine=True, track_running_stats=True)\n",
            "        )\n",
            "      )\n",
            "      (1): BasicBlock(\n",
            "        (conv1): Conv2d(512, 512, kernel_size=(3, 3), stride=(1, 1), padding=(1, 1), bias=False)\n",
            "        (bn1): SplitBatchNorm(512, eps=1e-05, momentum=0.1, affine=True, track_running_stats=True)\n",
            "        (relu): ReLU(inplace=True)\n",
            "        (conv2): Conv2d(512, 512, kernel_size=(3, 3), stride=(1, 1), padding=(1, 1), bias=False)\n",
            "        (bn2): SplitBatchNorm(512, eps=1e-05, momentum=0.1, affine=True, track_running_stats=True)\n",
            "      )\n",
            "    )\n",
            "    (7): AdaptiveAvgPool2d(output_size=(1, 1))\n",
            "    (8): Flatten(start_dim=1, end_dim=-1)\n",
            "    (9): Linear(in_features=512, out_features=128, bias=True)\n",
            "  )\n",
            ")\n"
          ]
        }
      ],
      "source": [
        "class ModelMoCo(nn.Module):\n",
        "    def __init__(self, dim=128, K=4096, m=0.99, T=0.1, arch='resnet18', bn_splits=8, symmetric=True):\n",
        "        super(ModelMoCo, self).__init__()\n",
        "\n",
        "        self.K = K\n",
        "        self.m = m\n",
        "        self.T = T\n",
        "        self.symmetric = symmetric\n",
        "\n",
        "        # create the encoders\n",
        "        self.encoder_q = ModelBase(feature_dim=dim, arch=arch, bn_splits=bn_splits)\n",
        "        self.encoder_k = ModelBase(feature_dim=dim, arch=arch, bn_splits=bn_splits)\n",
        "\n",
        "        for param_q, param_k in zip(self.encoder_q.parameters(), self.encoder_k.parameters()):\n",
        "            param_k.data.copy_(param_q.data)  # initialize\n",
        "            param_k.requires_grad = False  # not update by gradient\n",
        "\n",
        "        # create the queue\n",
        "        self.register_buffer(\"queue\", torch.randn(dim, K))\n",
        "        self.queue = nn.functional.normalize(self.queue, dim=0)\n",
        "\n",
        "        self.register_buffer(\"queue_ptr\", torch.zeros(1, dtype=torch.long))\n",
        "\n",
        "    @torch.no_grad()\n",
        "    def _momentum_update_key_encoder(self):\n",
        "        \"\"\"\n",
        "        Momentum update of the key encoder\n",
        "        \"\"\"\n",
        "        for param_q, param_k in zip(self.encoder_q.parameters(), self.encoder_k.parameters()):\n",
        "            param_k.data = param_k.data * self.m + param_q.data * (1. - self.m)\n",
        "\n",
        "    @torch.no_grad()\n",
        "    def _dequeue_and_enqueue(self, keys):\n",
        "        batch_size = keys.shape[0]\n",
        "\n",
        "        ptr = int(self.queue_ptr)\n",
        "        assert self.K % batch_size == 0  # for simplicity\n",
        "\n",
        "        # replace the keys at ptr (dequeue and enqueue)\n",
        "        self.queue[:, ptr:ptr + batch_size] = keys.t()  # transpose\n",
        "        ptr = (ptr + batch_size) % self.K  # move pointer\n",
        "\n",
        "        self.queue_ptr[0] = ptr\n",
        "\n",
        "    @torch.no_grad()\n",
        "    def _batch_shuffle_single_gpu(self, x):\n",
        "        \"\"\"\n",
        "        Batch shuffle, for making use of BatchNorm.\n",
        "        \"\"\"\n",
        "        # random shuffle index\n",
        "        idx_shuffle = torch.randperm(x.shape[0]).cuda()\n",
        "\n",
        "        # index for restoring\n",
        "        idx_unshuffle = torch.argsort(idx_shuffle)\n",
        "\n",
        "        return x[idx_shuffle], idx_unshuffle\n",
        "\n",
        "    @torch.no_grad()\n",
        "    def _batch_unshuffle_single_gpu(self, x, idx_unshuffle):\n",
        "        \"\"\"\n",
        "        Undo batch shuffle.\n",
        "        \"\"\"\n",
        "        return x[idx_unshuffle]\n",
        "\n",
        "    def contrastive_loss(self, im_q, im_k):\n",
        "        # compute query features\n",
        "        q = self.encoder_q(im_q)  # queries: NxC\n",
        "        q = nn.functional.normalize(q, dim=1)  # already normalized\n",
        "\n",
        "        # compute key features\n",
        "        with torch.no_grad():  # no gradient to keys\n",
        "            # shuffle for making use of BN\n",
        "            im_k_, idx_unshuffle = self._batch_shuffle_single_gpu(im_k)\n",
        "\n",
        "            k = self.encoder_k(im_k_)  # keys: NxC\n",
        "            k = nn.functional.normalize(k, dim=1)  # already normalized\n",
        "\n",
        "            # undo shuffle\n",
        "            k = self._batch_unshuffle_single_gpu(k, idx_unshuffle)\n",
        "\n",
        "        # compute logits\n",
        "        # Einstein sum is more intuitive\n",
        "        # positive logits: Nx1\n",
        "        l_pos = torch.einsum('nc,nc->n', [q, k]).unsqueeze(-1)\n",
        "        # negative logits: NxK\n",
        "        l_neg = torch.einsum('nc,ck->nk', [q, self.queue.clone().detach()])\n",
        "\n",
        "        # logits: Nx(1+K)\n",
        "        logits = torch.cat([l_pos, l_neg], dim=1)\n",
        "\n",
        "        # apply temperature\n",
        "        logits /= self.T\n",
        "\n",
        "        # labels: positive key indicators\n",
        "        labels = torch.zeros(logits.shape[0], dtype=torch.long).cuda()\n",
        "        \n",
        "        loss = nn.CrossEntropyLoss().cuda()(logits, labels)\n",
        "\n",
        "        return loss, q, k\n",
        "\n",
        "    def forward(self, im1, im2):\n",
        "        \"\"\"\n",
        "        Input:\n",
        "            im_q: a batch of query images\n",
        "            im_k: a batch of key images\n",
        "        Output:\n",
        "            loss\n",
        "        \"\"\"\n",
        "\n",
        "        # update the key encoder\n",
        "        with torch.no_grad():  # no gradient to keys\n",
        "            self._momentum_update_key_encoder()\n",
        "\n",
        "        # compute loss\n",
        "        if self.symmetric:  # asymmetric loss\n",
        "            loss_12, q1, k2 = self.contrastive_loss(im1, im2)\n",
        "            loss_21, q2, k1 = self.contrastive_loss(im2, im1)\n",
        "            loss = loss_12 + loss_21\n",
        "            k = torch.cat([k1, k2], dim=0)\n",
        "        else:  # asymmetric loss\n",
        "            loss, q, k = self.contrastive_loss(im1, im2)\n",
        "\n",
        "        self._dequeue_and_enqueue(k)\n",
        "\n",
        "        return loss\n",
        "\n",
        "# create model\n",
        "model = ModelMoCo(\n",
        "        dim=args.moco_dim,\n",
        "        K=args.moco_k,\n",
        "        m=args.moco_m,\n",
        "        T=args.moco_t,\n",
        "        arch=args.arch,\n",
        "        bn_splits=args.bn_splits,\n",
        "        symmetric=args.symmetric,\n",
        "    ).cuda()\n",
        "print(model.encoder_q)"
      ]
    },
    {
      "cell_type": "markdown",
      "metadata": {
        "id": "9YXcpXBwi8KV"
      },
      "source": [
        "### Define train/test\n",
        "\n"
      ]
    },
    {
      "cell_type": "code",
      "execution_count": 11,
      "metadata": {
        "id": "DBKFqboqnqty"
      },
      "outputs": [],
      "source": [
        "# train for one epoch\n",
        "def train(net, data_loader, train_optimizer, epoch, args):\n",
        "    net.train()\n",
        "    adjust_learning_rate(optimizer, epoch, args)\n",
        "\n",
        "    total_loss, total_num, train_bar = 0.0, 0, tqdm(data_loader)\n",
        "    for [im_1, im_2],_ in train_bar:\n",
        "        im_1, im_2 = im_1.cuda(non_blocking=True), im_2.cuda(non_blocking=True)\n",
        "\n",
        "        loss = net(im_1, im_2)\n",
        "        \n",
        "        train_optimizer.zero_grad()\n",
        "        loss.backward()\n",
        "        train_optimizer.step()\n",
        "\n",
        "        total_num += data_loader.batch_size\n",
        "        total_loss += loss.item() * data_loader.batch_size\n",
        "        train_bar.set_description('Train Epoch: [{}/{}], lr: {:.6f}, Loss: {:.4f}'.format(epoch, args.epochs, optimizer.param_groups[0]['lr'], total_loss / total_num))\n",
        "\n",
        "    return total_loss / total_num\n",
        "\n",
        "# lr scheduler for training\n",
        "def adjust_learning_rate(optimizer, epoch, args):\n",
        "    \"\"\"Decay the learning rate based on schedule\"\"\"\n",
        "    lr = args.lr\n",
        "    if args.cos:  # cosine lr schedule\n",
        "        lr *= 0.5 * (1. + math.cos(math.pi * epoch / args.epochs))\n",
        "    else:  # stepwise lr schedule\n",
        "        for milestone in args.schedule:\n",
        "            lr *= 0.1 if epoch >= milestone else 1.\n",
        "    for param_group in optimizer.param_groups:\n",
        "        param_group['lr'] = lr"
      ]
    },
    {
      "cell_type": "code",
      "execution_count": 12,
      "metadata": {
        "cellView": "both",
        "id": "RI1Y8bSImD7N"
      },
      "outputs": [],
      "source": [
        "# test using a knn monitor\n",
        "def test(net, memory_data_loader, test_data_loader, epoch, args):\n",
        "    net.eval()\n",
        "    classes = len(memory_data_loader.dataset.classes)\n",
        "    total_top1, total_top5, total_num, feature_bank = 0.0, 0.0, 0, []\n",
        "    with torch.no_grad():\n",
        "        # generate feature bank\n",
        "        for data, target in tqdm(memory_data_loader, desc='Feature extracting'):\n",
        "            feature = net(data.cuda(non_blocking=True))\n",
        "            feature = F.normalize(feature, dim=1)\n",
        "            feature_bank.append(feature)\n",
        "        # [D, N]\n",
        "        feature_bank = torch.cat(feature_bank, dim=0).t().contiguous()\n",
        "        # [N]\n",
        "        feature_labels = torch.tensor(memory_data_loader.dataset.targets, device=feature_bank.device)\n",
        "        # loop test data to predict the label by weighted knn search\n",
        "        test_bar = tqdm(test_data_loader)\n",
        "        for data, target in test_bar:\n",
        "            data, target = data.cuda(non_blocking=True), target.cuda(non_blocking=True)\n",
        "            feature = net(data)\n",
        "            feature = F.normalize(feature, dim=1)\n",
        "            \n",
        "            pred_labels = knn_predict(feature, feature_bank, feature_labels, classes, args.knn_k, args.knn_t)\n",
        "\n",
        "            total_num += data.size(0)\n",
        "            total_top1 += (pred_labels[:, 0] == target).float().sum().item()\n",
        "            test_bar.set_description('Test Epoch: [{}/{}] Acc@1:{:.2f}%'.format(epoch, args.epochs, total_top1 / total_num * 100))\n",
        "\n",
        "    return total_top1 / total_num * 100\n",
        "\n",
        "# knn monitor as in InstDisc https://arxiv.org/abs/1805.01978\n",
        "# implementation follows http://github.com/zhirongw/lemniscate.pytorch and https://github.com/leftthomas/SimCLR\n",
        "def knn_predict(feature, feature_bank, feature_labels, classes, knn_k, knn_t):\n",
        "    # compute cos similarity between each feature vector and feature bank ---> [B, N]\n",
        "    sim_matrix = torch.mm(feature, feature_bank)\n",
        "    # [B, K]\n",
        "    sim_weight, sim_indices = sim_matrix.topk(k=knn_k, dim=-1)\n",
        "    # [B, K]\n",
        "    sim_labels = torch.gather(feature_labels.expand(feature.size(0), -1), dim=-1, index=sim_indices)\n",
        "    sim_weight = (sim_weight / knn_t).exp()\n",
        "\n",
        "    # counts for each class\n",
        "    one_hot_label = torch.zeros(feature.size(0) * knn_k, classes, device=sim_labels.device)\n",
        "    # [B*K, C]\n",
        "    one_hot_label = one_hot_label.scatter(dim=-1, index=sim_labels.view(-1, 1), value=1.0)\n",
        "    # weighted score ---> [B, C]\n",
        "    pred_scores = torch.sum(one_hot_label.view(feature.size(0), -1, classes) * sim_weight.unsqueeze(dim=-1), dim=1)\n",
        "\n",
        "    pred_labels = pred_scores.argsort(dim=-1, descending=True)\n",
        "    return pred_labels"
      ]
    },
    {
      "cell_type": "code",
      "source": [
        "def find_lr(init_value = 1e-8, final_value=10., beta = 0.98):\n",
        "    num = len(train_loader)-1\n",
        "    mult = (final_value / init_value) ** (1/num)\n",
        "    lr = init_value\n",
        "    optimizer = torch.optim.SGD(model.parameters(), lr=args.lr, weight_decay=args.wd, momentum=0.9)\n",
        "    optimizer.param_groups[0]['lr'] = lr\n",
        "    avg_loss = 0.\n",
        "    best_loss = 0.\n",
        "    batch_num = 0\n",
        "    losses = []\n",
        "    log_lrs = []\n",
        "    for data in train_loader:\n",
        "        batch_num += 1\n",
        "        #As before, get the loss for this mini-batch of inputs/outputs\n",
        "        [im_1,im_2],labels = data\n",
        "        im_1, im_2 = im_1.cuda(non_blocking=True), im_2.cuda(non_blocking=True)\n",
        "        #inputs = Variable(inputs)\n",
        "        optimizer.zero_grad()\n",
        "        loss = model(im_1,im_2)\n",
        "        #Compute the smoothed loss\n",
        "        avg_loss = beta * avg_loss + (1-beta) *loss.item()\n",
        "        smoothed_loss = avg_loss / (1 - beta**batch_num)\n",
        "        #Stop if the loss is exploding\n",
        "        if batch_num > 1 and smoothed_loss > 4 * best_loss:\n",
        "            return log_lrs, losses\n",
        "        #Record the best loss\n",
        "        if smoothed_loss < best_loss or batch_num==1:\n",
        "            best_loss = smoothed_loss\n",
        "        #Store the values\n",
        "        losses.append(smoothed_loss)\n",
        "        log_lrs.append(math.log10(lr))\n",
        "        #Do the SGD step\n",
        "        loss.backward()\n",
        "        optimizer.step()\n",
        "        #Update the lr for the next step\n",
        "        lr *= mult\n",
        "        optimizer.param_groups[0]['lr'] = lr\n",
        "    return log_lrs, losses"
      ],
      "metadata": {
        "id": "LEZ_Fhb6ohs0"
      },
      "execution_count": 13,
      "outputs": []
    },
    {
      "cell_type": "markdown",
      "metadata": {
        "id": "86lHkiKox3KO"
      },
      "source": [
        "### Start training"
      ]
    },
    {
      "cell_type": "code",
      "execution_count": 14,
      "metadata": {
        "colab": {
          "base_uri": "https://localhost:8080/",
          "height": 1000
        },
        "id": "M3INyoTC3-bf",
        "outputId": "a8bec4ef-240e-4a20-e9b8-650630db1cf9"
      },
      "outputs": [
        {
          "output_type": "stream",
          "name": "stderr",
          "text": [
            "Train Epoch: [1/100], lr: 0.199951, Loss: 6.6437: 100%|██████████| 105/105 [01:31<00:00,  1.14it/s]\n",
            "Feature extracting: 100%|██████████| 106/106 [00:44<00:00,  2.37it/s]\n",
            "Test Epoch: [1/100] Acc@1:53.48%: 100%|██████████| 106/106 [00:47<00:00,  2.23it/s]\n"
          ]
        },
        {
          "output_type": "display_data",
          "data": {
            "application/javascript": [
              "\n",
              "    async function download(id, filename, size) {\n",
              "      if (!google.colab.kernel.accessAllowed) {\n",
              "        return;\n",
              "      }\n",
              "      const div = document.createElement('div');\n",
              "      const label = document.createElement('label');\n",
              "      label.textContent = `Downloading \"${filename}\": `;\n",
              "      div.appendChild(label);\n",
              "      const progress = document.createElement('progress');\n",
              "      progress.max = size;\n",
              "      div.appendChild(progress);\n",
              "      document.body.appendChild(div);\n",
              "\n",
              "      const buffers = [];\n",
              "      let downloaded = 0;\n",
              "\n",
              "      const channel = await google.colab.kernel.comms.open(id);\n",
              "      // Send a message to notify the kernel that we're ready.\n",
              "      channel.send({})\n",
              "\n",
              "      for await (const message of channel.messages) {\n",
              "        // Send a message to notify the kernel that we're ready.\n",
              "        channel.send({})\n",
              "        if (message.buffers) {\n",
              "          for (const buffer of message.buffers) {\n",
              "            buffers.push(buffer);\n",
              "            downloaded += buffer.byteLength;\n",
              "            progress.value = downloaded;\n",
              "          }\n",
              "        }\n",
              "      }\n",
              "      const blob = new Blob(buffers, {type: 'application/binary'});\n",
              "      const a = document.createElement('a');\n",
              "      a.href = window.URL.createObjectURL(blob);\n",
              "      a.download = filename;\n",
              "      div.appendChild(a);\n",
              "      a.click();\n",
              "      div.remove();\n",
              "    }\n",
              "  "
            ],
            "text/plain": [
              "<IPython.core.display.Javascript object>"
            ]
          },
          "metadata": {}
        },
        {
          "output_type": "display_data",
          "data": {
            "application/javascript": [
              "download(\"download_a3ee39ec-c02c-4bb1-bf44-1040de7fa1b4\", \"model_last.pth\", 137090969)"
            ],
            "text/plain": [
              "<IPython.core.display.Javascript object>"
            ]
          },
          "metadata": {}
        },
        {
          "output_type": "stream",
          "name": "stderr",
          "text": [
            "Train Epoch: [2/100], lr: 0.199803, Loss: 7.0555: 100%|██████████| 105/105 [01:37<00:00,  1.08it/s]\n",
            "Train Epoch: [3/100], lr: 0.199556, Loss: 6.7141: 100%|██████████| 105/105 [01:37<00:00,  1.08it/s]\n",
            "Train Epoch: [4/100], lr: 0.199211, Loss: 6.4680: 100%|██████████| 105/105 [01:37<00:00,  1.07it/s]\n",
            "Train Epoch: [5/100], lr: 0.198769, Loss: 6.1860: 100%|██████████| 105/105 [01:37<00:00,  1.07it/s]\n",
            "Train Epoch: [6/100], lr: 0.198229, Loss: 5.9164: 100%|██████████| 105/105 [01:38<00:00,  1.07it/s]\n",
            "Train Epoch: [7/100], lr: 0.197592, Loss: 5.7998: 100%|██████████| 105/105 [01:37<00:00,  1.07it/s]\n",
            "Train Epoch: [8/100], lr: 0.196858, Loss: 5.6448: 100%|██████████| 105/105 [01:37<00:00,  1.07it/s]\n",
            "Train Epoch: [9/100], lr: 0.196029, Loss: 5.5096: 100%|██████████| 105/105 [01:37<00:00,  1.07it/s]\n",
            "Train Epoch: [10/100], lr: 0.195106, Loss: 5.3939: 100%|██████████| 105/105 [01:38<00:00,  1.07it/s]\n",
            "Train Epoch: [11/100], lr: 0.194088, Loss: 5.2462: 100%|██████████| 105/105 [01:37<00:00,  1.07it/s]\n",
            "Feature extracting: 100%|██████████| 106/106 [00:44<00:00,  2.41it/s]\n",
            "Test Epoch: [11/100] Acc@1:79.43%: 100%|██████████| 106/106 [00:48<00:00,  2.19it/s]\n",
            "Train Epoch: [12/100], lr: 0.192978, Loss: 5.1204: 100%|██████████| 105/105 [01:38<00:00,  1.07it/s]\n",
            "Train Epoch: [13/100], lr: 0.191775, Loss: 4.9641: 100%|██████████| 105/105 [01:37<00:00,  1.07it/s]\n",
            "Train Epoch: [14/100], lr: 0.190483, Loss: 4.8551: 100%|██████████| 105/105 [01:37<00:00,  1.07it/s]\n",
            "Train Epoch: [15/100], lr: 0.189101, Loss: 4.7156: 100%|██████████| 105/105 [01:37<00:00,  1.07it/s]\n",
            "Train Epoch: [16/100], lr: 0.187631, Loss: 4.6257: 100%|██████████| 105/105 [01:37<00:00,  1.07it/s]\n",
            "Train Epoch: [17/100], lr: 0.186074, Loss: 4.4921: 100%|██████████| 105/105 [01:37<00:00,  1.07it/s]\n",
            "Train Epoch: [18/100], lr: 0.184433, Loss: 4.3797: 100%|██████████| 105/105 [01:38<00:00,  1.07it/s]\n",
            "Train Epoch: [19/100], lr: 0.182708, Loss: 4.2647: 100%|██████████| 105/105 [01:37<00:00,  1.07it/s]\n",
            "Train Epoch: [20/100], lr: 0.180902, Loss: 4.1868: 100%|██████████| 105/105 [01:37<00:00,  1.07it/s]\n",
            "Train Epoch: [21/100], lr: 0.179016, Loss: 4.0854: 100%|██████████| 105/105 [01:38<00:00,  1.07it/s]\n",
            "Feature extracting: 100%|██████████| 106/106 [00:44<00:00,  2.40it/s]\n",
            "Test Epoch: [21/100] Acc@1:87.79%: 100%|██████████| 106/106 [00:47<00:00,  2.21it/s]\n"
          ]
        },
        {
          "output_type": "display_data",
          "data": {
            "application/javascript": [
              "\n",
              "    async function download(id, filename, size) {\n",
              "      if (!google.colab.kernel.accessAllowed) {\n",
              "        return;\n",
              "      }\n",
              "      const div = document.createElement('div');\n",
              "      const label = document.createElement('label');\n",
              "      label.textContent = `Downloading \"${filename}\": `;\n",
              "      div.appendChild(label);\n",
              "      const progress = document.createElement('progress');\n",
              "      progress.max = size;\n",
              "      div.appendChild(progress);\n",
              "      document.body.appendChild(div);\n",
              "\n",
              "      const buffers = [];\n",
              "      let downloaded = 0;\n",
              "\n",
              "      const channel = await google.colab.kernel.comms.open(id);\n",
              "      // Send a message to notify the kernel that we're ready.\n",
              "      channel.send({})\n",
              "\n",
              "      for await (const message of channel.messages) {\n",
              "        // Send a message to notify the kernel that we're ready.\n",
              "        channel.send({})\n",
              "        if (message.buffers) {\n",
              "          for (const buffer of message.buffers) {\n",
              "            buffers.push(buffer);\n",
              "            downloaded += buffer.byteLength;\n",
              "            progress.value = downloaded;\n",
              "          }\n",
              "        }\n",
              "      }\n",
              "      const blob = new Blob(buffers, {type: 'application/binary'});\n",
              "      const a = document.createElement('a');\n",
              "      a.href = window.URL.createObjectURL(blob);\n",
              "      a.download = filename;\n",
              "      div.appendChild(a);\n",
              "      a.click();\n",
              "      div.remove();\n",
              "    }\n",
              "  "
            ],
            "text/plain": [
              "<IPython.core.display.Javascript object>"
            ]
          },
          "metadata": {}
        },
        {
          "output_type": "display_data",
          "data": {
            "application/javascript": [
              "download(\"download_eda522ab-042d-4d2f-b2a1-251613ba337c\", \"model_last.pth\", 137090969)"
            ],
            "text/plain": [
              "<IPython.core.display.Javascript object>"
            ]
          },
          "metadata": {}
        },
        {
          "output_type": "stream",
          "name": "stderr",
          "text": [
            "Train Epoch: [22/100], lr: 0.177051, Loss: 4.0031: 100%|██████████| 105/105 [01:37<00:00,  1.07it/s]\n",
            "Train Epoch: [23/100], lr: 0.175011, Loss: 3.9250: 100%|██████████| 105/105 [01:37<00:00,  1.07it/s]\n",
            "Train Epoch: [24/100], lr: 0.172897, Loss: 3.8943: 100%|██████████| 105/105 [01:37<00:00,  1.07it/s]\n",
            "Train Epoch: [25/100], lr: 0.170711, Loss: 3.8133: 100%|██████████| 105/105 [01:37<00:00,  1.07it/s]\n",
            "Train Epoch: [26/100], lr: 0.168455, Loss: 3.7472: 100%|██████████| 105/105 [01:37<00:00,  1.08it/s]\n",
            "Train Epoch: [27/100], lr: 0.166131, Loss: 3.6855: 100%|██████████| 105/105 [01:37<00:00,  1.08it/s]\n",
            "Train Epoch: [28/100], lr: 0.163742, Loss: 3.6229: 100%|██████████| 105/105 [01:37<00:00,  1.08it/s]\n",
            "Train Epoch: [29/100], lr: 0.161291, Loss: 3.5794: 100%|██████████| 105/105 [01:37<00:00,  1.08it/s]\n",
            "Train Epoch: [30/100], lr: 0.158779, Loss: 3.5219: 100%|██████████| 105/105 [01:37<00:00,  1.08it/s]\n",
            "Train Epoch: [31/100], lr: 0.156208, Loss: 3.4696: 100%|██████████| 105/105 [01:37<00:00,  1.08it/s]\n",
            "Feature extracting: 100%|██████████| 106/106 [00:43<00:00,  2.42it/s]\n",
            "Test Epoch: [31/100] Acc@1:91.49%: 100%|██████████| 106/106 [00:47<00:00,  2.22it/s]\n",
            "Train Epoch: [32/100], lr: 0.153583, Loss: 3.4273: 100%|██████████| 105/105 [01:37<00:00,  1.08it/s]\n",
            "Train Epoch: [33/100], lr: 0.150904, Loss: 3.3851: 100%|██████████| 105/105 [01:37<00:00,  1.08it/s]\n",
            "Train Epoch: [34/100], lr: 0.148175, Loss: 3.3523: 100%|██████████| 105/105 [01:37<00:00,  1.08it/s]\n",
            "Train Epoch: [35/100], lr: 0.145399, Loss: 3.2952: 100%|██████████| 105/105 [01:37<00:00,  1.08it/s]\n",
            "Train Epoch: [36/100], lr: 0.142578, Loss: 3.2810: 100%|██████████| 105/105 [01:37<00:00,  1.08it/s]\n",
            "Train Epoch: [37/100], lr: 0.139715, Loss: 3.2221: 100%|██████████| 105/105 [01:37<00:00,  1.08it/s]\n",
            "Train Epoch: [38/100], lr: 0.136812, Loss: 3.1852: 100%|██████████| 105/105 [01:37<00:00,  1.08it/s]\n",
            "Train Epoch: [39/100], lr: 0.133874, Loss: 3.1554: 100%|██████████| 105/105 [01:37<00:00,  1.08it/s]\n",
            "Train Epoch: [40/100], lr: 0.130902, Loss: 3.1227: 100%|██████████| 105/105 [01:37<00:00,  1.08it/s]\n",
            "Train Epoch: [41/100], lr: 0.127899, Loss: 3.1025: 100%|██████████| 105/105 [01:37<00:00,  1.08it/s]\n",
            "Feature extracting: 100%|██████████| 106/106 [00:43<00:00,  2.41it/s]\n",
            "Test Epoch: [41/100] Acc@1:94.89%: 100%|██████████| 106/106 [00:48<00:00,  2.21it/s]\n"
          ]
        },
        {
          "output_type": "display_data",
          "data": {
            "application/javascript": [
              "\n",
              "    async function download(id, filename, size) {\n",
              "      if (!google.colab.kernel.accessAllowed) {\n",
              "        return;\n",
              "      }\n",
              "      const div = document.createElement('div');\n",
              "      const label = document.createElement('label');\n",
              "      label.textContent = `Downloading \"${filename}\": `;\n",
              "      div.appendChild(label);\n",
              "      const progress = document.createElement('progress');\n",
              "      progress.max = size;\n",
              "      div.appendChild(progress);\n",
              "      document.body.appendChild(div);\n",
              "\n",
              "      const buffers = [];\n",
              "      let downloaded = 0;\n",
              "\n",
              "      const channel = await google.colab.kernel.comms.open(id);\n",
              "      // Send a message to notify the kernel that we're ready.\n",
              "      channel.send({})\n",
              "\n",
              "      for await (const message of channel.messages) {\n",
              "        // Send a message to notify the kernel that we're ready.\n",
              "        channel.send({})\n",
              "        if (message.buffers) {\n",
              "          for (const buffer of message.buffers) {\n",
              "            buffers.push(buffer);\n",
              "            downloaded += buffer.byteLength;\n",
              "            progress.value = downloaded;\n",
              "          }\n",
              "        }\n",
              "      }\n",
              "      const blob = new Blob(buffers, {type: 'application/binary'});\n",
              "      const a = document.createElement('a');\n",
              "      a.href = window.URL.createObjectURL(blob);\n",
              "      a.download = filename;\n",
              "      div.appendChild(a);\n",
              "      a.click();\n",
              "      div.remove();\n",
              "    }\n",
              "  "
            ],
            "text/plain": [
              "<IPython.core.display.Javascript object>"
            ]
          },
          "metadata": {}
        },
        {
          "output_type": "display_data",
          "data": {
            "application/javascript": [
              "download(\"download_e220e546-4d24-4fa9-99aa-96479395de91\", \"model_last.pth\", 137090969)"
            ],
            "text/plain": [
              "<IPython.core.display.Javascript object>"
            ]
          },
          "metadata": {}
        },
        {
          "output_type": "stream",
          "name": "stderr",
          "text": [
            "Train Epoch: [42/100], lr: 0.124869, Loss: 3.0696: 100%|██████████| 105/105 [01:37<00:00,  1.08it/s]\n",
            "Train Epoch: [43/100], lr: 0.121814, Loss: 3.0591: 100%|██████████| 105/105 [01:37<00:00,  1.08it/s]\n",
            "Train Epoch: [44/100], lr: 0.118738, Loss: 3.0021: 100%|██████████| 105/105 [01:37<00:00,  1.08it/s]\n",
            "Train Epoch: [45/100], lr: 0.115643, Loss: 2.9860: 100%|██████████| 105/105 [01:37<00:00,  1.08it/s]\n",
            "Train Epoch: [46/100], lr: 0.112533, Loss: 2.9577: 100%|██████████| 105/105 [01:37<00:00,  1.08it/s]\n",
            "Train Epoch: [47/100], lr: 0.109411, Loss: 2.9266: 100%|██████████| 105/105 [01:37<00:00,  1.08it/s]\n",
            "Train Epoch: [48/100], lr: 0.106279, Loss: 2.9119: 100%|██████████| 105/105 [01:37<00:00,  1.08it/s]\n",
            "Train Epoch: [49/100], lr: 0.103141, Loss: 2.8799: 100%|██████████| 105/105 [01:37<00:00,  1.08it/s]\n",
            "Train Epoch: [50/100], lr: 0.100000, Loss: 2.8644: 100%|██████████| 105/105 [01:37<00:00,  1.08it/s]\n",
            "Train Epoch: [51/100], lr: 0.096859, Loss: 2.8186: 100%|██████████| 105/105 [01:37<00:00,  1.08it/s]\n",
            "Feature extracting: 100%|██████████| 106/106 [00:44<00:00,  2.41it/s]\n",
            "Test Epoch: [51/100] Acc@1:95.66%: 100%|██████████| 106/106 [00:48<00:00,  2.20it/s]\n",
            "Train Epoch: [52/100], lr: 0.093721, Loss: 2.8201: 100%|██████████| 105/105 [01:37<00:00,  1.08it/s]\n",
            "Train Epoch: [53/100], lr: 0.090589, Loss: 2.7889: 100%|██████████| 105/105 [01:37<00:00,  1.08it/s]\n",
            "Train Epoch: [54/100], lr: 0.087467, Loss: 2.7735: 100%|██████████| 105/105 [01:37<00:00,  1.08it/s]\n",
            "Train Epoch: [55/100], lr: 0.084357, Loss: 2.7517: 100%|██████████| 105/105 [01:37<00:00,  1.08it/s]\n",
            "Train Epoch: [56/100], lr: 0.081262, Loss: 2.7218: 100%|██████████| 105/105 [01:37<00:00,  1.08it/s]\n",
            "Train Epoch: [57/100], lr: 0.078186, Loss: 2.6932: 100%|██████████| 105/105 [01:37<00:00,  1.08it/s]\n",
            "Train Epoch: [58/100], lr: 0.075131, Loss: 2.6752: 100%|██████████| 105/105 [01:37<00:00,  1.08it/s]\n",
            "Train Epoch: [59/100], lr: 0.072101, Loss: 2.6559: 100%|██████████| 105/105 [01:37<00:00,  1.08it/s]\n",
            "Train Epoch: [60/100], lr: 0.069098, Loss: 2.6166: 100%|██████████| 105/105 [01:37<00:00,  1.08it/s]\n",
            "Train Epoch: [61/100], lr: 0.066126, Loss: 2.6071: 100%|██████████| 105/105 [01:37<00:00,  1.08it/s]\n",
            "Feature extracting: 100%|██████████| 106/106 [00:44<00:00,  2.41it/s]\n",
            "Test Epoch: [61/100] Acc@1:97.40%: 100%|██████████| 106/106 [00:48<00:00,  2.21it/s]\n"
          ]
        },
        {
          "output_type": "display_data",
          "data": {
            "application/javascript": [
              "\n",
              "    async function download(id, filename, size) {\n",
              "      if (!google.colab.kernel.accessAllowed) {\n",
              "        return;\n",
              "      }\n",
              "      const div = document.createElement('div');\n",
              "      const label = document.createElement('label');\n",
              "      label.textContent = `Downloading \"${filename}\": `;\n",
              "      div.appendChild(label);\n",
              "      const progress = document.createElement('progress');\n",
              "      progress.max = size;\n",
              "      div.appendChild(progress);\n",
              "      document.body.appendChild(div);\n",
              "\n",
              "      const buffers = [];\n",
              "      let downloaded = 0;\n",
              "\n",
              "      const channel = await google.colab.kernel.comms.open(id);\n",
              "      // Send a message to notify the kernel that we're ready.\n",
              "      channel.send({})\n",
              "\n",
              "      for await (const message of channel.messages) {\n",
              "        // Send a message to notify the kernel that we're ready.\n",
              "        channel.send({})\n",
              "        if (message.buffers) {\n",
              "          for (const buffer of message.buffers) {\n",
              "            buffers.push(buffer);\n",
              "            downloaded += buffer.byteLength;\n",
              "            progress.value = downloaded;\n",
              "          }\n",
              "        }\n",
              "      }\n",
              "      const blob = new Blob(buffers, {type: 'application/binary'});\n",
              "      const a = document.createElement('a');\n",
              "      a.href = window.URL.createObjectURL(blob);\n",
              "      a.download = filename;\n",
              "      div.appendChild(a);\n",
              "      a.click();\n",
              "      div.remove();\n",
              "    }\n",
              "  "
            ],
            "text/plain": [
              "<IPython.core.display.Javascript object>"
            ]
          },
          "metadata": {}
        },
        {
          "output_type": "display_data",
          "data": {
            "application/javascript": [
              "download(\"download_b001e2eb-aa72-4b78-b1cb-15cd990a6828\", \"model_last.pth\", 137090969)"
            ],
            "text/plain": [
              "<IPython.core.display.Javascript object>"
            ]
          },
          "metadata": {}
        },
        {
          "output_type": "stream",
          "name": "stderr",
          "text": [
            "Train Epoch: [62/100], lr: 0.063188, Loss: 2.5988: 100%|██████████| 105/105 [01:37<00:00,  1.08it/s]\n",
            "Train Epoch: [63/100], lr: 0.060285, Loss: 2.5814: 100%|██████████| 105/105 [01:37<00:00,  1.08it/s]\n",
            "Train Epoch: [64/100], lr: 0.057422, Loss: 2.5595: 100%|██████████| 105/105 [01:37<00:00,  1.08it/s]\n",
            "Train Epoch: [65/100], lr: 0.054601, Loss: 2.5371: 100%|██████████| 105/105 [01:37<00:00,  1.08it/s]\n",
            "Train Epoch: [66/100], lr: 0.051825, Loss: 2.5233: 100%|██████████| 105/105 [01:37<00:00,  1.08it/s]\n",
            "Train Epoch: [67/100], lr: 0.049096, Loss: 2.5110: 100%|██████████| 105/105 [01:37<00:00,  1.08it/s]\n",
            "Train Epoch: [68/100], lr: 0.046417, Loss: 2.4768: 100%|██████████| 105/105 [01:37<00:00,  1.08it/s]\n",
            "Train Epoch: [69/100], lr: 0.043792, Loss: 2.4517: 100%|██████████| 105/105 [01:37<00:00,  1.08it/s]\n",
            "Train Epoch: [70/100], lr: 0.041221, Loss: 2.4454: 100%|██████████| 105/105 [01:37<00:00,  1.08it/s]\n",
            "Train Epoch: [71/100], lr: 0.038709, Loss: 2.4291: 100%|██████████| 105/105 [01:37<00:00,  1.08it/s]\n",
            "Feature extracting: 100%|██████████| 106/106 [00:43<00:00,  2.41it/s]\n",
            "Test Epoch: [71/100] Acc@1:98.35%: 100%|██████████| 106/106 [00:47<00:00,  2.21it/s]\n",
            "Train Epoch: [72/100], lr: 0.036258, Loss: 2.4091: 100%|██████████| 105/105 [01:37<00:00,  1.08it/s]\n",
            "Train Epoch: [73/100], lr: 0.033869, Loss: 2.3760: 100%|██████████| 105/105 [01:37<00:00,  1.08it/s]\n",
            "Train Epoch: [74/100], lr: 0.031545, Loss: 2.3799: 100%|██████████| 105/105 [01:37<00:00,  1.08it/s]\n",
            "Train Epoch: [75/100], lr: 0.029289, Loss: 2.3559: 100%|██████████| 105/105 [01:37<00:00,  1.08it/s]\n",
            "Train Epoch: [76/100], lr: 0.027103, Loss: 2.3207: 100%|██████████| 105/105 [01:37<00:00,  1.08it/s]\n",
            "Train Epoch: [77/100], lr: 0.024989, Loss: 2.3140: 100%|██████████| 105/105 [01:37<00:00,  1.08it/s]\n",
            "Train Epoch: [78/100], lr: 0.022949, Loss: 2.2951: 100%|██████████| 105/105 [01:37<00:00,  1.08it/s]\n",
            "Train Epoch: [79/100], lr: 0.020984, Loss: 2.2878: 100%|██████████| 105/105 [01:37<00:00,  1.08it/s]\n",
            "Train Epoch: [80/100], lr: 0.019098, Loss: 2.2730: 100%|██████████| 105/105 [01:37<00:00,  1.08it/s]\n",
            "Train Epoch: [81/100], lr: 0.017292, Loss: 2.2381: 100%|██████████| 105/105 [01:37<00:00,  1.08it/s]\n",
            "Feature extracting: 100%|██████████| 106/106 [00:44<00:00,  2.41it/s]\n",
            "Test Epoch: [81/100] Acc@1:99.01%: 100%|██████████| 106/106 [00:47<00:00,  2.21it/s]\n"
          ]
        },
        {
          "output_type": "display_data",
          "data": {
            "application/javascript": [
              "\n",
              "    async function download(id, filename, size) {\n",
              "      if (!google.colab.kernel.accessAllowed) {\n",
              "        return;\n",
              "      }\n",
              "      const div = document.createElement('div');\n",
              "      const label = document.createElement('label');\n",
              "      label.textContent = `Downloading \"${filename}\": `;\n",
              "      div.appendChild(label);\n",
              "      const progress = document.createElement('progress');\n",
              "      progress.max = size;\n",
              "      div.appendChild(progress);\n",
              "      document.body.appendChild(div);\n",
              "\n",
              "      const buffers = [];\n",
              "      let downloaded = 0;\n",
              "\n",
              "      const channel = await google.colab.kernel.comms.open(id);\n",
              "      // Send a message to notify the kernel that we're ready.\n",
              "      channel.send({})\n",
              "\n",
              "      for await (const message of channel.messages) {\n",
              "        // Send a message to notify the kernel that we're ready.\n",
              "        channel.send({})\n",
              "        if (message.buffers) {\n",
              "          for (const buffer of message.buffers) {\n",
              "            buffers.push(buffer);\n",
              "            downloaded += buffer.byteLength;\n",
              "            progress.value = downloaded;\n",
              "          }\n",
              "        }\n",
              "      }\n",
              "      const blob = new Blob(buffers, {type: 'application/binary'});\n",
              "      const a = document.createElement('a');\n",
              "      a.href = window.URL.createObjectURL(blob);\n",
              "      a.download = filename;\n",
              "      div.appendChild(a);\n",
              "      a.click();\n",
              "      div.remove();\n",
              "    }\n",
              "  "
            ],
            "text/plain": [
              "<IPython.core.display.Javascript object>"
            ]
          },
          "metadata": {}
        },
        {
          "output_type": "display_data",
          "data": {
            "application/javascript": [
              "download(\"download_21d9b58b-4813-477d-9c53-f71c464e07c8\", \"model_last.pth\", 137090969)"
            ],
            "text/plain": [
              "<IPython.core.display.Javascript object>"
            ]
          },
          "metadata": {}
        },
        {
          "output_type": "stream",
          "name": "stderr",
          "text": [
            "Train Epoch: [82/100], lr: 0.015567, Loss: 2.2251: 100%|██████████| 105/105 [01:37<00:00,  1.08it/s]\n",
            "Train Epoch: [83/100], lr: 0.013926, Loss: 2.2212: 100%|██████████| 105/105 [01:37<00:00,  1.08it/s]\n",
            "Train Epoch: [84/100], lr: 0.012369, Loss: 2.1851: 100%|██████████| 105/105 [01:37<00:00,  1.08it/s]\n",
            "Train Epoch: [85/100], lr: 0.010899, Loss: 2.1867: 100%|██████████| 105/105 [01:37<00:00,  1.08it/s]\n",
            "Train Epoch: [86/100], lr: 0.009517, Loss: 2.1740: 100%|██████████| 105/105 [01:37<00:00,  1.08it/s]\n",
            "Train Epoch: [87/100], lr: 0.008225, Loss: 2.1520: 100%|██████████| 105/105 [01:37<00:00,  1.08it/s]\n",
            "Train Epoch: [88/100], lr: 0.007022, Loss: 2.1485: 100%|██████████| 105/105 [01:37<00:00,  1.08it/s]\n",
            "Train Epoch: [89/100], lr: 0.005912, Loss: 2.1386: 100%|██████████| 105/105 [01:37<00:00,  1.08it/s]\n",
            "Train Epoch: [90/100], lr: 0.004894, Loss: 2.1190: 100%|██████████| 105/105 [01:37<00:00,  1.08it/s]\n",
            "Train Epoch: [91/100], lr: 0.003971, Loss: 2.1190: 100%|██████████| 105/105 [01:37<00:00,  1.08it/s]\n",
            "Feature extracting: 100%|██████████| 106/106 [00:43<00:00,  2.41it/s]\n",
            "Test Epoch: [91/100] Acc@1:99.48%: 100%|██████████| 106/106 [00:48<00:00,  2.20it/s]\n",
            "Train Epoch: [92/100], lr: 0.003142, Loss: 2.0952: 100%|██████████| 105/105 [01:37<00:00,  1.08it/s]\n",
            "Train Epoch: [93/100], lr: 0.002408, Loss: 2.0874: 100%|██████████| 105/105 [01:37<00:00,  1.08it/s]\n",
            "Train Epoch: [94/100], lr: 0.001771, Loss: 2.0799: 100%|██████████| 105/105 [01:37<00:00,  1.08it/s]\n",
            "Train Epoch: [95/100], lr: 0.001231, Loss: 2.0845: 100%|██████████| 105/105 [01:37<00:00,  1.08it/s]\n",
            "Train Epoch: [96/100], lr: 0.000789, Loss: 2.0823: 100%|██████████| 105/105 [01:37<00:00,  1.08it/s]\n",
            "Train Epoch: [97/100], lr: 0.000444, Loss: 2.0731: 100%|██████████| 105/105 [01:37<00:00,  1.08it/s]\n",
            "Train Epoch: [98/100], lr: 0.000197, Loss: 2.0617: 100%|██████████| 105/105 [01:37<00:00,  1.08it/s]\n",
            "Train Epoch: [99/100], lr: 0.000049, Loss: 2.0559: 100%|██████████| 105/105 [01:37<00:00,  1.08it/s]\n",
            "Train Epoch: [100/100], lr: 0.000000, Loss: 2.0709: 100%|██████████| 105/105 [01:37<00:00,  1.08it/s]\n"
          ]
        }
      ],
      "source": [
        "# define optimizer\n",
        "optimizer = torch.optim.SGD(model.parameters(), lr=args.lr, weight_decay=args.wd, momentum=0.9)\n",
        "\n",
        "# load model if resume\n",
        "epoch_start = 1\n",
        "if args.resume is not '':\n",
        "    checkpoint = torch.load(args.resume)\n",
        "    model.load_state_dict(checkpoint['state_dict'])\n",
        "    optimizer.load_state_dict(checkpoint['optimizer'])\n",
        "    epoch_start = checkpoint['epoch'] + 1\n",
        "    print('Loaded from: {}'.format(args.resume))\n",
        "\n",
        "# logging\n",
        "results = {'train_loss': [], 'test_acc@1': []}\n",
        "if not os.path.exists(args.results_dir):\n",
        "    os.mkdir(args.results_dir)\n",
        "# dump args\n",
        "with open(args.results_dir + '/args.json', 'w') as fid:\n",
        "    json.dump(args.__dict__, fid, indent=2)\n",
        "\n",
        "# training loop\n",
        "for epoch in range(epoch_start, args.epochs + 1):\n",
        "    train_loss = train(model, train_loader, optimizer, epoch, args)\n",
        "    results['train_loss'].append(train_loss)\n",
        "    if epoch%10 == 1:\n",
        "      test_acc_1 = test(model.encoder_q, memory_loader, test_loader, epoch, args)\n",
        "    results['test_acc@1'].append(test_acc_1)\n",
        "    # save statistics\n",
        "    data_frame = pd.DataFrame(data=results, index=range(epoch_start, epoch + 1))\n",
        "    data_frame.to_csv(args.results_dir + '/log.csv', index_label='epoch')\n",
        "    # save model\n",
        "    torch.save({'epoch': epoch, 'state_dict': model.state_dict(), 'optimizer' : optimizer.state_dict(),}, args.results_dir + '/model_last.pth')\n",
        "\n",
        "    if epoch%20 == 1:\n",
        "      files.download(args.results_dir + '/model_last.pth')"
      ]
    }
  ],
  "metadata": {
    "accelerator": "GPU",
    "colab": {
      "name": "moco_cifar10_demo",
      "provenance": []
    },
    "environment": {
      "name": "pytorch-gpu.1-4.m50",
      "type": "gcloud",
      "uri": "gcr.io/deeplearning-platform-release/pytorch-gpu.1-4:m50"
    },
    "kernelspec": {
      "display_name": "Python 3",
      "language": "python",
      "name": "python3"
    },
    "language_info": {
      "codemirror_mode": {
        "name": "ipython",
        "version": 3
      },
      "file_extension": ".py",
      "mimetype": "text/x-python",
      "name": "python",
      "nbconvert_exporter": "python",
      "pygments_lexer": "ipython3",
      "version": "3.7.6"
    }
  },
  "nbformat": 4,
  "nbformat_minor": 0
}